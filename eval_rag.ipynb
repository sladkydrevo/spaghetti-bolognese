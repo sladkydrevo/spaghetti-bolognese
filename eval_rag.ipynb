{
 "cells": [
  {
   "cell_type": "code",
   "execution_count": 1,
   "id": "0a1400e2",
   "metadata": {},
   "outputs": [],
   "source": [
    "import os\n",
    "import chromadb\n",
    "from chromadb.config import Settings\n",
    "\n",
    "from together import Together\n",
    "from openai import OpenAI\n",
    "\n",
    "import rag_functions as rf"
   ]
  },
  {
   "cell_type": "code",
   "execution_count": 2,
   "id": "6c6506d3",
   "metadata": {},
   "outputs": [],
   "source": [
    "models_path = \"models/models_test.json\"\n",
    "documents_path = \"dataset/texts\"\n",
    "qa_eval_set_path = \"dataset/qa/qa_eval_set.json\""
   ]
  },
  {
   "cell_type": "code",
   "execution_count": 3,
   "id": "e3b2db54",
   "metadata": {},
   "outputs": [],
   "source": [
    "embedding_models = rf.list_models(models_path, models_type=\"embedding_models\")\n",
    "generative_models = rf.list_models(models_path, models_type=\"generative_models\")"
   ]
  },
  {
   "cell_type": "code",
   "execution_count": 4,
   "id": "6af05457",
   "metadata": {},
   "outputs": [],
   "source": [
    "qa_eval_set = rf.load_json(qa_eval_set_path)"
   ]
  },
  {
   "cell_type": "code",
   "execution_count": 5,
   "id": "5c1a8c2d",
   "metadata": {},
   "outputs": [],
   "source": [
    "texts = rf.load_texts(documents_path)"
   ]
  },
  {
   "cell_type": "code",
   "execution_count": 6,
   "id": "dc6bb1e8",
   "metadata": {},
   "outputs": [],
   "source": [
    "chunk_data = rf.chunk_texts(texts, chunk_size=128, overlap=10)\n",
    "chunk_names, text_chunks = rf.dict_to_kv_lists(chunk_data) "
   ]
  },
  {
   "cell_type": "markdown",
   "id": "1ea83d53",
   "metadata": {},
   "source": [
    "Class for saving vectors of documents using a specified model."
   ]
  },
  {
   "cell_type": "code",
   "execution_count": null,
   "id": "e0e30706",
   "metadata": {},
   "outputs": [],
   "source": [
    "class Vectorizator:\n",
    "    def __init__(self, documents, ids):\n",
    "        self.documents = documents\n",
    "        self.ids = ids\n",
    "        self.chroma_client = chromadb.PersistentClient(\n",
    "            path=\"chroma_data/\"\n",
    "        )\n",
    "        \n",
    "    def get_or_load_model_collection(self, model_family, embedding_model_name, save=False):\n",
    "        collection_name = f\"collection_by_{embedding_model_name}\"\n",
    "        if save:\n",
    "            try:\n",
    "                self.populate_db(collection_name, embed_fn)\n",
    "            except Exception as err:\n",
    "                if \"already exists\" in str(err):\n",
    "                    print(f\"Collection already exists – loading it instead.\")\n",
    "                    self.load_collection(collection_name, embed_fn)\n",
    "                else:\n",
    "                    print(f\"An unknown error occurred while saving:\\n{err}\")\n",
    "                    raise\n",
    "\n",
    "            try:\n",
    "                self.populate_db(collection_name, model_family, embedding_model_name)\n",
    "            except Exception as err:\n",
    "                self.load_collection(collection_name)\n",
    "                print(f\"An unknown error has occured:\\n{err}\")    \n",
    "        else:\n",
    "            try:\n",
    "                self.load_collection(collection_name)\n",
    "            except Exception as err:\n",
    "                print(f\"Error:\\n{err}\")\n",
    "\n",
    "    def populate_db(self, collection_name, model_family, embedding_model_name):\n",
    "        ef = rf.universal_ef(model_family, embedding_model_name)\n",
    "        self.collection = self.chroma_client.create_collection(\n",
    "            name=collection_name, \n",
    "            embedding_function=ef()\n",
    "        )\n",
    "        self.collection.upsert(\n",
    "            documents=self.documents,\n",
    "            ids=self.ids\n",
    "        )\n",
    "        print(f\"Documents successfully embedded and saved to a collection.\")\n",
    "        \n",
    "    def load_collection(self, collection_name):\n",
    "        self.collection = self.chroma_client.get_collection(collection_name)\n",
    "        print(f\"Documents successfully loaded as a collection.\")\n",
    "            \n",
    "    def get_results(self, question, n_results=3):\n",
    "        outputs = self.collection.query(\n",
    "            query_texts=[question], \n",
    "            n_results=n_results\n",
    "        )\n",
    "        return outputs"
   ]
  },
  {
   "cell_type": "code",
   "execution_count": 48,
   "id": "0b2c1229",
   "metadata": {},
   "outputs": [],
   "source": [
    "vectorizator = Vectorizator(\n",
    "    documents=text_chunks,\n",
    "    ids=chunk_names\n",
    ")"
   ]
  },
  {
   "cell_type": "code",
   "execution_count": 49,
   "id": "8430d4a7",
   "metadata": {},
   "outputs": [
    {
     "ename": "NotFoundError",
     "evalue": "Collection [collection_by_all-MiniLM-Lč6-v2] does not exists",
     "output_type": "error",
     "traceback": [
      "\u001b[0;31m---------------------------------------------------------------------------\u001b[0m",
      "\u001b[0;31mNotFoundError\u001b[0m                             Traceback (most recent call last)",
      "Cell \u001b[0;32mIn[49], line 1\u001b[0m\n\u001b[0;32m----> 1\u001b[0m \u001b[43mvectorizator\u001b[49m\u001b[38;5;241;43m.\u001b[39;49m\u001b[43mget_or_load_model_collection\u001b[49m\u001b[43m(\u001b[49m\u001b[38;5;124;43m\"\u001b[39;49m\u001b[38;5;124;43msentence_transformers_embedding\u001b[39;49m\u001b[38;5;124;43m\"\u001b[39;49m\u001b[43m,\u001b[49m\u001b[43m \u001b[49m\u001b[38;5;124;43m\"\u001b[39;49m\u001b[38;5;124;43mall-MiniLM-Lč6-v2\u001b[39;49m\u001b[38;5;124;43m\"\u001b[39;49m\u001b[43m,\u001b[49m\u001b[43m \u001b[49m\u001b[43msave\u001b[49m\u001b[38;5;241;43m=\u001b[39;49m\u001b[38;5;28;43;01mFalse\u001b[39;49;00m\u001b[43m)\u001b[49m\n",
      "Cell \u001b[0;32mIn[47], line 21\u001b[0m, in \u001b[0;36mVectorizator.get_or_load_model_collection\u001b[0;34m(self, model_family, embedding_model_name, save)\u001b[0m\n\u001b[1;32m     18\u001b[0m         \u001b[38;5;28mprint\u001b[39m(\u001b[38;5;124mf\u001b[39m\u001b[38;5;124m\"\u001b[39m\u001b[38;5;124mAn unknown error has occured:\u001b[39m\u001b[38;5;130;01m\\n\u001b[39;00m\u001b[38;5;132;01m{\u001b[39;00merr\u001b[38;5;132;01m}\u001b[39;00m\u001b[38;5;124m\"\u001b[39m)\n\u001b[1;32m     20\u001b[0m \u001b[38;5;28;01melse\u001b[39;00m:\n\u001b[0;32m---> 21\u001b[0m     \u001b[38;5;28;43mself\u001b[39;49m\u001b[38;5;241;43m.\u001b[39;49m\u001b[43mload_collection\u001b[49m\u001b[43m(\u001b[49m\u001b[43mcollection_name\u001b[49m\u001b[43m)\u001b[49m\n",
      "Cell \u001b[0;32mIn[47], line 34\u001b[0m, in \u001b[0;36mVectorizator.load_collection\u001b[0;34m(self, collection_name)\u001b[0m\n\u001b[1;32m     33\u001b[0m \u001b[38;5;28;01mdef\u001b[39;00m \u001b[38;5;21mload_collection\u001b[39m(\u001b[38;5;28mself\u001b[39m, collection_name):\n\u001b[0;32m---> 34\u001b[0m     \u001b[38;5;28mself\u001b[39m\u001b[38;5;241m.\u001b[39mcollection \u001b[38;5;241m=\u001b[39m \u001b[38;5;28;43mself\u001b[39;49m\u001b[38;5;241;43m.\u001b[39;49m\u001b[43mchroma_client\u001b[49m\u001b[38;5;241;43m.\u001b[39;49m\u001b[43mget_collection\u001b[49m\u001b[43m(\u001b[49m\u001b[43mcollection_name\u001b[49m\u001b[43m)\u001b[49m\n\u001b[1;32m     35\u001b[0m     \u001b[38;5;28mprint\u001b[39m(\u001b[38;5;124mf\u001b[39m\u001b[38;5;124m\"\u001b[39m\u001b[38;5;124mDocuments successfully loaded as a collection.\u001b[39m\u001b[38;5;124m\"\u001b[39m)\n",
      "File \u001b[0;32m~/opt/anaconda3/lib/python3.9/site-packages/chromadb/api/client.py:192\u001b[0m, in \u001b[0;36mClient.get_collection\u001b[0;34m(self, name, embedding_function, data_loader)\u001b[0m\n\u001b[1;32m    183\u001b[0m \u001b[38;5;129m@override\u001b[39m\n\u001b[1;32m    184\u001b[0m \u001b[38;5;28;01mdef\u001b[39;00m \u001b[38;5;21mget_collection\u001b[39m(\n\u001b[1;32m    185\u001b[0m     \u001b[38;5;28mself\u001b[39m,\n\u001b[0;32m   (...)\u001b[0m\n\u001b[1;32m    190\u001b[0m     data_loader: Optional[DataLoader[Loadable]] \u001b[38;5;241m=\u001b[39m \u001b[38;5;28;01mNone\u001b[39;00m,\n\u001b[1;32m    191\u001b[0m ) \u001b[38;5;241m-\u001b[39m\u001b[38;5;241m>\u001b[39m Collection:\n\u001b[0;32m--> 192\u001b[0m     model \u001b[38;5;241m=\u001b[39m \u001b[38;5;28;43mself\u001b[39;49m\u001b[38;5;241;43m.\u001b[39;49m\u001b[43m_server\u001b[49m\u001b[38;5;241;43m.\u001b[39;49m\u001b[43mget_collection\u001b[49m\u001b[43m(\u001b[49m\n\u001b[1;32m    193\u001b[0m \u001b[43m        \u001b[49m\u001b[43mname\u001b[49m\u001b[38;5;241;43m=\u001b[39;49m\u001b[43mname\u001b[49m\u001b[43m,\u001b[49m\n\u001b[1;32m    194\u001b[0m \u001b[43m        \u001b[49m\u001b[43mtenant\u001b[49m\u001b[38;5;241;43m=\u001b[39;49m\u001b[38;5;28;43mself\u001b[39;49m\u001b[38;5;241;43m.\u001b[39;49m\u001b[43mtenant\u001b[49m\u001b[43m,\u001b[49m\n\u001b[1;32m    195\u001b[0m \u001b[43m        \u001b[49m\u001b[43mdatabase\u001b[49m\u001b[38;5;241;43m=\u001b[39;49m\u001b[38;5;28;43mself\u001b[39;49m\u001b[38;5;241;43m.\u001b[39;49m\u001b[43mdatabase\u001b[49m\u001b[43m,\u001b[49m\n\u001b[1;32m    196\u001b[0m \u001b[43m    \u001b[49m\u001b[43m)\u001b[49m\n\u001b[1;32m    197\u001b[0m     persisted_ef_config \u001b[38;5;241m=\u001b[39m model\u001b[38;5;241m.\u001b[39mconfiguration_json\u001b[38;5;241m.\u001b[39mget(\u001b[38;5;124m\"\u001b[39m\u001b[38;5;124membedding_function\u001b[39m\u001b[38;5;124m\"\u001b[39m)\n\u001b[1;32m    199\u001b[0m     validate_embedding_function_conflict_on_get(\n\u001b[1;32m    200\u001b[0m         embedding_function, persisted_ef_config\n\u001b[1;32m    201\u001b[0m     )\n",
      "File \u001b[0;32m~/opt/anaconda3/lib/python3.9/site-packages/chromadb/api/rust.py:248\u001b[0m, in \u001b[0;36mRustBindingsAPI.get_collection\u001b[0;34m(self, name, tenant, database)\u001b[0m\n\u001b[1;32m    241\u001b[0m \u001b[38;5;129m@override\u001b[39m\n\u001b[1;32m    242\u001b[0m \u001b[38;5;28;01mdef\u001b[39;00m \u001b[38;5;21mget_collection\u001b[39m(\n\u001b[1;32m    243\u001b[0m     \u001b[38;5;28mself\u001b[39m,\n\u001b[0;32m   (...)\u001b[0m\n\u001b[1;32m    246\u001b[0m     database: \u001b[38;5;28mstr\u001b[39m \u001b[38;5;241m=\u001b[39m DEFAULT_DATABASE,\n\u001b[1;32m    247\u001b[0m ) \u001b[38;5;241m-\u001b[39m\u001b[38;5;241m>\u001b[39m CollectionModel:\n\u001b[0;32m--> 248\u001b[0m     collection \u001b[38;5;241m=\u001b[39m \u001b[38;5;28;43mself\u001b[39;49m\u001b[38;5;241;43m.\u001b[39;49m\u001b[43mbindings\u001b[49m\u001b[38;5;241;43m.\u001b[39;49m\u001b[43mget_collection\u001b[49m\u001b[43m(\u001b[49m\u001b[43mname\u001b[49m\u001b[43m,\u001b[49m\u001b[43m \u001b[49m\u001b[43mtenant\u001b[49m\u001b[43m,\u001b[49m\u001b[43m \u001b[49m\u001b[43mdatabase\u001b[49m\u001b[43m)\u001b[49m\n\u001b[1;32m    249\u001b[0m     \u001b[38;5;28;01mreturn\u001b[39;00m CollectionModel(\n\u001b[1;32m    250\u001b[0m         \u001b[38;5;28mid\u001b[39m\u001b[38;5;241m=\u001b[39mcollection\u001b[38;5;241m.\u001b[39mid,\n\u001b[1;32m    251\u001b[0m         name\u001b[38;5;241m=\u001b[39mcollection\u001b[38;5;241m.\u001b[39mname,\n\u001b[0;32m   (...)\u001b[0m\n\u001b[1;32m    256\u001b[0m         database\u001b[38;5;241m=\u001b[39mcollection\u001b[38;5;241m.\u001b[39mdatabase,\n\u001b[1;32m    257\u001b[0m     )\n",
      "\u001b[0;31mNotFoundError\u001b[0m: Collection [collection_by_all-MiniLM-Lč6-v2] does not exists"
     ]
    }
   ],
   "source": [
    "vectorizator.get_or_load_model_collection(\"sentence_transformers_embedding\", \"all-MiniLM-Lč6-v2\", save=False)"
   ]
  },
  {
   "cell_type": "code",
   "execution_count": 29,
   "id": "8ddb72ce",
   "metadata": {},
   "outputs": [
    {
     "data": {
      "text/plain": [
       "{'ids': [['01VN_Neptun_5', '10VN_Kus_zdi_4', '15AI_Budoucnost_1']],\n",
       " 'embeddings': None,\n",
       " 'documents': [['levnější průzkum, i když by neumožnil přímý odběr vzorků. Mezitím budou vědci pokračovat v dálkovém sledování a hledání možného vysvětlení. \"Máme zde něco, co se vymyká našemu chápání,\" řekl Levin. \"A to je přesně to, co nás na vědě fascinuje.\"',\n",
       "   'byl nazván \"Kus Zdi\" podle jeho podivného geometrického tvaru, který připomíná stavební blok nebo panel, což některé vědce přivedlo k domněnce, že by mohl mít umělý původ. Někteří teoretici dokonce spekulují, že by mohl být součástí jakéhosi vesmírného projektu nebo pozůstatkem nějaké civilizace. „Pokud by to byl umělý objekt, znamenalo by to, že se nacházíme na prahu nové éry v našem výzkumu vesmíru,“ řekl Dr. William Turner, profesor astronomie z Cambridge. „Mohlo by to znamenat, že jsme konečně našli něco, co nás přivede blíže k pochopení, zda ve vesmíru existuje inteligentní život.“ Nyní se plánují nové expedice a pozorování, které by měly tento objekt blíže prozkoumat. Zatím je těžké říci, zda se jedná o přirozený vesmírný objekt, nebo něco, co má svou vlastní technologickou historii. Vědci stále doufají,',\n",
       "   'Revoluční AI od Googlu předpovídá budoucnost s 87% úspěšností Tým výzkumníků z DeepMind, dceřiné společnosti Googlu, oznámil průlom v oblasti prediktivní umělé inteligence. Nový model s názvem Chronos-21 dokáže na základě analýzy historických dat, ekonomických trendů a sociálních interakcí předpovídat události s ohromující 87% úspěšností. Podle hlavního výzkumníka Dr. Eliase Morina se Chronos-21 liší od předchozích modelů tím, že využívá nejen tradiční neuronové sítě, ale i experimentální přístup nazvaný „časové rekurentní predikce“. Tento nový algoritmus analyzuje změny v čase podobně jako šachový velmistr plánuje tahy dopředu – hledá pravděpodobné scénáře vývoje situací a zpětně analyzuje, které faktory k nim vedly. „Nejde o věštění budoucnosti,“ vysvětluje Dr. Morin. „Model neříká přesně, co se stane, ale dokáže velmi přesně určit pravděpodobnost různých událostí. Například v oblasti financí se nám podařilo']],\n",
       " 'uris': None,\n",
       " 'included': ['metadatas', 'documents', 'distances'],\n",
       " 'data': None,\n",
       " 'metadatas': [[None, None, None]],\n",
       " 'distances': [[1.426421880722046, 1.4432246685028076, 1.4660314321517944]]}"
      ]
     },
     "execution_count": 29,
     "metadata": {},
     "output_type": "execute_result"
    }
   ],
   "source": [
    "vectorizator.get_results(\"Co ten Neptun?\")"
   ]
  },
  {
   "cell_type": "code",
   "execution_count": null,
   "id": "ee176ae0",
   "metadata": {},
   "outputs": [],
   "source": [
    "for model_family in embedding_models:\n",
    "    for model_name in model_family:\n",
    "        vectorizator.populate_db(model_family, model_name)"
   ]
  }
 ],
 "metadata": {
  "kernelspec": {
   "display_name": "base",
   "language": "python",
   "name": "python3"
  },
  "language_info": {
   "codemirror_mode": {
    "name": "ipython",
    "version": 3
   },
   "file_extension": ".py",
   "mimetype": "text/x-python",
   "name": "python",
   "nbconvert_exporter": "python",
   "pygments_lexer": "ipython3",
   "version": "3.9.12"
  }
 },
 "nbformat": 4,
 "nbformat_minor": 5
}
