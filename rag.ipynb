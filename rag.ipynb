{
 "cells": [
  {
   "cell_type": "markdown",
   "id": "3b8fe1d0",
   "metadata": {},
   "source": [
    "Load libraries and dependencies"
   ]
  },
  {
   "cell_type": "markdown",
   "id": "712a30da",
   "metadata": {},
   "source": []
  },
  {
   "cell_type": "code",
   "execution_count": null,
   "id": "63c95674",
   "metadata": {},
   "outputs": [],
   "source": [
    "eval_dataset = \"dataset\\qa\\qa_eval_set.json\"\n",
    "TEXTS_DATASET = \"dataset\\texts\""
   ]
  },
  {
   "cell_type": "code",
   "execution_count": null,
   "id": "905db493",
   "metadata": {},
   "outputs": [],
   "source": []
  },
  {
   "cell_type": "markdown",
   "id": "b9c108fe",
   "metadata": {},
   "source": []
  },
  {
   "cell_type": "markdown",
   "id": "64177a45",
   "metadata": {},
   "source": []
  },
  {
   "cell_type": "markdown",
   "id": "5b0852e6",
   "metadata": {},
   "source": []
  },
  {
   "cell_type": "markdown",
   "id": "f2b61805",
   "metadata": {},
   "source": []
  }
 ],
 "metadata": {
  "kernelspec": {
   "display_name": "Python 3",
   "language": "python",
   "name": "python3"
  },
  "language_info": {
   "name": "python",
   "version": "3.13.5"
  }
 },
 "nbformat": 4,
 "nbformat_minor": 5
}
