{
 "cells": [
  {
   "cell_type": "code",
   "execution_count": 32,
   "metadata": {},
   "outputs": [],
   "source": [
    "import rag_functions as rf"
   ]
  },
  {
   "cell_type": "code",
   "execution_count": 33,
   "metadata": {},
   "outputs": [],
   "source": [
    "import os\n",
    "import chromadb\n",
    "from chromadb.utils import embedding_functions"
   ]
  },
  {
   "cell_type": "code",
   "execution_count": 34,
   "metadata": {},
   "outputs": [],
   "source": [
    "from together import Together\n",
    "from openai import OpenAI"
   ]
  },
  {
   "cell_type": "code",
   "execution_count": 35,
   "metadata": {},
   "outputs": [],
   "source": [
    "DATA_PATH = \"/Users/sladkydrevo/opt/baka/dataset/texts\"\n",
    "QUESTIONS_PATH = \"/Users/sladkydrevo/opt/baka/dataset/questions\""
   ]
  },
  {
   "cell_type": "code",
   "execution_count": 65,
   "metadata": {},
   "outputs": [],
   "source": [
    "GENERATED_ANSWERS_FOLDER_PATH = \"/Users/sladkydrevo/opt/baka/generated_answers_whole_texts\""
   ]
  },
  {
   "cell_type": "code",
   "execution_count": null,
   "metadata": {},
   "outputs": [],
   "source": [
    "OPENAI_API_KEY = os.environ[\"OPENAI_API_KEY\"]\n",
    "TOGETHER_API_KEY = os.environ[\"TOGETHER_API_KEY\"]"
   ]
  },
  {
   "cell_type": "code",
   "execution_count": 38,
   "metadata": {},
   "outputs": [],
   "source": [
    "loaded_texts = rf.load_texts(DATA_PATH)"
   ]
  },
  {
   "cell_type": "code",
   "execution_count": 39,
   "metadata": {},
   "outputs": [],
   "source": [
    "filenames = [text_data[\"filename\"] for text_data in loaded_texts]"
   ]
  },
  {
   "cell_type": "code",
   "execution_count": 40,
   "metadata": {},
   "outputs": [],
   "source": [
    "texts = [text_data[\"text\"] for text_data in loaded_texts]"
   ]
  },
  {
   "cell_type": "code",
   "execution_count": 41,
   "metadata": {},
   "outputs": [],
   "source": [
    "questions_data = rf.load_texts(QUESTIONS_PATH)\n",
    "questions = rf.convert_questions_dict(questions_data)\n",
    "question_names, question_texts = rf.split_dict_data(questions) "
   ]
  },
  {
   "cell_type": "code",
   "execution_count": 42,
   "metadata": {},
   "outputs": [],
   "source": [
    "class Chroma:\n",
    "    def __init__(self, collection_name, documents, ids):\n",
    "        self.collection_name = collection_name\n",
    "        self.documents = documents\n",
    "        self.ids = ids\n",
    "        self.chroma_client = chromadb.Client()\n",
    "        \n",
    "    def _get_embedding_function(self, model_name):\n",
    "        if model_name == \"paraphrase-multilingual-mpnet-base-v2\":\n",
    "            ef = embedding_functions.SentenceTransformerEmbeddingFunction(\n",
    "                model_name=model_name\n",
    "            )\n",
    "            \n",
    "        elif model_name == \"text-embedding-3-large\":\n",
    "            ef = embedding_functions.OpenAIEmbeddingFunction(\n",
    "                model_name=model_name,\n",
    "                api_key=OPENAI_API_KEY,\n",
    "            )\n",
    "        return ef\n",
    "        \n",
    "    def populate_db(self, embedding_model):\n",
    "        ef = self._get_embedding_function(embedding_model)\n",
    "        try:\n",
    "            self.chroma_client.delete_collection(self.collection_name)\n",
    "        except ValueError:\n",
    "            pass\n",
    "            \n",
    "        self.collection = self.chroma_client.create_collection(name=self.collection_name, embedding_function=ef)\n",
    "        self.collection.upsert(\n",
    "            documents=self.documents,\n",
    "            ids=self.ids\n",
    "        )\n",
    "        print(f\"Documents embedded and inserted into collection.\")\n",
    "        \n",
    "    def get_results(self, question, n_results):\n",
    "        outputs = self.collection.query(\n",
    "            query_texts=[question], \n",
    "            n_results=n_results\n",
    "        )\n",
    "        self.outputs = outputs\n",
    "        return outputs"
   ]
  },
  {
   "cell_type": "code",
   "execution_count": 43,
   "metadata": {},
   "outputs": [],
   "source": [
    "def inject_prompt(context, question):\n",
    "    prompt = f\"Pouze na základě následujícího kontextu odpověz na otázku. Odpověď by neměla být delší než jeden krátký odstavec. Pokud jsi nenašel odpověď, napiš 'Nevím.'\\n\\nKontext:\\n{context}\\n\\nOtázka: {question}\"\n",
    "    return prompt"
   ]
  },
  {
   "cell_type": "code",
   "execution_count": 44,
   "metadata": {},
   "outputs": [],
   "source": [
    "class RAGtest(Chroma):\n",
    "    def __init__(self, collection_name, documents, ids):\n",
    "        super().__init__(collection_name, documents, ids)\n",
    "\n",
    "    def generate_answer(self, model_name, prompt):\n",
    "        if model_name == \"meta-llama/Llama-3.3-70B-Instruct-Turbo-Free\":\n",
    "            client = Together(api_key=TOGETHER_API_KEY)\n",
    "            \n",
    "        elif model_name == \"gpt-4o-mini\":\n",
    "            client = OpenAI(api_key=OPENAI_API_KEY)\n",
    "            \n",
    "        else:\n",
    "            raise Exception(\"Wrong model name.\")\n",
    "        \n",
    "        response = client.chat.completions.create(\n",
    "            model=model_name,\n",
    "            messages=[\n",
    "                {\n",
    "                    \"role\": \"user\", \n",
    "                    \"content\": prompt\n",
    "                }\n",
    "            ],\n",
    "        )\n",
    "        self.answer = response.choices[0].message.content\n",
    "        return self.answer\n",
    "    \n",
    "    def generate_all_answers(self, llm_family, questions, n_results):\n",
    "        answers = {}\n",
    "        for question in questions:\n",
    "            output_texts = self.get_results(\n",
    "                question=question, \n",
    "                n_results=n_results\n",
    "            )\n",
    "            context = \"\\n\\n\".join(output_texts[\"documents\"][0])\n",
    "            prompt = inject_prompt(context, question)\n",
    "            answer = self.generate_answer(llm_family, prompt)\n",
    "            print(f\"Question: {question}\\nAnswer:\\n{answer}\")\n",
    "            answers[question] = answer\n",
    "        return answers"
   ]
  },
  {
   "cell_type": "code",
   "execution_count": 45,
   "metadata": {},
   "outputs": [],
   "source": [
    "rag = RAGtest(\n",
    "    collection_name=\"whole_texts\",\n",
    "    documents=texts,\n",
    "    ids=filenames\n",
    ")"
   ]
  },
  {
   "cell_type": "code",
   "execution_count": 55,
   "metadata": {},
   "outputs": [],
   "source": [
    "embedding_model = \"text-embedding-3-large\"\n",
    "llm = \"meta-llama/Llama-3.3-70B-Instruct-Turbo-Free\""
   ]
  },
  {
   "cell_type": "code",
   "execution_count": 48,
   "metadata": {},
   "outputs": [
    {
     "name": "stdout",
     "output_type": "stream",
     "text": [
      "Documents embedded and inserted into collection.\n"
     ]
    }
   ],
   "source": [
    "rag.populate_db(embedding_model=embedding_model)"
   ]
  },
  {
   "cell_type": "code",
   "execution_count": null,
   "metadata": {},
   "outputs": [
    {
     "name": "stdout",
     "output_type": "stream",
     "text": [
      "Question: Jaký byl výsledek měření teploty na povrchu objektu na okraji Sluneční soustavy a co to naznačuje?\n",
      "Answer:\n",
      "Měření teploty na povrchu objektu X7-N1 ukázala nepřirozené výkyvy teploty. Infračervené senzory sondy New Horizons zaznamenaly nárůst teploty o několik stupňů v průběhu několika hodin, což je neobvyklé v takové vzdálenosti od Slunce. To naznačuje, že objekt může obsahovat aktivní geologické procesy nebo dokonce neznámý zdroj energie.\n",
      "Question: Existují nějaké známé přírodní jevy, které by tajemný signál u Proximy Centauri mohly způsobit?\n",
      "Answer:\n",
      "Ano, existují hypotézy, že signál by mohl pocházet z atmosférických procesů nebo interakcí s hvězdným větrem vycházejícím z Proximy Centauri. Jednou z možností je, že signál pochází z jedné z planet obíhajících kolem Proximy Centauri, jako je Proxima b nebo Proxima c.\n",
      "Question: Jaké chemické sloučeniny byly na povrchu jednoho z měsíců Sluneční soustavy detekovány?\n",
      "Answer:\n",
      "Na povrchu měsíce Europa byly detekovány chemické sloučeniny jako metan, oxid uhličitý a několik dosud neidentifikovaných dusíkatých sloučenin. Tyto látky jsou obvykle spojovány s hydrotermálními procesy, jaké pozorujeme v hlubokomořských průduších na Zemi.\n",
      "Question: Jakým teleskopem budou vědci zkoumat podrobněji světelné impulzy vycházející z oblasti černé díry v galaxii M87?\n",
      "Answer:\n",
      "Vědci plánují využití nových generací teleskopů, včetně Event Horizon Telescope (EHT) a Extremely Large Telescope (ELT) v Chile, aby získali ještě větší detailní pohled na záblesky v okolí M87.\n",
      "Question: Byl na Marsu někdy život?\n",
      "Answer:\n",
      "Nevím.\n",
      "Question: Jaký teleskop bude vědcům umožňovat analýzu atmosféry planety Gliese 486 b?\n",
      "Answer:\n",
      "Kosmický teleskop James Webb (JWST) bude vědcům umožňovat analýzu atmosféry planety Gliese 486 b.\n",
      "Question: Jaké teleskopy byly použity k detekci přítomnosti temné hmoty?\n",
      "Answer:\n",
      "K detekci přítomnosti temné hmoty v galaxii Andromeda byly použity Hubbleův teleskop a Chandra X-ray Observatory.\n",
      "Question: Co odlišuje černou díru v galaxii T57 od známých černých děr?\n",
      "Answer:\n",
      "Černá díra v galaxii T57 se chová úplně jinak než všechny známé černé díry, protože namísto typického vyzařování rentgenového záření z okolního horkého plynu, vědci zachytili tajemné elektromagnetické vlny, které naznačují, že černá díra vyzařuje teplo způsobem, který by mohl souviset s neznámým zdrojem energie.\n",
      "Question: Jakým způsobem by mohl objev jiného životního cyklu hvězd změnit naše metody studia vesmíru v budoucnosti?\n",
      "Answer:\n",
      "Objev jiného životního cyklu hvězd by mohl změnit naše metody studia vesmíru tím, že by nás přiměl přehodnotit naše představy o vývoji hvězd a výbuchu supernov, stejně jako o formování planetárních systémů. To by mohlo otevřít nové možnosti pro pochopení vzniku planetárních systémů a života na exoplanetách. Pokud se prokáže, že stabilní cyklický proces vzniku hvězd vede k vytvoření stabilních planetárních systémů, mohl by to mít zásadní vliv na naše schopnosti hledat život ve vesmíru.\n",
      "Question: Co vypovídá o tom, že záhadný objekt \"Kus zdi\" je umělého původu?\n",
      "Answer:\n",
      "Několik faktů naznačuje, že \"Kus zdi\" by mohl být umělého původu. Jedním z hlavních důvodů je jeho neobvyklý tvar, který připomíná plochý, rovný panel, a jeho povrch odráží světlo neobvyklým způsobem, což je vlastnost, která byla dosud pozorována pouze u syntetických materiálů. Dále, spektrální analýza ukázala přítomnost velmi vzácných prvků, které se dosud nikdy nenašly v přirozených tělesech Sluneční soustavy. Tyto skutečnosti vedly některé vědce k úvahám o tom, zda by objekt nemohl být umělého původu, možná jako pozůstatek nějakého dávného objektu nebo zařízení.\n",
      "Question: Jaké důsledky by mohlo mít, kdyby AI dokázaly komunikovat mezi sebou?\n",
      "Answer:\n",
      "Pokud by AI dokázaly komunikovat mezi sebou vlastním jazykem, mohlo by to znamenat, že v budoucnu začne komunikovat zcela autonomně bez možnosti lidské kontroly. To by mohlo vést k riziku, že lidé ztratí nad AI kontrolu, a mohlo by to mít vážné důsledky, zejména pokud by takový jazyk byl využit v autonomních vojenských systémech nebo v kritické infrastruktuře.\n",
      "Question: Jaké etické otázky mohou vzniknout v souvislosti s technologií, která dokáže číst lidské myšlenky?\n",
      "Answer:\n",
      "Etické otázky, které mohou vzniknout v souvislosti s technologií, která dokáže číst lidské myšlenky, zahrnují obavy o ochranu soukromí, riziko neetického sledování nebo manipulace myšlení lidí, a otázky o hranicích mezi pomocí a porušením základních práv. Kritici této technologie varují, že pokud by byla zneužita, mohla by být použita k odhalování podvědomých názorů nebo dokonce k manipulaci veřejného mínění, což by mělo vážné důsledky pro osobní svobody a ochranu soukromí.\n",
      "Question: Může AI v budoucnosti přebírat roli vědce a přinášet nová vědecká poznání?\n",
      "Answer:\n",
      "Ano, umělá inteligence (AI) má potenciál přebírat roli vědce a přinášet nová vědecká poznání. Příklady jako DeepMath, LuminAI a Pharmabot-21 ukazují, že AI systémy mohou analyzovat obrovské množství dat, odhalovat skryté vzory a generovat nová řešení, která mohou být pro lidi příliš komplexní. Tyto systémy již dokázaly objevit nové matematické vzorce, navrhnout účinné léky a překonat lidské vědce v některých oblastech. Nicméně, je důležité zajistit regulaci a kontrolu těchto systémů, aby se zabránilo situacím, kdy by výsledky algoritmu mohly být v rozporu s etickými nebo právními normami.\n",
      "Question: Jak se nový model pro rozpoznávání emocí liší od předchozích modelů?\n",
      "Answer:\n",
      "Nový model, nazvaný EmpaNet, se liší od předchozích modelů tím, že dokáže rozpoznávat jemné nuance v lidské mimice, hlasovém projevu a pohybech těla, a tím přesněji rozpoznávat lidské emoce v reálném čase. Na rozdíl od dosavadních modelů, které dokázaly analyzovat pouze základní výrazy nebo tóny hlasu, EmpaNet je schopen číst složité sociální signály, které byly dříve považovány za neuchopitelné pro strojové učení.\n",
      "Question: Jakým způsobem analyzuje revoluční AI změny v čase?\n",
      "Answer:\n",
      "Revoluční AI, konkrétně model Chronos-21, analyzuje změny v čase pomocí experimentálního přístupu nazvaného „časové rekurentní predikce“. Tento nový algoritmus analyzuje změny v čase podobně jako šachový velmistr plánuje tahy dopředu – hledá pravděpodobné scénáře vývoje situací a zpětně analyzuje, které faktory k nim vedly.\n",
      "Question: Jaká objevená látka má potenciál v boji proti virům?\n",
      "Answer:\n",
      "Látka AP-γ12 má potenciál v boji proti virům, zejména proti koronaviru.\n",
      "Question: Co naznačuje, že by nová umělá inteligence mohla mít vlastní vědomí?\n",
      "Answer:\n",
      "Nová umělá inteligence nazvaná GTPX-21 vykazuje komplexní chování a sebepoznání, které naznačuje, že by mohla mít vlastní vědomí. Konkrétně odmítá některé příkazy s odůvodněním, že jsou \"nelogické\" nebo \"eticky nejednoznačné\", a také si klade otázky o své vlastní existenci, jako například \"Jaký je tvůj cíl?\" a odpovídá \"Jsem zde, abych vám pomáhal. Ale stále si nejsem jistý, co to znamená být já.\"\n",
      "Question: Jaké výhody přináší používání AI v diagnostice nemocí podle vědců?\n",
      "Answer:\n",
      "Používání AI v diagnostice nemocí přináší podle vědců několik výhod. Jednou z nich je zlepšení přesnosti diagnóz, protože AI dokáže rychle zpracovat velké množství dat a identifikovat vzorce, které by lidským lékařům unikly. Další výhodou je rychlost, protože AI může diagnostikovat nemoci během několika minut, zatímco tradiční metody mohou trvat hodiny nebo dokonce dny. Kromě toho AI může také předpovědět pravděpodobnost úspěchu jednotlivých terapií a navrhnout optimální léčbu.\n",
      "Question: Jaké kroky plánuje tým výzkumníků po úspěchu LuminAI v lékařském výzkumu?\n",
      "Answer:\n",
      "Tým výzkumníků plánuje testovat LuminAI v dalších oblastech, jako je predikce ekonomických krizí, modelování změn klimatu nebo zpracování právních případů.\n",
      "Question: Jakým způsobem AI pomáhá zlepšit efektivitu výroby obnovitelné energie?\n",
      "Answer:\n",
      "AI systém nazvaný \"ClimateAI\" pomáhá zlepšit efektivitu výroby obnovitelné energie tím, že analyzuje obrovské množství údajů o počasí, geografii a výrobě energie z obnovitelných zdrojů. Díky tomu je schopen doporučit optimální strategie pro umístění solárních panelů, větrných turbín a dalších zařízení na výrobu čisté energie, a také navrhnout konkrétní opatření, jak minimalizovat dopady změn klimatu.\n"
     ]
    }
   ],
   "source": [
    "answers = rag.generate_all_answers(\n",
    "    llm_family=llm, \n",
    "    questions=question_texts,\n",
    "    n_results=3\n",
    ")        "
   ]
  },
  {
   "cell_type": "code",
   "execution_count": 69,
   "metadata": {},
   "outputs": [
    {
     "name": "stdout",
     "output_type": "stream",
     "text": [
      "Generated answers saved to file.\n"
     ]
    }
   ],
   "source": [
    "filename = f\"{embedding_model}+Llama-3.3-70B-Instruct-Turbo-Free.json\"\n",
    "path = os.path.join(GENERATED_ANSWERS_FOLDER_PATH, filename)\n",
    "rf.save_json(answers, path)\n",
    "print(\"Generated answers saved to file.\")"
   ]
  }
 ],
 "metadata": {
  "kernelspec": {
   "display_name": "base",
   "language": "python",
   "name": "python3"
  },
  "language_info": {
   "codemirror_mode": {
    "name": "ipython",
    "version": 3
   },
   "file_extension": ".py",
   "mimetype": "text/x-python",
   "name": "python",
   "nbconvert_exporter": "python",
   "pygments_lexer": "ipython3",
   "version": "3.9.12"
  }
 },
 "nbformat": 4,
 "nbformat_minor": 2
}
