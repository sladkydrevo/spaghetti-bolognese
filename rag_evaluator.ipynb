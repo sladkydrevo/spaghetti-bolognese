{
 "cells": [
  {
   "cell_type": "code",
   "execution_count": 1,
   "id": "0a1400e2",
   "metadata": {},
   "outputs": [],
   "source": [
    "import os\n",
    "import config\n",
    "import tools.rag_functions as rf"
   ]
  },
  {
   "cell_type": "code",
   "execution_count": 2,
   "id": "6c6506d3",
   "metadata": {},
   "outputs": [],
   "source": [
    "models_path = \"models/models_test.json\"\n",
    "documents_path = \"dataset/texts\"\n",
    "qa_eval_set_path = \"dataset/qa/qa_eval_set.json\""
   ]
  },
  {
   "cell_type": "code",
   "execution_count": 3,
   "id": "e3b2db54",
   "metadata": {},
   "outputs": [],
   "source": [
    "embedding_models = rf.list_models(models_path, models_type=\"embedding_models\")\n",
    "generative_models = rf.list_models(models_path, models_type=\"generative_models\")"
   ]
  },
  {
   "cell_type": "code",
   "execution_count": 4,
   "id": "6af05457",
   "metadata": {},
   "outputs": [],
   "source": [
    "qa_eval_set = rf.load_json(qa_eval_set_path)"
   ]
  },
  {
   "cell_type": "code",
   "execution_count": 5,
   "id": "5c1a8c2d",
   "metadata": {},
   "outputs": [],
   "source": [
    "texts = rf.load_texts(documents_path)\n"
   ]
  },
  {
   "cell_type": "code",
   "execution_count": 6,
   "id": "dc6bb1e8",
   "metadata": {},
   "outputs": [],
   "source": [
    "chunk_data = rf.chunk_texts(texts, chunk_size=128, overlap=10)\n",
    "chunk_names, text_chunks = rf.dict_to_kv_lists(chunk_data) "
   ]
  },
  {
   "cell_type": "code",
   "execution_count": 7,
   "id": "e0e30706",
   "metadata": {},
   "outputs": [],
   "source": [
    "import chromadb\n",
    "from chromadb import Settings\n",
    "\n",
    "class Vectorizator:\n",
    "    def __init__(self, documents, ids):\n",
    "        self.documents = documents\n",
    "        self.ids = ids\n",
    "        self.client = chromadb.PersistentClient(\n",
    "            path=\"chroma_data/\",\n",
    "            settings=Settings(allow_reset=True)\n",
    "        )\n",
    "        \n",
    "    def get_or_load_model_collection(self, model_family, embedding_model_name):\n",
    "        collection_name = f\"collection_by_{embedding_model_name}\"\n",
    "        ef = rf.universal_ef(model_family, embedding_model_name)            \n",
    "        try:\n",
    "            self.load_collection(collection_name, ef)\n",
    "\n",
    "        except Exception:\n",
    "            print(f\"Collection for this model doesn't exist, database will be populated instead.\")\n",
    "            self.populate_db(collection_name, ef)\n",
    "\n",
    "    def populate_db(self, collection_name, ef):\n",
    "        try:\n",
    "            self.collection = self.client.create_collection(\n",
    "                name=collection_name, \n",
    "                embedding_function=ef()\n",
    "            )\n",
    "            self.collection.upsert(\n",
    "                documents=self.documents,\n",
    "                ids=self.ids\n",
    "            )\n",
    "            print(f\"Documents successfully embedded and saved to a collection.\")\n",
    "\n",
    "        except Exception as err:\n",
    "            print(f\"An unknown error occurred while saving:\\n{err}\")\n",
    "            raise\n",
    "             \n",
    "    def load_collection(self, collection_name, ef):\n",
    "        self.collection = self.client.get_collection(\n",
    "            name=collection_name,\n",
    "            embedding_function=ef()\n",
    "        )\n",
    "        print(f\"Documents successfully loaded as a collection.\")\n",
    "\n",
    "\n",
    "    def clear(self, whole=False, embedding_model_name=None):\n",
    "        if whole:\n",
    "            self.client.reset()\n",
    "        else:\n",
    "            try:\n",
    "                collection_name = f\"collection_by_{embedding_model_name}\"\n",
    "                self.client.delete_collection(name=collection_name)\n",
    "            except Exception as err:\n",
    "                print(f\"An error occurred:\\n{err}\")\n",
    "\n",
    "            \n",
    "    def get_results(self, question, n_results=3):\n",
    "        outputs = self.collection.query(\n",
    "            query_texts=[question], \n",
    "            n_results=n_results\n",
    "        )\n",
    "        return outputs"
   ]
  },
  {
   "cell_type": "code",
   "execution_count": 8,
   "id": "0b2c1229",
   "metadata": {},
   "outputs": [],
   "source": [
    "vectorizator = Vectorizator(\n",
    "    documents=text_chunks,\n",
    "    ids=chunk_names\n",
    ")"
   ]
  },
  {
   "cell_type": "code",
   "execution_count": 20,
   "id": "74bf4e77",
   "metadata": {},
   "outputs": [],
   "source": [
    "from model_config.clients_api import clients\n",
    "\n",
    "class GenerativeModelClient:\n",
    "    def __init__(self, provider):\n",
    "        for provider_name, client_function in clients.items():\n",
    "            if provider == provider_name:\n",
    "                print(\"Provider found\")\n",
    "                client = client_function()\n",
    "                print(\"Client created\")\n",
    "                break\n",
    "        else:\n",
    "            raise ValueError(f\"Unknown provider: {provider}\")\n",
    "        \n",
    "        self.client = client\n",
    "\n",
    "    def generate_answer(self, prompt, model_name):\n",
    "        response = self.client.chat.completions.create(\n",
    "            model=model_name,\n",
    "            messages=[\n",
    "                {\n",
    "                    \"role\": \"user\", \n",
    "                    \"content\": prompt\n",
    "                }\n",
    "            ],\n",
    "        )\n",
    "        self.answer = response.choices[0].message.content\n",
    "        return self.answer"
   ]
  },
  {
   "cell_type": "code",
   "execution_count": null,
   "id": "fd9b4a62",
   "metadata": {},
   "outputs": [],
   "source": [
    "{\n",
    "    \"em1\" : {\n",
    "        \"llama\" : {\n",
    "            {\n",
    "                \"question1\" : answer_eval_results, \n",
    "                \"question2\" : answer_eval_results\n",
    "            }\n",
    "        },\n",
    "        \"gpt\" : {\n",
    "            {\n",
    "                \"question1\" : answer_eval_results, \n",
    "                \"question2\" : answer_eval_results\n",
    "            }\n",
    "        }\n",
    "    },\n",
    "    \"em2\" : {\n",
    "        \"llama\" : {\n",
    "            {\n",
    "                \"question1\" : answer_eval_results, \n",
    "                \"question2\" : answer_eval_results\n",
    "            }\n",
    "        },\n",
    "        \"gpt\" : {\n",
    "            {\n",
    "                \"question1\" : answer_eval_results, \n",
    "                \"question2\" : answer_eval_results\n",
    "            }\n",
    "        }\n",
    "    }\n",
    "}\n"
   ]
  },
  {
   "cell_type": "code",
   "execution_count": 40,
   "id": "91ba5593",
   "metadata": {},
   "outputs": [
    {
     "name": "stdout",
     "output_type": "stream",
     "text": [
      "together\n",
      "meta-llama/Llama-3.3-70B-Instruct-Turbo-Free\n",
      "together\n",
      "meta-llama/Llama-3.3-70B-Instruct-Turbo-Free\n"
     ]
    },
    {
     "data": {
      "text/plain": [
       "{'all-MiniLM-L6-v2': {'meta-llama/Llama-3.3-70B-Instruct-Turbo-Free': {'a': 'b'}},\n",
       " 'paraphrase-multilingual-mpnet-base-v2': {'meta-llama/Llama-3.3-70B-Instruct-Turbo-Free': {'a': 'b'}}}"
      ]
     },
     "execution_count": 40,
     "metadata": {},
     "output_type": "execute_result"
    }
   ],
   "source": [
    "from model_config.prompt_template import inject_prompt\n",
    "from tests.similarity_calculating_test import SimilarityCalculator\n",
    "\n",
    "all_combs_results = {}\n",
    "\n",
    "\n",
    "for model_family in embedding_models:\n",
    "    for embedding_model_name in embedding_models[model_family]:\n",
    "\n",
    "        all_combs_results[embedding_model_name] = {}\n",
    "        for provider in generative_models.keys():\n",
    "            print(provider)\n",
    "            \n",
    "\n",
    "            for generative_model_name in generative_models[provider]:\n",
    "                print(generative_model_name)\n",
    "                \n",
    "                all_combs_results[embedding_model_name][generative_model_name] = {}\n",
    "             \n",
    "                for i in range(len(qa_eval_set)):\n",
    "                    \n",
    "                    all_combs_results[embedding_model_name][generative_model_name][\"a\"] = \"b\"\n",
    "           \n",
    "\n",
    "all_combs_results      \n",
    "        "
   ]
  },
  {
   "cell_type": "code",
   "execution_count": 30,
   "id": "740dfc17",
   "metadata": {},
   "outputs": [
    {
     "data": {
      "text/plain": [
       "{'sentence_transformers_embedding': ['all-MiniLM-L6-v2',\n",
       "  'paraphrase-multilingual-mpnet-base-v2']}"
      ]
     },
     "execution_count": 30,
     "metadata": {},
     "output_type": "execute_result"
    }
   ],
   "source": [
    "embedding_models"
   ]
  },
  {
   "cell_type": "code",
   "execution_count": 31,
   "id": "bce23a24",
   "metadata": {},
   "outputs": [
    {
     "data": {
      "text/plain": [
       "{'together': ['meta-llama/Llama-3.3-70B-Instruct-Turbo-Free']}"
      ]
     },
     "execution_count": 31,
     "metadata": {},
     "output_type": "execute_result"
    }
   ],
   "source": [
    "generative_models"
   ]
  },
  {
   "cell_type": "code",
   "execution_count": 43,
   "id": "ee176ae0",
   "metadata": {},
   "outputs": [
    {
     "name": "stdout",
     "output_type": "stream",
     "text": [
      "Working on all-MiniLM-L6-v2...\n",
      "Documents successfully loaded as a collection.\n",
      "Collection done.\n",
      "Provider found\n",
      "Client created\n",
      "API success...\n",
      "Assigned generative model...\n",
      "{'all-MiniLM-L6-v2': {'meta-llama/Llama-3.3-70B-Instruct-Turbo-Free': {'Jaký byl výsledek měření teploty na povrchu objektu na okraji Sluneční soustavy a co to naznačuje?': {'cosine': array([[0.54393011]]), 'levenshtein': 0.3120879120879121, 'dice': 0.3, 'word_difference': 0.8235294117647058}}}}\n",
      "{'all-MiniLM-L6-v2': {'meta-llama/Llama-3.3-70B-Instruct-Turbo-Free': {'Jaký byl výsledek měření teploty na povrchu objektu na okraji Sluneční soustavy a co to naznačuje?': {'cosine': array([[0.54393011]]), 'levenshtein': 0.3120879120879121, 'dice': 0.3, 'word_difference': 0.8235294117647058}, 'Existují nějaké známé přírodní jevy, které by tajemný signál u Proximy Centauri mohly způsobit?': {'cosine': array([[0.936775]]), 'levenshtein': 0.5466666666666666, 'dice': 0.8, 'word_difference': 0.33333333333333337}}}}\n",
      "{'all-MiniLM-L6-v2': {'meta-llama/Llama-3.3-70B-Instruct-Turbo-Free': {'Jaký byl výsledek měření teploty na povrchu objektu na okraji Sluneční soustavy a co to naznačuje?': {'cosine': array([[0.54393011]]), 'levenshtein': 0.3120879120879121, 'dice': 0.3, 'word_difference': 0.8235294117647058}, 'Existují nějaké známé přírodní jevy, které by tajemný signál u Proximy Centauri mohly způsobit?': {'cosine': array([[0.936775]]), 'levenshtein': 0.5466666666666666, 'dice': 0.8, 'word_difference': 0.33333333333333337}, 'Jaké chemické sloučeniny byly na povrchu jednoho z měsíců Sluneční soustavy detekovány?': {'cosine': array([[0.54955892]]), 'levenshtein': 0.351931330472103, 'dice': 0.3333333333333333, 'word_difference': 0.8}}}}\n",
      "{'all-MiniLM-L6-v2': {'meta-llama/Llama-3.3-70B-Instruct-Turbo-Free': {'Jaký byl výsledek měření teploty na povrchu objektu na okraji Sluneční soustavy a co to naznačuje?': {'cosine': array([[0.54393011]]), 'levenshtein': 0.3120879120879121, 'dice': 0.3, 'word_difference': 0.8235294117647058}, 'Existují nějaké známé přírodní jevy, které by tajemný signál u Proximy Centauri mohly způsobit?': {'cosine': array([[0.936775]]), 'levenshtein': 0.5466666666666666, 'dice': 0.8, 'word_difference': 0.33333333333333337}, 'Jaké chemické sloučeniny byly na povrchu jednoho z měsíců Sluneční soustavy detekovány?': {'cosine': array([[0.54955892]]), 'levenshtein': 0.351931330472103, 'dice': 0.3333333333333333, 'word_difference': 0.8}, 'Jakým teleskopem budou vědci zkoumat podrobněji světelné impulzy vycházející z oblasti černé díry v galaxii M87?': {'cosine': array([[0.65362689]]), 'levenshtein': 0.3457943925233645, 'dice': 0.2033898305084746, 'word_difference': 0.8867924528301887}}}}\n",
      "{'all-MiniLM-L6-v2': {'meta-llama/Llama-3.3-70B-Instruct-Turbo-Free': {'Jaký byl výsledek měření teploty na povrchu objektu na okraji Sluneční soustavy a co to naznačuje?': {'cosine': array([[0.54393011]]), 'levenshtein': 0.3120879120879121, 'dice': 0.3, 'word_difference': 0.8235294117647058}, 'Existují nějaké známé přírodní jevy, které by tajemný signál u Proximy Centauri mohly způsobit?': {'cosine': array([[0.936775]]), 'levenshtein': 0.5466666666666666, 'dice': 0.8, 'word_difference': 0.33333333333333337}, 'Jaké chemické sloučeniny byly na povrchu jednoho z měsíců Sluneční soustavy detekovány?': {'cosine': array([[0.54955892]]), 'levenshtein': 0.351931330472103, 'dice': 0.3333333333333333, 'word_difference': 0.8}, 'Jakým teleskopem budou vědci zkoumat podrobněji světelné impulzy vycházející z oblasti černé díry v galaxii M87?': {'cosine': array([[0.65362689]]), 'levenshtein': 0.3457943925233645, 'dice': 0.2033898305084746, 'word_difference': 0.8867924528301887}, 'Byl na Marsu někdy život?': {'cosine': array([[0.81684709]]), 'levenshtein': 0.5, 'dice': 0.6153846153846154, 'word_difference': 0.5555555555555556}}}}\n",
      "{'all-MiniLM-L6-v2': {'meta-llama/Llama-3.3-70B-Instruct-Turbo-Free': {'Jaký byl výsledek měření teploty na povrchu objektu na okraji Sluneční soustavy a co to naznačuje?': {'cosine': array([[0.54393011]]), 'levenshtein': 0.3120879120879121, 'dice': 0.3, 'word_difference': 0.8235294117647058}, 'Existují nějaké známé přírodní jevy, které by tajemný signál u Proximy Centauri mohly způsobit?': {'cosine': array([[0.936775]]), 'levenshtein': 0.5466666666666666, 'dice': 0.8, 'word_difference': 0.33333333333333337}, 'Jaké chemické sloučeniny byly na povrchu jednoho z měsíců Sluneční soustavy detekovány?': {'cosine': array([[0.54955892]]), 'levenshtein': 0.351931330472103, 'dice': 0.3333333333333333, 'word_difference': 0.8}, 'Jakým teleskopem budou vědci zkoumat podrobněji světelné impulzy vycházející z oblasti černé díry v galaxii M87?': {'cosine': array([[0.65362689]]), 'levenshtein': 0.3457943925233645, 'dice': 0.2033898305084746, 'word_difference': 0.8867924528301887}, 'Byl na Marsu někdy život?': {'cosine': array([[0.81684709]]), 'levenshtein': 0.5, 'dice': 0.6153846153846154, 'word_difference': 0.5555555555555556}, 'Jaký teleskop bude vědcům umožňovat analýzu atmosféry planety Gliese 486 b?': {'cosine': array([[0.96503072]]), 'levenshtein': 0.865979381443299, 'dice': 0.8461538461538461, 'word_difference': 0.2666666666666667}}}}\n",
      "{'all-MiniLM-L6-v2': {'meta-llama/Llama-3.3-70B-Instruct-Turbo-Free': {'Jaký byl výsledek měření teploty na povrchu objektu na okraji Sluneční soustavy a co to naznačuje?': {'cosine': array([[0.54393011]]), 'levenshtein': 0.3120879120879121, 'dice': 0.3, 'word_difference': 0.8235294117647058}, 'Existují nějaké známé přírodní jevy, které by tajemný signál u Proximy Centauri mohly způsobit?': {'cosine': array([[0.936775]]), 'levenshtein': 0.5466666666666666, 'dice': 0.8, 'word_difference': 0.33333333333333337}, 'Jaké chemické sloučeniny byly na povrchu jednoho z měsíců Sluneční soustavy detekovány?': {'cosine': array([[0.54955892]]), 'levenshtein': 0.351931330472103, 'dice': 0.3333333333333333, 'word_difference': 0.8}, 'Jakým teleskopem budou vědci zkoumat podrobněji světelné impulzy vycházející z oblasti černé díry v galaxii M87?': {'cosine': array([[0.65362689]]), 'levenshtein': 0.3457943925233645, 'dice': 0.2033898305084746, 'word_difference': 0.8867924528301887}, 'Byl na Marsu někdy život?': {'cosine': array([[0.81684709]]), 'levenshtein': 0.5, 'dice': 0.6153846153846154, 'word_difference': 0.5555555555555556}, 'Jaký teleskop bude vědcům umožňovat analýzu atmosféry planety Gliese 486 b?': {'cosine': array([[0.96503072]]), 'levenshtein': 0.865979381443299, 'dice': 0.8461538461538461, 'word_difference': 0.2666666666666667}, 'Jaké teleskopy byly použity k detekci přítomnosti temné hmoty?': {'cosine': array([[0.54171159]]), 'levenshtein': 0.36363636363636365, 'dice': 0.3783783783783784, 'word_difference': 0.7666666666666666}}}}\n",
      "{'all-MiniLM-L6-v2': {'meta-llama/Llama-3.3-70B-Instruct-Turbo-Free': {'Jaký byl výsledek měření teploty na povrchu objektu na okraji Sluneční soustavy a co to naznačuje?': {'cosine': array([[0.54393011]]), 'levenshtein': 0.3120879120879121, 'dice': 0.3, 'word_difference': 0.8235294117647058}, 'Existují nějaké známé přírodní jevy, které by tajemný signál u Proximy Centauri mohly způsobit?': {'cosine': array([[0.936775]]), 'levenshtein': 0.5466666666666666, 'dice': 0.8, 'word_difference': 0.33333333333333337}, 'Jaké chemické sloučeniny byly na povrchu jednoho z měsíců Sluneční soustavy detekovány?': {'cosine': array([[0.54955892]]), 'levenshtein': 0.351931330472103, 'dice': 0.3333333333333333, 'word_difference': 0.8}, 'Jakým teleskopem budou vědci zkoumat podrobněji světelné impulzy vycházející z oblasti černé díry v galaxii M87?': {'cosine': array([[0.65362689]]), 'levenshtein': 0.3457943925233645, 'dice': 0.2033898305084746, 'word_difference': 0.8867924528301887}, 'Byl na Marsu někdy život?': {'cosine': array([[0.81684709]]), 'levenshtein': 0.5, 'dice': 0.6153846153846154, 'word_difference': 0.5555555555555556}, 'Jaký teleskop bude vědcům umožňovat analýzu atmosféry planety Gliese 486 b?': {'cosine': array([[0.96503072]]), 'levenshtein': 0.865979381443299, 'dice': 0.8461538461538461, 'word_difference': 0.2666666666666667}, 'Jaké teleskopy byly použity k detekci přítomnosti temné hmoty?': {'cosine': array([[0.54171159]]), 'levenshtein': 0.36363636363636365, 'dice': 0.3783783783783784, 'word_difference': 0.7666666666666666}, 'Co odlišuje černou díru v galaxii T57 od známých černých děr?': {'cosine': array([[0.9663872]]), 'levenshtein': 0.6556776556776557, 'dice': 0.8529411764705882, 'word_difference': 0.2564102564102564}}}}\n",
      "{'all-MiniLM-L6-v2': {'meta-llama/Llama-3.3-70B-Instruct-Turbo-Free': {'Jaký byl výsledek měření teploty na povrchu objektu na okraji Sluneční soustavy a co to naznačuje?': {'cosine': array([[0.54393011]]), 'levenshtein': 0.3120879120879121, 'dice': 0.3, 'word_difference': 0.8235294117647058}, 'Existují nějaké známé přírodní jevy, které by tajemný signál u Proximy Centauri mohly způsobit?': {'cosine': array([[0.936775]]), 'levenshtein': 0.5466666666666666, 'dice': 0.8, 'word_difference': 0.33333333333333337}, 'Jaké chemické sloučeniny byly na povrchu jednoho z měsíců Sluneční soustavy detekovány?': {'cosine': array([[0.54955892]]), 'levenshtein': 0.351931330472103, 'dice': 0.3333333333333333, 'word_difference': 0.8}, 'Jakým teleskopem budou vědci zkoumat podrobněji světelné impulzy vycházející z oblasti černé díry v galaxii M87?': {'cosine': array([[0.65362689]]), 'levenshtein': 0.3457943925233645, 'dice': 0.2033898305084746, 'word_difference': 0.8867924528301887}, 'Byl na Marsu někdy život?': {'cosine': array([[0.81684709]]), 'levenshtein': 0.5, 'dice': 0.6153846153846154, 'word_difference': 0.5555555555555556}, 'Jaký teleskop bude vědcům umožňovat analýzu atmosféry planety Gliese 486 b?': {'cosine': array([[0.96503072]]), 'levenshtein': 0.865979381443299, 'dice': 0.8461538461538461, 'word_difference': 0.2666666666666667}, 'Jaké teleskopy byly použity k detekci přítomnosti temné hmoty?': {'cosine': array([[0.54171159]]), 'levenshtein': 0.36363636363636365, 'dice': 0.3783783783783784, 'word_difference': 0.7666666666666666}, 'Co odlišuje černou díru v galaxii T57 od známých černých děr?': {'cosine': array([[0.9663872]]), 'levenshtein': 0.6556776556776557, 'dice': 0.8529411764705882, 'word_difference': 0.2564102564102564}, 'Jakým způsobem by mohl objev jiného životního cyklu hvězd změnit naše metody studia vesmíru v budoucnosti?': {'cosine': array([[0.79368774]]), 'levenshtein': 0.4463276836158192, 'dice': 0.41379310344827586, 'word_difference': 0.7391304347826086}}}}\n",
      "{'all-MiniLM-L6-v2': {'meta-llama/Llama-3.3-70B-Instruct-Turbo-Free': {'Jaký byl výsledek měření teploty na povrchu objektu na okraji Sluneční soustavy a co to naznačuje?': {'cosine': array([[0.54393011]]), 'levenshtein': 0.3120879120879121, 'dice': 0.3, 'word_difference': 0.8235294117647058}, 'Existují nějaké známé přírodní jevy, které by tajemný signál u Proximy Centauri mohly způsobit?': {'cosine': array([[0.936775]]), 'levenshtein': 0.5466666666666666, 'dice': 0.8, 'word_difference': 0.33333333333333337}, 'Jaké chemické sloučeniny byly na povrchu jednoho z měsíců Sluneční soustavy detekovány?': {'cosine': array([[0.54955892]]), 'levenshtein': 0.351931330472103, 'dice': 0.3333333333333333, 'word_difference': 0.8}, 'Jakým teleskopem budou vědci zkoumat podrobněji světelné impulzy vycházející z oblasti černé díry v galaxii M87?': {'cosine': array([[0.65362689]]), 'levenshtein': 0.3457943925233645, 'dice': 0.2033898305084746, 'word_difference': 0.8867924528301887}, 'Byl na Marsu někdy život?': {'cosine': array([[0.81684709]]), 'levenshtein': 0.5, 'dice': 0.6153846153846154, 'word_difference': 0.5555555555555556}, 'Jaký teleskop bude vědcům umožňovat analýzu atmosféry planety Gliese 486 b?': {'cosine': array([[0.96503072]]), 'levenshtein': 0.865979381443299, 'dice': 0.8461538461538461, 'word_difference': 0.2666666666666667}, 'Jaké teleskopy byly použity k detekci přítomnosti temné hmoty?': {'cosine': array([[0.54171159]]), 'levenshtein': 0.36363636363636365, 'dice': 0.3783783783783784, 'word_difference': 0.7666666666666666}, 'Co odlišuje černou díru v galaxii T57 od známých černých děr?': {'cosine': array([[0.9663872]]), 'levenshtein': 0.6556776556776557, 'dice': 0.8529411764705882, 'word_difference': 0.2564102564102564}, 'Jakým způsobem by mohl objev jiného životního cyklu hvězd změnit naše metody studia vesmíru v budoucnosti?': {'cosine': array([[0.79368774]]), 'levenshtein': 0.4463276836158192, 'dice': 0.41379310344827586, 'word_difference': 0.7391304347826086}, 'Co vypovídá o tom, že záhadný objekt \"Kus zdi\" je umělého původu?': {'cosine': array([[0.73200796]]), 'levenshtein': 0.3404958677685951, 'dice': 0.38461538461538464, 'word_difference': 0.7619047619047619}}}}\n",
      "{'all-MiniLM-L6-v2': {'meta-llama/Llama-3.3-70B-Instruct-Turbo-Free': {'Jaký byl výsledek měření teploty na povrchu objektu na okraji Sluneční soustavy a co to naznačuje?': {'cosine': array([[0.54393011]]), 'levenshtein': 0.3120879120879121, 'dice': 0.3, 'word_difference': 0.8235294117647058}, 'Existují nějaké známé přírodní jevy, které by tajemný signál u Proximy Centauri mohly způsobit?': {'cosine': array([[0.936775]]), 'levenshtein': 0.5466666666666666, 'dice': 0.8, 'word_difference': 0.33333333333333337}, 'Jaké chemické sloučeniny byly na povrchu jednoho z měsíců Sluneční soustavy detekovány?': {'cosine': array([[0.54955892]]), 'levenshtein': 0.351931330472103, 'dice': 0.3333333333333333, 'word_difference': 0.8}, 'Jakým teleskopem budou vědci zkoumat podrobněji světelné impulzy vycházející z oblasti černé díry v galaxii M87?': {'cosine': array([[0.65362689]]), 'levenshtein': 0.3457943925233645, 'dice': 0.2033898305084746, 'word_difference': 0.8867924528301887}, 'Byl na Marsu někdy život?': {'cosine': array([[0.81684709]]), 'levenshtein': 0.5, 'dice': 0.6153846153846154, 'word_difference': 0.5555555555555556}, 'Jaký teleskop bude vědcům umožňovat analýzu atmosféry planety Gliese 486 b?': {'cosine': array([[0.96503072]]), 'levenshtein': 0.865979381443299, 'dice': 0.8461538461538461, 'word_difference': 0.2666666666666667}, 'Jaké teleskopy byly použity k detekci přítomnosti temné hmoty?': {'cosine': array([[0.54171159]]), 'levenshtein': 0.36363636363636365, 'dice': 0.3783783783783784, 'word_difference': 0.7666666666666666}, 'Co odlišuje černou díru v galaxii T57 od známých černých děr?': {'cosine': array([[0.9663872]]), 'levenshtein': 0.6556776556776557, 'dice': 0.8529411764705882, 'word_difference': 0.2564102564102564}, 'Jakým způsobem by mohl objev jiného životního cyklu hvězd změnit naše metody studia vesmíru v budoucnosti?': {'cosine': array([[0.79368774]]), 'levenshtein': 0.4463276836158192, 'dice': 0.41379310344827586, 'word_difference': 0.7391304347826086}, 'Co vypovídá o tom, že záhadný objekt \"Kus zdi\" je umělého původu?': {'cosine': array([[0.73200796]]), 'levenshtein': 0.3404958677685951, 'dice': 0.38461538461538464, 'word_difference': 0.7619047619047619}, 'Jaké důsledky by mohlo mít, kdyby AI dokázaly komunikovat mezi sebou?': {'cosine': array([[0.59532664]]), 'levenshtein': 0.37677725118483407, 'dice': 0.15053763440860216, 'word_difference': 0.9186046511627907}}}}\n",
      "{'all-MiniLM-L6-v2': {'meta-llama/Llama-3.3-70B-Instruct-Turbo-Free': {'Jaký byl výsledek měření teploty na povrchu objektu na okraji Sluneční soustavy a co to naznačuje?': {'cosine': array([[0.54393011]]), 'levenshtein': 0.3120879120879121, 'dice': 0.3, 'word_difference': 0.8235294117647058}, 'Existují nějaké známé přírodní jevy, které by tajemný signál u Proximy Centauri mohly způsobit?': {'cosine': array([[0.936775]]), 'levenshtein': 0.5466666666666666, 'dice': 0.8, 'word_difference': 0.33333333333333337}, 'Jaké chemické sloučeniny byly na povrchu jednoho z měsíců Sluneční soustavy detekovány?': {'cosine': array([[0.54955892]]), 'levenshtein': 0.351931330472103, 'dice': 0.3333333333333333, 'word_difference': 0.8}, 'Jakým teleskopem budou vědci zkoumat podrobněji světelné impulzy vycházející z oblasti černé díry v galaxii M87?': {'cosine': array([[0.65362689]]), 'levenshtein': 0.3457943925233645, 'dice': 0.2033898305084746, 'word_difference': 0.8867924528301887}, 'Byl na Marsu někdy život?': {'cosine': array([[0.81684709]]), 'levenshtein': 0.5, 'dice': 0.6153846153846154, 'word_difference': 0.5555555555555556}, 'Jaký teleskop bude vědcům umožňovat analýzu atmosféry planety Gliese 486 b?': {'cosine': array([[0.96503072]]), 'levenshtein': 0.865979381443299, 'dice': 0.8461538461538461, 'word_difference': 0.2666666666666667}, 'Jaké teleskopy byly použity k detekci přítomnosti temné hmoty?': {'cosine': array([[0.54171159]]), 'levenshtein': 0.36363636363636365, 'dice': 0.3783783783783784, 'word_difference': 0.7666666666666666}, 'Co odlišuje černou díru v galaxii T57 od známých černých děr?': {'cosine': array([[0.9663872]]), 'levenshtein': 0.6556776556776557, 'dice': 0.8529411764705882, 'word_difference': 0.2564102564102564}, 'Jakým způsobem by mohl objev jiného životního cyklu hvězd změnit naše metody studia vesmíru v budoucnosti?': {'cosine': array([[0.79368774]]), 'levenshtein': 0.4463276836158192, 'dice': 0.41379310344827586, 'word_difference': 0.7391304347826086}, 'Co vypovídá o tom, že záhadný objekt \"Kus zdi\" je umělého původu?': {'cosine': array([[0.73200796]]), 'levenshtein': 0.3404958677685951, 'dice': 0.38461538461538464, 'word_difference': 0.7619047619047619}, 'Jaké důsledky by mohlo mít, kdyby AI dokázaly komunikovat mezi sebou?': {'cosine': array([[0.59532664]]), 'levenshtein': 0.37677725118483407, 'dice': 0.15053763440860216, 'word_difference': 0.9186046511627907}, 'Jaké etické otázky mohou vzniknout v souvislosti s technologií, která dokáže číst lidské myšlenky?': {'cosine': array([[0.80902489]]), 'levenshtein': 0.4047109207708779, 'dice': 0.36538461538461536, 'word_difference': 0.7764705882352941}}}}\n",
      "{'all-MiniLM-L6-v2': {'meta-llama/Llama-3.3-70B-Instruct-Turbo-Free': {'Jaký byl výsledek měření teploty na povrchu objektu na okraji Sluneční soustavy a co to naznačuje?': {'cosine': array([[0.54393011]]), 'levenshtein': 0.3120879120879121, 'dice': 0.3, 'word_difference': 0.8235294117647058}, 'Existují nějaké známé přírodní jevy, které by tajemný signál u Proximy Centauri mohly způsobit?': {'cosine': array([[0.936775]]), 'levenshtein': 0.5466666666666666, 'dice': 0.8, 'word_difference': 0.33333333333333337}, 'Jaké chemické sloučeniny byly na povrchu jednoho z měsíců Sluneční soustavy detekovány?': {'cosine': array([[0.54955892]]), 'levenshtein': 0.351931330472103, 'dice': 0.3333333333333333, 'word_difference': 0.8}, 'Jakým teleskopem budou vědci zkoumat podrobněji světelné impulzy vycházející z oblasti černé díry v galaxii M87?': {'cosine': array([[0.65362689]]), 'levenshtein': 0.3457943925233645, 'dice': 0.2033898305084746, 'word_difference': 0.8867924528301887}, 'Byl na Marsu někdy život?': {'cosine': array([[0.81684709]]), 'levenshtein': 0.5, 'dice': 0.6153846153846154, 'word_difference': 0.5555555555555556}, 'Jaký teleskop bude vědcům umožňovat analýzu atmosféry planety Gliese 486 b?': {'cosine': array([[0.96503072]]), 'levenshtein': 0.865979381443299, 'dice': 0.8461538461538461, 'word_difference': 0.2666666666666667}, 'Jaké teleskopy byly použity k detekci přítomnosti temné hmoty?': {'cosine': array([[0.54171159]]), 'levenshtein': 0.36363636363636365, 'dice': 0.3783783783783784, 'word_difference': 0.7666666666666666}, 'Co odlišuje černou díru v galaxii T57 od známých černých děr?': {'cosine': array([[0.9663872]]), 'levenshtein': 0.6556776556776557, 'dice': 0.8529411764705882, 'word_difference': 0.2564102564102564}, 'Jakým způsobem by mohl objev jiného životního cyklu hvězd změnit naše metody studia vesmíru v budoucnosti?': {'cosine': array([[0.79368774]]), 'levenshtein': 0.4463276836158192, 'dice': 0.41379310344827586, 'word_difference': 0.7391304347826086}, 'Co vypovídá o tom, že záhadný objekt \"Kus zdi\" je umělého původu?': {'cosine': array([[0.73200796]]), 'levenshtein': 0.3404958677685951, 'dice': 0.38461538461538464, 'word_difference': 0.7619047619047619}, 'Jaké důsledky by mohlo mít, kdyby AI dokázaly komunikovat mezi sebou?': {'cosine': array([[0.59532664]]), 'levenshtein': 0.37677725118483407, 'dice': 0.15053763440860216, 'word_difference': 0.9186046511627907}, 'Jaké etické otázky mohou vzniknout v souvislosti s technologií, která dokáže číst lidské myšlenky?': {'cosine': array([[0.80902489]]), 'levenshtein': 0.4047109207708779, 'dice': 0.36538461538461536, 'word_difference': 0.7764705882352941}, 'Může AI v budoucnosti přebírat roli vědce a přinášet nová vědecká poznání?': {'cosine': array([[0.76484679]]), 'levenshtein': 0.4426229508196722, 'dice': 0.375, 'word_difference': 0.7692307692307692}}}}\n",
      "{'all-MiniLM-L6-v2': {'meta-llama/Llama-3.3-70B-Instruct-Turbo-Free': {'Jaký byl výsledek měření teploty na povrchu objektu na okraji Sluneční soustavy a co to naznačuje?': {'cosine': array([[0.54393011]]), 'levenshtein': 0.3120879120879121, 'dice': 0.3, 'word_difference': 0.8235294117647058}, 'Existují nějaké známé přírodní jevy, které by tajemný signál u Proximy Centauri mohly způsobit?': {'cosine': array([[0.936775]]), 'levenshtein': 0.5466666666666666, 'dice': 0.8, 'word_difference': 0.33333333333333337}, 'Jaké chemické sloučeniny byly na povrchu jednoho z měsíců Sluneční soustavy detekovány?': {'cosine': array([[0.54955892]]), 'levenshtein': 0.351931330472103, 'dice': 0.3333333333333333, 'word_difference': 0.8}, 'Jakým teleskopem budou vědci zkoumat podrobněji světelné impulzy vycházející z oblasti černé díry v galaxii M87?': {'cosine': array([[0.65362689]]), 'levenshtein': 0.3457943925233645, 'dice': 0.2033898305084746, 'word_difference': 0.8867924528301887}, 'Byl na Marsu někdy život?': {'cosine': array([[0.81684709]]), 'levenshtein': 0.5, 'dice': 0.6153846153846154, 'word_difference': 0.5555555555555556}, 'Jaký teleskop bude vědcům umožňovat analýzu atmosféry planety Gliese 486 b?': {'cosine': array([[0.96503072]]), 'levenshtein': 0.865979381443299, 'dice': 0.8461538461538461, 'word_difference': 0.2666666666666667}, 'Jaké teleskopy byly použity k detekci přítomnosti temné hmoty?': {'cosine': array([[0.54171159]]), 'levenshtein': 0.36363636363636365, 'dice': 0.3783783783783784, 'word_difference': 0.7666666666666666}, 'Co odlišuje černou díru v galaxii T57 od známých černých děr?': {'cosine': array([[0.9663872]]), 'levenshtein': 0.6556776556776557, 'dice': 0.8529411764705882, 'word_difference': 0.2564102564102564}, 'Jakým způsobem by mohl objev jiného životního cyklu hvězd změnit naše metody studia vesmíru v budoucnosti?': {'cosine': array([[0.79368774]]), 'levenshtein': 0.4463276836158192, 'dice': 0.41379310344827586, 'word_difference': 0.7391304347826086}, 'Co vypovídá o tom, že záhadný objekt \"Kus zdi\" je umělého původu?': {'cosine': array([[0.73200796]]), 'levenshtein': 0.3404958677685951, 'dice': 0.38461538461538464, 'word_difference': 0.7619047619047619}, 'Jaké důsledky by mohlo mít, kdyby AI dokázaly komunikovat mezi sebou?': {'cosine': array([[0.59532664]]), 'levenshtein': 0.37677725118483407, 'dice': 0.15053763440860216, 'word_difference': 0.9186046511627907}, 'Jaké etické otázky mohou vzniknout v souvislosti s technologií, která dokáže číst lidské myšlenky?': {'cosine': array([[0.80902489]]), 'levenshtein': 0.4047109207708779, 'dice': 0.36538461538461536, 'word_difference': 0.7764705882352941}, 'Může AI v budoucnosti přebírat roli vědce a přinášet nová vědecká poznání?': {'cosine': array([[0.76484679]]), 'levenshtein': 0.4426229508196722, 'dice': 0.375, 'word_difference': 0.7692307692307692}, 'Jak se nový model pro rozpoznávání emocí liší od předchozích modelů?': {'cosine': array([[0.63382948]]), 'levenshtein': 0.36061026352288483, 'dice': 0.28888888888888886, 'word_difference': 0.8311688311688312}}}}\n",
      "{'all-MiniLM-L6-v2': {'meta-llama/Llama-3.3-70B-Instruct-Turbo-Free': {'Jaký byl výsledek měření teploty na povrchu objektu na okraji Sluneční soustavy a co to naznačuje?': {'cosine': array([[0.54393011]]), 'levenshtein': 0.3120879120879121, 'dice': 0.3, 'word_difference': 0.8235294117647058}, 'Existují nějaké známé přírodní jevy, které by tajemný signál u Proximy Centauri mohly způsobit?': {'cosine': array([[0.936775]]), 'levenshtein': 0.5466666666666666, 'dice': 0.8, 'word_difference': 0.33333333333333337}, 'Jaké chemické sloučeniny byly na povrchu jednoho z měsíců Sluneční soustavy detekovány?': {'cosine': array([[0.54955892]]), 'levenshtein': 0.351931330472103, 'dice': 0.3333333333333333, 'word_difference': 0.8}, 'Jakým teleskopem budou vědci zkoumat podrobněji světelné impulzy vycházející z oblasti černé díry v galaxii M87?': {'cosine': array([[0.65362689]]), 'levenshtein': 0.3457943925233645, 'dice': 0.2033898305084746, 'word_difference': 0.8867924528301887}, 'Byl na Marsu někdy život?': {'cosine': array([[0.81684709]]), 'levenshtein': 0.5, 'dice': 0.6153846153846154, 'word_difference': 0.5555555555555556}, 'Jaký teleskop bude vědcům umožňovat analýzu atmosféry planety Gliese 486 b?': {'cosine': array([[0.96503072]]), 'levenshtein': 0.865979381443299, 'dice': 0.8461538461538461, 'word_difference': 0.2666666666666667}, 'Jaké teleskopy byly použity k detekci přítomnosti temné hmoty?': {'cosine': array([[0.54171159]]), 'levenshtein': 0.36363636363636365, 'dice': 0.3783783783783784, 'word_difference': 0.7666666666666666}, 'Co odlišuje černou díru v galaxii T57 od známých černých děr?': {'cosine': array([[0.9663872]]), 'levenshtein': 0.6556776556776557, 'dice': 0.8529411764705882, 'word_difference': 0.2564102564102564}, 'Jakým způsobem by mohl objev jiného životního cyklu hvězd změnit naše metody studia vesmíru v budoucnosti?': {'cosine': array([[0.79368774]]), 'levenshtein': 0.4463276836158192, 'dice': 0.41379310344827586, 'word_difference': 0.7391304347826086}, 'Co vypovídá o tom, že záhadný objekt \"Kus zdi\" je umělého původu?': {'cosine': array([[0.73200796]]), 'levenshtein': 0.3404958677685951, 'dice': 0.38461538461538464, 'word_difference': 0.7619047619047619}, 'Jaké důsledky by mohlo mít, kdyby AI dokázaly komunikovat mezi sebou?': {'cosine': array([[0.59532664]]), 'levenshtein': 0.37677725118483407, 'dice': 0.15053763440860216, 'word_difference': 0.9186046511627907}, 'Jaké etické otázky mohou vzniknout v souvislosti s technologií, která dokáže číst lidské myšlenky?': {'cosine': array([[0.80902489]]), 'levenshtein': 0.4047109207708779, 'dice': 0.36538461538461536, 'word_difference': 0.7764705882352941}, 'Může AI v budoucnosti přebírat roli vědce a přinášet nová vědecká poznání?': {'cosine': array([[0.76484679]]), 'levenshtein': 0.4426229508196722, 'dice': 0.375, 'word_difference': 0.7692307692307692}, 'Jak se nový model pro rozpoznávání emocí liší od předchozích modelů?': {'cosine': array([[0.63382948]]), 'levenshtein': 0.36061026352288483, 'dice': 0.28888888888888886, 'word_difference': 0.8311688311688312}, 'Jakým způsobem analyzuje revoluční AI změny v čase?': {'cosine': array([[0.68016878]]), 'levenshtein': 0.4, 'dice': 0.2727272727272727, 'word_difference': 0.8421052631578947}}}}\n",
      "{'all-MiniLM-L6-v2': {'meta-llama/Llama-3.3-70B-Instruct-Turbo-Free': {'Jaký byl výsledek měření teploty na povrchu objektu na okraji Sluneční soustavy a co to naznačuje?': {'cosine': array([[0.54393011]]), 'levenshtein': 0.3120879120879121, 'dice': 0.3, 'word_difference': 0.8235294117647058}, 'Existují nějaké známé přírodní jevy, které by tajemný signál u Proximy Centauri mohly způsobit?': {'cosine': array([[0.936775]]), 'levenshtein': 0.5466666666666666, 'dice': 0.8, 'word_difference': 0.33333333333333337}, 'Jaké chemické sloučeniny byly na povrchu jednoho z měsíců Sluneční soustavy detekovány?': {'cosine': array([[0.54955892]]), 'levenshtein': 0.351931330472103, 'dice': 0.3333333333333333, 'word_difference': 0.8}, 'Jakým teleskopem budou vědci zkoumat podrobněji světelné impulzy vycházející z oblasti černé díry v galaxii M87?': {'cosine': array([[0.65362689]]), 'levenshtein': 0.3457943925233645, 'dice': 0.2033898305084746, 'word_difference': 0.8867924528301887}, 'Byl na Marsu někdy život?': {'cosine': array([[0.81684709]]), 'levenshtein': 0.5, 'dice': 0.6153846153846154, 'word_difference': 0.5555555555555556}, 'Jaký teleskop bude vědcům umožňovat analýzu atmosféry planety Gliese 486 b?': {'cosine': array([[0.96503072]]), 'levenshtein': 0.865979381443299, 'dice': 0.8461538461538461, 'word_difference': 0.2666666666666667}, 'Jaké teleskopy byly použity k detekci přítomnosti temné hmoty?': {'cosine': array([[0.54171159]]), 'levenshtein': 0.36363636363636365, 'dice': 0.3783783783783784, 'word_difference': 0.7666666666666666}, 'Co odlišuje černou díru v galaxii T57 od známých černých děr?': {'cosine': array([[0.9663872]]), 'levenshtein': 0.6556776556776557, 'dice': 0.8529411764705882, 'word_difference': 0.2564102564102564}, 'Jakým způsobem by mohl objev jiného životního cyklu hvězd změnit naše metody studia vesmíru v budoucnosti?': {'cosine': array([[0.79368774]]), 'levenshtein': 0.4463276836158192, 'dice': 0.41379310344827586, 'word_difference': 0.7391304347826086}, 'Co vypovídá o tom, že záhadný objekt \"Kus zdi\" je umělého původu?': {'cosine': array([[0.73200796]]), 'levenshtein': 0.3404958677685951, 'dice': 0.38461538461538464, 'word_difference': 0.7619047619047619}, 'Jaké důsledky by mohlo mít, kdyby AI dokázaly komunikovat mezi sebou?': {'cosine': array([[0.59532664]]), 'levenshtein': 0.37677725118483407, 'dice': 0.15053763440860216, 'word_difference': 0.9186046511627907}, 'Jaké etické otázky mohou vzniknout v souvislosti s technologií, která dokáže číst lidské myšlenky?': {'cosine': array([[0.80902489]]), 'levenshtein': 0.4047109207708779, 'dice': 0.36538461538461536, 'word_difference': 0.7764705882352941}, 'Může AI v budoucnosti přebírat roli vědce a přinášet nová vědecká poznání?': {'cosine': array([[0.76484679]]), 'levenshtein': 0.4426229508196722, 'dice': 0.375, 'word_difference': 0.7692307692307692}, 'Jak se nový model pro rozpoznávání emocí liší od předchozích modelů?': {'cosine': array([[0.63382948]]), 'levenshtein': 0.36061026352288483, 'dice': 0.28888888888888886, 'word_difference': 0.8311688311688312}, 'Jakým způsobem analyzuje revoluční AI změny v čase?': {'cosine': array([[0.68016878]]), 'levenshtein': 0.4, 'dice': 0.2727272727272727, 'word_difference': 0.8421052631578947}, 'Jaká objevená látka má potenciál v boji proti virům?': {'cosine': array([[0.49410261]]), 'levenshtein': 0.4057142857142857, 'dice': 0.2978723404255319, 'word_difference': 0.825}}}}\n",
      "{'all-MiniLM-L6-v2': {'meta-llama/Llama-3.3-70B-Instruct-Turbo-Free': {'Jaký byl výsledek měření teploty na povrchu objektu na okraji Sluneční soustavy a co to naznačuje?': {'cosine': array([[0.54393011]]), 'levenshtein': 0.3120879120879121, 'dice': 0.3, 'word_difference': 0.8235294117647058}, 'Existují nějaké známé přírodní jevy, které by tajemný signál u Proximy Centauri mohly způsobit?': {'cosine': array([[0.936775]]), 'levenshtein': 0.5466666666666666, 'dice': 0.8, 'word_difference': 0.33333333333333337}, 'Jaké chemické sloučeniny byly na povrchu jednoho z měsíců Sluneční soustavy detekovány?': {'cosine': array([[0.54955892]]), 'levenshtein': 0.351931330472103, 'dice': 0.3333333333333333, 'word_difference': 0.8}, 'Jakým teleskopem budou vědci zkoumat podrobněji světelné impulzy vycházející z oblasti černé díry v galaxii M87?': {'cosine': array([[0.65362689]]), 'levenshtein': 0.3457943925233645, 'dice': 0.2033898305084746, 'word_difference': 0.8867924528301887}, 'Byl na Marsu někdy život?': {'cosine': array([[0.81684709]]), 'levenshtein': 0.5, 'dice': 0.6153846153846154, 'word_difference': 0.5555555555555556}, 'Jaký teleskop bude vědcům umožňovat analýzu atmosféry planety Gliese 486 b?': {'cosine': array([[0.96503072]]), 'levenshtein': 0.865979381443299, 'dice': 0.8461538461538461, 'word_difference': 0.2666666666666667}, 'Jaké teleskopy byly použity k detekci přítomnosti temné hmoty?': {'cosine': array([[0.54171159]]), 'levenshtein': 0.36363636363636365, 'dice': 0.3783783783783784, 'word_difference': 0.7666666666666666}, 'Co odlišuje černou díru v galaxii T57 od známých černých děr?': {'cosine': array([[0.9663872]]), 'levenshtein': 0.6556776556776557, 'dice': 0.8529411764705882, 'word_difference': 0.2564102564102564}, 'Jakým způsobem by mohl objev jiného životního cyklu hvězd změnit naše metody studia vesmíru v budoucnosti?': {'cosine': array([[0.79368774]]), 'levenshtein': 0.4463276836158192, 'dice': 0.41379310344827586, 'word_difference': 0.7391304347826086}, 'Co vypovídá o tom, že záhadný objekt \"Kus zdi\" je umělého původu?': {'cosine': array([[0.73200796]]), 'levenshtein': 0.3404958677685951, 'dice': 0.38461538461538464, 'word_difference': 0.7619047619047619}, 'Jaké důsledky by mohlo mít, kdyby AI dokázaly komunikovat mezi sebou?': {'cosine': array([[0.59532664]]), 'levenshtein': 0.37677725118483407, 'dice': 0.15053763440860216, 'word_difference': 0.9186046511627907}, 'Jaké etické otázky mohou vzniknout v souvislosti s technologií, která dokáže číst lidské myšlenky?': {'cosine': array([[0.80902489]]), 'levenshtein': 0.4047109207708779, 'dice': 0.36538461538461536, 'word_difference': 0.7764705882352941}, 'Může AI v budoucnosti přebírat roli vědce a přinášet nová vědecká poznání?': {'cosine': array([[0.76484679]]), 'levenshtein': 0.4426229508196722, 'dice': 0.375, 'word_difference': 0.7692307692307692}, 'Jak se nový model pro rozpoznávání emocí liší od předchozích modelů?': {'cosine': array([[0.63382948]]), 'levenshtein': 0.36061026352288483, 'dice': 0.28888888888888886, 'word_difference': 0.8311688311688312}, 'Jakým způsobem analyzuje revoluční AI změny v čase?': {'cosine': array([[0.68016878]]), 'levenshtein': 0.4, 'dice': 0.2727272727272727, 'word_difference': 0.8421052631578947}, 'Jaká objevená látka má potenciál v boji proti virům?': {'cosine': array([[0.49410261]]), 'levenshtein': 0.4057142857142857, 'dice': 0.2978723404255319, 'word_difference': 0.825}, 'Co naznačuje, že by nová umělá inteligence mohla mít vlastní vědomí?': {'cosine': array([[0.61194112]]), 'levenshtein': 0.4411764705882353, 'dice': 0.2857142857142857, 'word_difference': 0.8333333333333334}}}}\n",
      "{'all-MiniLM-L6-v2': {'meta-llama/Llama-3.3-70B-Instruct-Turbo-Free': {'Jaký byl výsledek měření teploty na povrchu objektu na okraji Sluneční soustavy a co to naznačuje?': {'cosine': array([[0.54393011]]), 'levenshtein': 0.3120879120879121, 'dice': 0.3, 'word_difference': 0.8235294117647058}, 'Existují nějaké známé přírodní jevy, které by tajemný signál u Proximy Centauri mohly způsobit?': {'cosine': array([[0.936775]]), 'levenshtein': 0.5466666666666666, 'dice': 0.8, 'word_difference': 0.33333333333333337}, 'Jaké chemické sloučeniny byly na povrchu jednoho z měsíců Sluneční soustavy detekovány?': {'cosine': array([[0.54955892]]), 'levenshtein': 0.351931330472103, 'dice': 0.3333333333333333, 'word_difference': 0.8}, 'Jakým teleskopem budou vědci zkoumat podrobněji světelné impulzy vycházející z oblasti černé díry v galaxii M87?': {'cosine': array([[0.65362689]]), 'levenshtein': 0.3457943925233645, 'dice': 0.2033898305084746, 'word_difference': 0.8867924528301887}, 'Byl na Marsu někdy život?': {'cosine': array([[0.81684709]]), 'levenshtein': 0.5, 'dice': 0.6153846153846154, 'word_difference': 0.5555555555555556}, 'Jaký teleskop bude vědcům umožňovat analýzu atmosféry planety Gliese 486 b?': {'cosine': array([[0.96503072]]), 'levenshtein': 0.865979381443299, 'dice': 0.8461538461538461, 'word_difference': 0.2666666666666667}, 'Jaké teleskopy byly použity k detekci přítomnosti temné hmoty?': {'cosine': array([[0.54171159]]), 'levenshtein': 0.36363636363636365, 'dice': 0.3783783783783784, 'word_difference': 0.7666666666666666}, 'Co odlišuje černou díru v galaxii T57 od známých černých děr?': {'cosine': array([[0.9663872]]), 'levenshtein': 0.6556776556776557, 'dice': 0.8529411764705882, 'word_difference': 0.2564102564102564}, 'Jakým způsobem by mohl objev jiného životního cyklu hvězd změnit naše metody studia vesmíru v budoucnosti?': {'cosine': array([[0.79368774]]), 'levenshtein': 0.4463276836158192, 'dice': 0.41379310344827586, 'word_difference': 0.7391304347826086}, 'Co vypovídá o tom, že záhadný objekt \"Kus zdi\" je umělého původu?': {'cosine': array([[0.73200796]]), 'levenshtein': 0.3404958677685951, 'dice': 0.38461538461538464, 'word_difference': 0.7619047619047619}, 'Jaké důsledky by mohlo mít, kdyby AI dokázaly komunikovat mezi sebou?': {'cosine': array([[0.59532664]]), 'levenshtein': 0.37677725118483407, 'dice': 0.15053763440860216, 'word_difference': 0.9186046511627907}, 'Jaké etické otázky mohou vzniknout v souvislosti s technologií, která dokáže číst lidské myšlenky?': {'cosine': array([[0.80902489]]), 'levenshtein': 0.4047109207708779, 'dice': 0.36538461538461536, 'word_difference': 0.7764705882352941}, 'Může AI v budoucnosti přebírat roli vědce a přinášet nová vědecká poznání?': {'cosine': array([[0.76484679]]), 'levenshtein': 0.4426229508196722, 'dice': 0.375, 'word_difference': 0.7692307692307692}, 'Jak se nový model pro rozpoznávání emocí liší od předchozích modelů?': {'cosine': array([[0.63382948]]), 'levenshtein': 0.36061026352288483, 'dice': 0.28888888888888886, 'word_difference': 0.8311688311688312}, 'Jakým způsobem analyzuje revoluční AI změny v čase?': {'cosine': array([[0.68016878]]), 'levenshtein': 0.4, 'dice': 0.2727272727272727, 'word_difference': 0.8421052631578947}, 'Jaká objevená látka má potenciál v boji proti virům?': {'cosine': array([[0.49410261]]), 'levenshtein': 0.4057142857142857, 'dice': 0.2978723404255319, 'word_difference': 0.825}, 'Co naznačuje, že by nová umělá inteligence mohla mít vlastní vědomí?': {'cosine': array([[0.61194112]]), 'levenshtein': 0.4411764705882353, 'dice': 0.2857142857142857, 'word_difference': 0.8333333333333334}, 'Jaké výhody přináší používání AI v diagnostice nemocí podle vědců?': {'cosine': array([[0.81743197]]), 'levenshtein': 0.3866943866943867, 'dice': 0.23728813559322035, 'word_difference': 0.8653846153846154}}}}\n",
      "{'all-MiniLM-L6-v2': {'meta-llama/Llama-3.3-70B-Instruct-Turbo-Free': {'Jaký byl výsledek měření teploty na povrchu objektu na okraji Sluneční soustavy a co to naznačuje?': {'cosine': array([[0.54393011]]), 'levenshtein': 0.3120879120879121, 'dice': 0.3, 'word_difference': 0.8235294117647058}, 'Existují nějaké známé přírodní jevy, které by tajemný signál u Proximy Centauri mohly způsobit?': {'cosine': array([[0.936775]]), 'levenshtein': 0.5466666666666666, 'dice': 0.8, 'word_difference': 0.33333333333333337}, 'Jaké chemické sloučeniny byly na povrchu jednoho z měsíců Sluneční soustavy detekovány?': {'cosine': array([[0.54955892]]), 'levenshtein': 0.351931330472103, 'dice': 0.3333333333333333, 'word_difference': 0.8}, 'Jakým teleskopem budou vědci zkoumat podrobněji světelné impulzy vycházející z oblasti černé díry v galaxii M87?': {'cosine': array([[0.65362689]]), 'levenshtein': 0.3457943925233645, 'dice': 0.2033898305084746, 'word_difference': 0.8867924528301887}, 'Byl na Marsu někdy život?': {'cosine': array([[0.81684709]]), 'levenshtein': 0.5, 'dice': 0.6153846153846154, 'word_difference': 0.5555555555555556}, 'Jaký teleskop bude vědcům umožňovat analýzu atmosféry planety Gliese 486 b?': {'cosine': array([[0.96503072]]), 'levenshtein': 0.865979381443299, 'dice': 0.8461538461538461, 'word_difference': 0.2666666666666667}, 'Jaké teleskopy byly použity k detekci přítomnosti temné hmoty?': {'cosine': array([[0.54171159]]), 'levenshtein': 0.36363636363636365, 'dice': 0.3783783783783784, 'word_difference': 0.7666666666666666}, 'Co odlišuje černou díru v galaxii T57 od známých černých děr?': {'cosine': array([[0.9663872]]), 'levenshtein': 0.6556776556776557, 'dice': 0.8529411764705882, 'word_difference': 0.2564102564102564}, 'Jakým způsobem by mohl objev jiného životního cyklu hvězd změnit naše metody studia vesmíru v budoucnosti?': {'cosine': array([[0.79368774]]), 'levenshtein': 0.4463276836158192, 'dice': 0.41379310344827586, 'word_difference': 0.7391304347826086}, 'Co vypovídá o tom, že záhadný objekt \"Kus zdi\" je umělého původu?': {'cosine': array([[0.73200796]]), 'levenshtein': 0.3404958677685951, 'dice': 0.38461538461538464, 'word_difference': 0.7619047619047619}, 'Jaké důsledky by mohlo mít, kdyby AI dokázaly komunikovat mezi sebou?': {'cosine': array([[0.59532664]]), 'levenshtein': 0.37677725118483407, 'dice': 0.15053763440860216, 'word_difference': 0.9186046511627907}, 'Jaké etické otázky mohou vzniknout v souvislosti s technologií, která dokáže číst lidské myšlenky?': {'cosine': array([[0.80902489]]), 'levenshtein': 0.4047109207708779, 'dice': 0.36538461538461536, 'word_difference': 0.7764705882352941}, 'Může AI v budoucnosti přebírat roli vědce a přinášet nová vědecká poznání?': {'cosine': array([[0.76484679]]), 'levenshtein': 0.4426229508196722, 'dice': 0.375, 'word_difference': 0.7692307692307692}, 'Jak se nový model pro rozpoznávání emocí liší od předchozích modelů?': {'cosine': array([[0.63382948]]), 'levenshtein': 0.36061026352288483, 'dice': 0.28888888888888886, 'word_difference': 0.8311688311688312}, 'Jakým způsobem analyzuje revoluční AI změny v čase?': {'cosine': array([[0.68016878]]), 'levenshtein': 0.4, 'dice': 0.2727272727272727, 'word_difference': 0.8421052631578947}, 'Jaká objevená látka má potenciál v boji proti virům?': {'cosine': array([[0.49410261]]), 'levenshtein': 0.4057142857142857, 'dice': 0.2978723404255319, 'word_difference': 0.825}, 'Co naznačuje, že by nová umělá inteligence mohla mít vlastní vědomí?': {'cosine': array([[0.61194112]]), 'levenshtein': 0.4411764705882353, 'dice': 0.2857142857142857, 'word_difference': 0.8333333333333334}, 'Jaké výhody přináší používání AI v diagnostice nemocí podle vědců?': {'cosine': array([[0.81743197]]), 'levenshtein': 0.3866943866943867, 'dice': 0.23728813559322035, 'word_difference': 0.8653846153846154}, 'Jaké kroky plánuje tým výzkumníků po úspěchu LuminAI v lékařském výzkumu?': {'cosine': array([[0.60649528]]), 'levenshtein': 0.3402298850574713, 'dice': 0.23529411764705882, 'word_difference': 0.8666666666666667}}}}\n",
      "{'all-MiniLM-L6-v2': {'meta-llama/Llama-3.3-70B-Instruct-Turbo-Free': {'Jaký byl výsledek měření teploty na povrchu objektu na okraji Sluneční soustavy a co to naznačuje?': {'cosine': array([[0.54393011]]), 'levenshtein': 0.3120879120879121, 'dice': 0.3, 'word_difference': 0.8235294117647058}, 'Existují nějaké známé přírodní jevy, které by tajemný signál u Proximy Centauri mohly způsobit?': {'cosine': array([[0.936775]]), 'levenshtein': 0.5466666666666666, 'dice': 0.8, 'word_difference': 0.33333333333333337}, 'Jaké chemické sloučeniny byly na povrchu jednoho z měsíců Sluneční soustavy detekovány?': {'cosine': array([[0.54955892]]), 'levenshtein': 0.351931330472103, 'dice': 0.3333333333333333, 'word_difference': 0.8}, 'Jakým teleskopem budou vědci zkoumat podrobněji světelné impulzy vycházející z oblasti černé díry v galaxii M87?': {'cosine': array([[0.65362689]]), 'levenshtein': 0.3457943925233645, 'dice': 0.2033898305084746, 'word_difference': 0.8867924528301887}, 'Byl na Marsu někdy život?': {'cosine': array([[0.81684709]]), 'levenshtein': 0.5, 'dice': 0.6153846153846154, 'word_difference': 0.5555555555555556}, 'Jaký teleskop bude vědcům umožňovat analýzu atmosféry planety Gliese 486 b?': {'cosine': array([[0.96503072]]), 'levenshtein': 0.865979381443299, 'dice': 0.8461538461538461, 'word_difference': 0.2666666666666667}, 'Jaké teleskopy byly použity k detekci přítomnosti temné hmoty?': {'cosine': array([[0.54171159]]), 'levenshtein': 0.36363636363636365, 'dice': 0.3783783783783784, 'word_difference': 0.7666666666666666}, 'Co odlišuje černou díru v galaxii T57 od známých černých děr?': {'cosine': array([[0.9663872]]), 'levenshtein': 0.6556776556776557, 'dice': 0.8529411764705882, 'word_difference': 0.2564102564102564}, 'Jakým způsobem by mohl objev jiného životního cyklu hvězd změnit naše metody studia vesmíru v budoucnosti?': {'cosine': array([[0.79368774]]), 'levenshtein': 0.4463276836158192, 'dice': 0.41379310344827586, 'word_difference': 0.7391304347826086}, 'Co vypovídá o tom, že záhadný objekt \"Kus zdi\" je umělého původu?': {'cosine': array([[0.73200796]]), 'levenshtein': 0.3404958677685951, 'dice': 0.38461538461538464, 'word_difference': 0.7619047619047619}, 'Jaké důsledky by mohlo mít, kdyby AI dokázaly komunikovat mezi sebou?': {'cosine': array([[0.59532664]]), 'levenshtein': 0.37677725118483407, 'dice': 0.15053763440860216, 'word_difference': 0.9186046511627907}, 'Jaké etické otázky mohou vzniknout v souvislosti s technologií, která dokáže číst lidské myšlenky?': {'cosine': array([[0.80902489]]), 'levenshtein': 0.4047109207708779, 'dice': 0.36538461538461536, 'word_difference': 0.7764705882352941}, 'Může AI v budoucnosti přebírat roli vědce a přinášet nová vědecká poznání?': {'cosine': array([[0.76484679]]), 'levenshtein': 0.4426229508196722, 'dice': 0.375, 'word_difference': 0.7692307692307692}, 'Jak se nový model pro rozpoznávání emocí liší od předchozích modelů?': {'cosine': array([[0.63382948]]), 'levenshtein': 0.36061026352288483, 'dice': 0.28888888888888886, 'word_difference': 0.8311688311688312}, 'Jakým způsobem analyzuje revoluční AI změny v čase?': {'cosine': array([[0.68016878]]), 'levenshtein': 0.4, 'dice': 0.2727272727272727, 'word_difference': 0.8421052631578947}, 'Jaká objevená látka má potenciál v boji proti virům?': {'cosine': array([[0.49410261]]), 'levenshtein': 0.4057142857142857, 'dice': 0.2978723404255319, 'word_difference': 0.825}, 'Co naznačuje, že by nová umělá inteligence mohla mít vlastní vědomí?': {'cosine': array([[0.61194112]]), 'levenshtein': 0.4411764705882353, 'dice': 0.2857142857142857, 'word_difference': 0.8333333333333334}, 'Jaké výhody přináší používání AI v diagnostice nemocí podle vědců?': {'cosine': array([[0.81743197]]), 'levenshtein': 0.3866943866943867, 'dice': 0.23728813559322035, 'word_difference': 0.8653846153846154}, 'Jaké kroky plánuje tým výzkumníků po úspěchu LuminAI v lékařském výzkumu?': {'cosine': array([[0.60649528]]), 'levenshtein': 0.3402298850574713, 'dice': 0.23529411764705882, 'word_difference': 0.8666666666666667}, 'Jakým způsobem AI pomáhá zlepšit efektivitu výroby obnovitelné energie?': {'cosine': array([[0.59418284]]), 'levenshtein': 0.42147651006711406, 'dice': 0.2962962962962963, 'word_difference': 0.8260869565217391}}}}\n",
      "Working on paraphrase-multilingual-mpnet-base-v2...\n",
      "Documents successfully loaded as a collection.\n",
      "Collection done.\n",
      "Provider found\n",
      "Client created\n",
      "API success...\n",
      "Assigned generative model...\n",
      "{'all-MiniLM-L6-v2': {'meta-llama/Llama-3.3-70B-Instruct-Turbo-Free': {'Jaký byl výsledek měření teploty na povrchu objektu na okraji Sluneční soustavy a co to naznačuje?': {'cosine': array([[0.54393011]]), 'levenshtein': 0.3120879120879121, 'dice': 0.3, 'word_difference': 0.8235294117647058}, 'Existují nějaké známé přírodní jevy, které by tajemný signál u Proximy Centauri mohly způsobit?': {'cosine': array([[0.936775]]), 'levenshtein': 0.5466666666666666, 'dice': 0.8, 'word_difference': 0.33333333333333337}, 'Jaké chemické sloučeniny byly na povrchu jednoho z měsíců Sluneční soustavy detekovány?': {'cosine': array([[0.54955892]]), 'levenshtein': 0.351931330472103, 'dice': 0.3333333333333333, 'word_difference': 0.8}, 'Jakým teleskopem budou vědci zkoumat podrobněji světelné impulzy vycházející z oblasti černé díry v galaxii M87?': {'cosine': array([[0.65362689]]), 'levenshtein': 0.3457943925233645, 'dice': 0.2033898305084746, 'word_difference': 0.8867924528301887}, 'Byl na Marsu někdy život?': {'cosine': array([[0.81684709]]), 'levenshtein': 0.5, 'dice': 0.6153846153846154, 'word_difference': 0.5555555555555556}, 'Jaký teleskop bude vědcům umožňovat analýzu atmosféry planety Gliese 486 b?': {'cosine': array([[0.96503072]]), 'levenshtein': 0.865979381443299, 'dice': 0.8461538461538461, 'word_difference': 0.2666666666666667}, 'Jaké teleskopy byly použity k detekci přítomnosti temné hmoty?': {'cosine': array([[0.54171159]]), 'levenshtein': 0.36363636363636365, 'dice': 0.3783783783783784, 'word_difference': 0.7666666666666666}, 'Co odlišuje černou díru v galaxii T57 od známých černých děr?': {'cosine': array([[0.9663872]]), 'levenshtein': 0.6556776556776557, 'dice': 0.8529411764705882, 'word_difference': 0.2564102564102564}, 'Jakým způsobem by mohl objev jiného životního cyklu hvězd změnit naše metody studia vesmíru v budoucnosti?': {'cosine': array([[0.79368774]]), 'levenshtein': 0.4463276836158192, 'dice': 0.41379310344827586, 'word_difference': 0.7391304347826086}, 'Co vypovídá o tom, že záhadný objekt \"Kus zdi\" je umělého původu?': {'cosine': array([[0.73200796]]), 'levenshtein': 0.3404958677685951, 'dice': 0.38461538461538464, 'word_difference': 0.7619047619047619}, 'Jaké důsledky by mohlo mít, kdyby AI dokázaly komunikovat mezi sebou?': {'cosine': array([[0.59532664]]), 'levenshtein': 0.37677725118483407, 'dice': 0.15053763440860216, 'word_difference': 0.9186046511627907}, 'Jaké etické otázky mohou vzniknout v souvislosti s technologií, která dokáže číst lidské myšlenky?': {'cosine': array([[0.80902489]]), 'levenshtein': 0.4047109207708779, 'dice': 0.36538461538461536, 'word_difference': 0.7764705882352941}, 'Může AI v budoucnosti přebírat roli vědce a přinášet nová vědecká poznání?': {'cosine': array([[0.76484679]]), 'levenshtein': 0.4426229508196722, 'dice': 0.375, 'word_difference': 0.7692307692307692}, 'Jak se nový model pro rozpoznávání emocí liší od předchozích modelů?': {'cosine': array([[0.63382948]]), 'levenshtein': 0.36061026352288483, 'dice': 0.28888888888888886, 'word_difference': 0.8311688311688312}, 'Jakým způsobem analyzuje revoluční AI změny v čase?': {'cosine': array([[0.68016878]]), 'levenshtein': 0.4, 'dice': 0.2727272727272727, 'word_difference': 0.8421052631578947}, 'Jaká objevená látka má potenciál v boji proti virům?': {'cosine': array([[0.49410261]]), 'levenshtein': 0.4057142857142857, 'dice': 0.2978723404255319, 'word_difference': 0.825}, 'Co naznačuje, že by nová umělá inteligence mohla mít vlastní vědomí?': {'cosine': array([[0.61194112]]), 'levenshtein': 0.4411764705882353, 'dice': 0.2857142857142857, 'word_difference': 0.8333333333333334}, 'Jaké výhody přináší používání AI v diagnostice nemocí podle vědců?': {'cosine': array([[0.81743197]]), 'levenshtein': 0.3866943866943867, 'dice': 0.23728813559322035, 'word_difference': 0.8653846153846154}, 'Jaké kroky plánuje tým výzkumníků po úspěchu LuminAI v lékařském výzkumu?': {'cosine': array([[0.60649528]]), 'levenshtein': 0.3402298850574713, 'dice': 0.23529411764705882, 'word_difference': 0.8666666666666667}, 'Jakým způsobem AI pomáhá zlepšit efektivitu výroby obnovitelné energie?': {'cosine': array([[0.59418284]]), 'levenshtein': 0.42147651006711406, 'dice': 0.2962962962962963, 'word_difference': 0.8260869565217391}}}, 'paraphrase-multilingual-mpnet-base-v2': {'meta-llama/Llama-3.3-70B-Instruct-Turbo-Free': {'Jaký byl výsledek měření teploty na povrchu objektu na okraji Sluneční soustavy a co to naznačuje?': {'cosine': array([[0.85692091]]), 'levenshtein': 0.643765903307888, 'dice': 0.6326530612244898, 'word_difference': 0.5373134328358209}}}}\n",
      "{'all-MiniLM-L6-v2': {'meta-llama/Llama-3.3-70B-Instruct-Turbo-Free': {'Jaký byl výsledek měření teploty na povrchu objektu na okraji Sluneční soustavy a co to naznačuje?': {'cosine': array([[0.54393011]]), 'levenshtein': 0.3120879120879121, 'dice': 0.3, 'word_difference': 0.8235294117647058}, 'Existují nějaké známé přírodní jevy, které by tajemný signál u Proximy Centauri mohly způsobit?': {'cosine': array([[0.936775]]), 'levenshtein': 0.5466666666666666, 'dice': 0.8, 'word_difference': 0.33333333333333337}, 'Jaké chemické sloučeniny byly na povrchu jednoho z měsíců Sluneční soustavy detekovány?': {'cosine': array([[0.54955892]]), 'levenshtein': 0.351931330472103, 'dice': 0.3333333333333333, 'word_difference': 0.8}, 'Jakým teleskopem budou vědci zkoumat podrobněji světelné impulzy vycházející z oblasti černé díry v galaxii M87?': {'cosine': array([[0.65362689]]), 'levenshtein': 0.3457943925233645, 'dice': 0.2033898305084746, 'word_difference': 0.8867924528301887}, 'Byl na Marsu někdy život?': {'cosine': array([[0.81684709]]), 'levenshtein': 0.5, 'dice': 0.6153846153846154, 'word_difference': 0.5555555555555556}, 'Jaký teleskop bude vědcům umožňovat analýzu atmosféry planety Gliese 486 b?': {'cosine': array([[0.96503072]]), 'levenshtein': 0.865979381443299, 'dice': 0.8461538461538461, 'word_difference': 0.2666666666666667}, 'Jaké teleskopy byly použity k detekci přítomnosti temné hmoty?': {'cosine': array([[0.54171159]]), 'levenshtein': 0.36363636363636365, 'dice': 0.3783783783783784, 'word_difference': 0.7666666666666666}, 'Co odlišuje černou díru v galaxii T57 od známých černých děr?': {'cosine': array([[0.9663872]]), 'levenshtein': 0.6556776556776557, 'dice': 0.8529411764705882, 'word_difference': 0.2564102564102564}, 'Jakým způsobem by mohl objev jiného životního cyklu hvězd změnit naše metody studia vesmíru v budoucnosti?': {'cosine': array([[0.79368774]]), 'levenshtein': 0.4463276836158192, 'dice': 0.41379310344827586, 'word_difference': 0.7391304347826086}, 'Co vypovídá o tom, že záhadný objekt \"Kus zdi\" je umělého původu?': {'cosine': array([[0.73200796]]), 'levenshtein': 0.3404958677685951, 'dice': 0.38461538461538464, 'word_difference': 0.7619047619047619}, 'Jaké důsledky by mohlo mít, kdyby AI dokázaly komunikovat mezi sebou?': {'cosine': array([[0.59532664]]), 'levenshtein': 0.37677725118483407, 'dice': 0.15053763440860216, 'word_difference': 0.9186046511627907}, 'Jaké etické otázky mohou vzniknout v souvislosti s technologií, která dokáže číst lidské myšlenky?': {'cosine': array([[0.80902489]]), 'levenshtein': 0.4047109207708779, 'dice': 0.36538461538461536, 'word_difference': 0.7764705882352941}, 'Může AI v budoucnosti přebírat roli vědce a přinášet nová vědecká poznání?': {'cosine': array([[0.76484679]]), 'levenshtein': 0.4426229508196722, 'dice': 0.375, 'word_difference': 0.7692307692307692}, 'Jak se nový model pro rozpoznávání emocí liší od předchozích modelů?': {'cosine': array([[0.63382948]]), 'levenshtein': 0.36061026352288483, 'dice': 0.28888888888888886, 'word_difference': 0.8311688311688312}, 'Jakým způsobem analyzuje revoluční AI změny v čase?': {'cosine': array([[0.68016878]]), 'levenshtein': 0.4, 'dice': 0.2727272727272727, 'word_difference': 0.8421052631578947}, 'Jaká objevená látka má potenciál v boji proti virům?': {'cosine': array([[0.49410261]]), 'levenshtein': 0.4057142857142857, 'dice': 0.2978723404255319, 'word_difference': 0.825}, 'Co naznačuje, že by nová umělá inteligence mohla mít vlastní vědomí?': {'cosine': array([[0.61194112]]), 'levenshtein': 0.4411764705882353, 'dice': 0.2857142857142857, 'word_difference': 0.8333333333333334}, 'Jaké výhody přináší používání AI v diagnostice nemocí podle vědců?': {'cosine': array([[0.81743197]]), 'levenshtein': 0.3866943866943867, 'dice': 0.23728813559322035, 'word_difference': 0.8653846153846154}, 'Jaké kroky plánuje tým výzkumníků po úspěchu LuminAI v lékařském výzkumu?': {'cosine': array([[0.60649528]]), 'levenshtein': 0.3402298850574713, 'dice': 0.23529411764705882, 'word_difference': 0.8666666666666667}, 'Jakým způsobem AI pomáhá zlepšit efektivitu výroby obnovitelné energie?': {'cosine': array([[0.59418284]]), 'levenshtein': 0.42147651006711406, 'dice': 0.2962962962962963, 'word_difference': 0.8260869565217391}}}, 'paraphrase-multilingual-mpnet-base-v2': {'meta-llama/Llama-3.3-70B-Instruct-Turbo-Free': {'Jaký byl výsledek měření teploty na povrchu objektu na okraji Sluneční soustavy a co to naznačuje?': {'cosine': array([[0.85692091]]), 'levenshtein': 0.643765903307888, 'dice': 0.6326530612244898, 'word_difference': 0.5373134328358209}, 'Existují nějaké známé přírodní jevy, které by tajemný signál u Proximy Centauri mohly způsobit?': {'cosine': array([[0.81648727]]), 'levenshtein': 0.5471264367816092, 'dice': 0.5964912280701754, 'word_difference': 0.575}}}}\n",
      "{'all-MiniLM-L6-v2': {'meta-llama/Llama-3.3-70B-Instruct-Turbo-Free': {'Jaký byl výsledek měření teploty na povrchu objektu na okraji Sluneční soustavy a co to naznačuje?': {'cosine': array([[0.54393011]]), 'levenshtein': 0.3120879120879121, 'dice': 0.3, 'word_difference': 0.8235294117647058}, 'Existují nějaké známé přírodní jevy, které by tajemný signál u Proximy Centauri mohly způsobit?': {'cosine': array([[0.936775]]), 'levenshtein': 0.5466666666666666, 'dice': 0.8, 'word_difference': 0.33333333333333337}, 'Jaké chemické sloučeniny byly na povrchu jednoho z měsíců Sluneční soustavy detekovány?': {'cosine': array([[0.54955892]]), 'levenshtein': 0.351931330472103, 'dice': 0.3333333333333333, 'word_difference': 0.8}, 'Jakým teleskopem budou vědci zkoumat podrobněji světelné impulzy vycházející z oblasti černé díry v galaxii M87?': {'cosine': array([[0.65362689]]), 'levenshtein': 0.3457943925233645, 'dice': 0.2033898305084746, 'word_difference': 0.8867924528301887}, 'Byl na Marsu někdy život?': {'cosine': array([[0.81684709]]), 'levenshtein': 0.5, 'dice': 0.6153846153846154, 'word_difference': 0.5555555555555556}, 'Jaký teleskop bude vědcům umožňovat analýzu atmosféry planety Gliese 486 b?': {'cosine': array([[0.96503072]]), 'levenshtein': 0.865979381443299, 'dice': 0.8461538461538461, 'word_difference': 0.2666666666666667}, 'Jaké teleskopy byly použity k detekci přítomnosti temné hmoty?': {'cosine': array([[0.54171159]]), 'levenshtein': 0.36363636363636365, 'dice': 0.3783783783783784, 'word_difference': 0.7666666666666666}, 'Co odlišuje černou díru v galaxii T57 od známých černých děr?': {'cosine': array([[0.9663872]]), 'levenshtein': 0.6556776556776557, 'dice': 0.8529411764705882, 'word_difference': 0.2564102564102564}, 'Jakým způsobem by mohl objev jiného životního cyklu hvězd změnit naše metody studia vesmíru v budoucnosti?': {'cosine': array([[0.79368774]]), 'levenshtein': 0.4463276836158192, 'dice': 0.41379310344827586, 'word_difference': 0.7391304347826086}, 'Co vypovídá o tom, že záhadný objekt \"Kus zdi\" je umělého původu?': {'cosine': array([[0.73200796]]), 'levenshtein': 0.3404958677685951, 'dice': 0.38461538461538464, 'word_difference': 0.7619047619047619}, 'Jaké důsledky by mohlo mít, kdyby AI dokázaly komunikovat mezi sebou?': {'cosine': array([[0.59532664]]), 'levenshtein': 0.37677725118483407, 'dice': 0.15053763440860216, 'word_difference': 0.9186046511627907}, 'Jaké etické otázky mohou vzniknout v souvislosti s technologií, která dokáže číst lidské myšlenky?': {'cosine': array([[0.80902489]]), 'levenshtein': 0.4047109207708779, 'dice': 0.36538461538461536, 'word_difference': 0.7764705882352941}, 'Může AI v budoucnosti přebírat roli vědce a přinášet nová vědecká poznání?': {'cosine': array([[0.76484679]]), 'levenshtein': 0.4426229508196722, 'dice': 0.375, 'word_difference': 0.7692307692307692}, 'Jak se nový model pro rozpoznávání emocí liší od předchozích modelů?': {'cosine': array([[0.63382948]]), 'levenshtein': 0.36061026352288483, 'dice': 0.28888888888888886, 'word_difference': 0.8311688311688312}, 'Jakým způsobem analyzuje revoluční AI změny v čase?': {'cosine': array([[0.68016878]]), 'levenshtein': 0.4, 'dice': 0.2727272727272727, 'word_difference': 0.8421052631578947}, 'Jaká objevená látka má potenciál v boji proti virům?': {'cosine': array([[0.49410261]]), 'levenshtein': 0.4057142857142857, 'dice': 0.2978723404255319, 'word_difference': 0.825}, 'Co naznačuje, že by nová umělá inteligence mohla mít vlastní vědomí?': {'cosine': array([[0.61194112]]), 'levenshtein': 0.4411764705882353, 'dice': 0.2857142857142857, 'word_difference': 0.8333333333333334}, 'Jaké výhody přináší používání AI v diagnostice nemocí podle vědců?': {'cosine': array([[0.81743197]]), 'levenshtein': 0.3866943866943867, 'dice': 0.23728813559322035, 'word_difference': 0.8653846153846154}, 'Jaké kroky plánuje tým výzkumníků po úspěchu LuminAI v lékařském výzkumu?': {'cosine': array([[0.60649528]]), 'levenshtein': 0.3402298850574713, 'dice': 0.23529411764705882, 'word_difference': 0.8666666666666667}, 'Jakým způsobem AI pomáhá zlepšit efektivitu výroby obnovitelné energie?': {'cosine': array([[0.59418284]]), 'levenshtein': 0.42147651006711406, 'dice': 0.2962962962962963, 'word_difference': 0.8260869565217391}}}, 'paraphrase-multilingual-mpnet-base-v2': {'meta-llama/Llama-3.3-70B-Instruct-Turbo-Free': {'Jaký byl výsledek měření teploty na povrchu objektu na okraji Sluneční soustavy a co to naznačuje?': {'cosine': array([[0.85692091]]), 'levenshtein': 0.643765903307888, 'dice': 0.6326530612244898, 'word_difference': 0.5373134328358209}, 'Existují nějaké známé přírodní jevy, které by tajemný signál u Proximy Centauri mohly způsobit?': {'cosine': array([[0.81648727]]), 'levenshtein': 0.5471264367816092, 'dice': 0.5964912280701754, 'word_difference': 0.575}, 'Jaké chemické sloučeniny byly na povrchu jednoho z měsíců Sluneční soustavy detekovány?': {'cosine': array([[0.74319984]]), 'levenshtein': 0.5058139534883721, 'dice': 0.3181818181818182, 'word_difference': 0.8108108108108107}}}}\n",
      "{'all-MiniLM-L6-v2': {'meta-llama/Llama-3.3-70B-Instruct-Turbo-Free': {'Jaký byl výsledek měření teploty na povrchu objektu na okraji Sluneční soustavy a co to naznačuje?': {'cosine': array([[0.54393011]]), 'levenshtein': 0.3120879120879121, 'dice': 0.3, 'word_difference': 0.8235294117647058}, 'Existují nějaké známé přírodní jevy, které by tajemný signál u Proximy Centauri mohly způsobit?': {'cosine': array([[0.936775]]), 'levenshtein': 0.5466666666666666, 'dice': 0.8, 'word_difference': 0.33333333333333337}, 'Jaké chemické sloučeniny byly na povrchu jednoho z měsíců Sluneční soustavy detekovány?': {'cosine': array([[0.54955892]]), 'levenshtein': 0.351931330472103, 'dice': 0.3333333333333333, 'word_difference': 0.8}, 'Jakým teleskopem budou vědci zkoumat podrobněji světelné impulzy vycházející z oblasti černé díry v galaxii M87?': {'cosine': array([[0.65362689]]), 'levenshtein': 0.3457943925233645, 'dice': 0.2033898305084746, 'word_difference': 0.8867924528301887}, 'Byl na Marsu někdy život?': {'cosine': array([[0.81684709]]), 'levenshtein': 0.5, 'dice': 0.6153846153846154, 'word_difference': 0.5555555555555556}, 'Jaký teleskop bude vědcům umožňovat analýzu atmosféry planety Gliese 486 b?': {'cosine': array([[0.96503072]]), 'levenshtein': 0.865979381443299, 'dice': 0.8461538461538461, 'word_difference': 0.2666666666666667}, 'Jaké teleskopy byly použity k detekci přítomnosti temné hmoty?': {'cosine': array([[0.54171159]]), 'levenshtein': 0.36363636363636365, 'dice': 0.3783783783783784, 'word_difference': 0.7666666666666666}, 'Co odlišuje černou díru v galaxii T57 od známých černých děr?': {'cosine': array([[0.9663872]]), 'levenshtein': 0.6556776556776557, 'dice': 0.8529411764705882, 'word_difference': 0.2564102564102564}, 'Jakým způsobem by mohl objev jiného životního cyklu hvězd změnit naše metody studia vesmíru v budoucnosti?': {'cosine': array([[0.79368774]]), 'levenshtein': 0.4463276836158192, 'dice': 0.41379310344827586, 'word_difference': 0.7391304347826086}, 'Co vypovídá o tom, že záhadný objekt \"Kus zdi\" je umělého původu?': {'cosine': array([[0.73200796]]), 'levenshtein': 0.3404958677685951, 'dice': 0.38461538461538464, 'word_difference': 0.7619047619047619}, 'Jaké důsledky by mohlo mít, kdyby AI dokázaly komunikovat mezi sebou?': {'cosine': array([[0.59532664]]), 'levenshtein': 0.37677725118483407, 'dice': 0.15053763440860216, 'word_difference': 0.9186046511627907}, 'Jaké etické otázky mohou vzniknout v souvislosti s technologií, která dokáže číst lidské myšlenky?': {'cosine': array([[0.80902489]]), 'levenshtein': 0.4047109207708779, 'dice': 0.36538461538461536, 'word_difference': 0.7764705882352941}, 'Může AI v budoucnosti přebírat roli vědce a přinášet nová vědecká poznání?': {'cosine': array([[0.76484679]]), 'levenshtein': 0.4426229508196722, 'dice': 0.375, 'word_difference': 0.7692307692307692}, 'Jak se nový model pro rozpoznávání emocí liší od předchozích modelů?': {'cosine': array([[0.63382948]]), 'levenshtein': 0.36061026352288483, 'dice': 0.28888888888888886, 'word_difference': 0.8311688311688312}, 'Jakým způsobem analyzuje revoluční AI změny v čase?': {'cosine': array([[0.68016878]]), 'levenshtein': 0.4, 'dice': 0.2727272727272727, 'word_difference': 0.8421052631578947}, 'Jaká objevená látka má potenciál v boji proti virům?': {'cosine': array([[0.49410261]]), 'levenshtein': 0.4057142857142857, 'dice': 0.2978723404255319, 'word_difference': 0.825}, 'Co naznačuje, že by nová umělá inteligence mohla mít vlastní vědomí?': {'cosine': array([[0.61194112]]), 'levenshtein': 0.4411764705882353, 'dice': 0.2857142857142857, 'word_difference': 0.8333333333333334}, 'Jaké výhody přináší používání AI v diagnostice nemocí podle vědců?': {'cosine': array([[0.81743197]]), 'levenshtein': 0.3866943866943867, 'dice': 0.23728813559322035, 'word_difference': 0.8653846153846154}, 'Jaké kroky plánuje tým výzkumníků po úspěchu LuminAI v lékařském výzkumu?': {'cosine': array([[0.60649528]]), 'levenshtein': 0.3402298850574713, 'dice': 0.23529411764705882, 'word_difference': 0.8666666666666667}, 'Jakým způsobem AI pomáhá zlepšit efektivitu výroby obnovitelné energie?': {'cosine': array([[0.59418284]]), 'levenshtein': 0.42147651006711406, 'dice': 0.2962962962962963, 'word_difference': 0.8260869565217391}}}, 'paraphrase-multilingual-mpnet-base-v2': {'meta-llama/Llama-3.3-70B-Instruct-Turbo-Free': {'Jaký byl výsledek měření teploty na povrchu objektu na okraji Sluneční soustavy a co to naznačuje?': {'cosine': array([[0.85692091]]), 'levenshtein': 0.643765903307888, 'dice': 0.6326530612244898, 'word_difference': 0.5373134328358209}, 'Existují nějaké známé přírodní jevy, které by tajemný signál u Proximy Centauri mohly způsobit?': {'cosine': array([[0.81648727]]), 'levenshtein': 0.5471264367816092, 'dice': 0.5964912280701754, 'word_difference': 0.575}, 'Jaké chemické sloučeniny byly na povrchu jednoho z měsíců Sluneční soustavy detekovány?': {'cosine': array([[0.74319984]]), 'levenshtein': 0.5058139534883721, 'dice': 0.3181818181818182, 'word_difference': 0.8108108108108107}, 'Jakým teleskopem budou vědci zkoumat podrobněji světelné impulzy vycházející z oblasti černé díry v galaxii M87?': {'cosine': array([[0.73542873]]), 'levenshtein': 0.3945578231292517, 'dice': 0.1694915254237288, 'word_difference': 0.9074074074074074}}}}\n",
      "{'all-MiniLM-L6-v2': {'meta-llama/Llama-3.3-70B-Instruct-Turbo-Free': {'Jaký byl výsledek měření teploty na povrchu objektu na okraji Sluneční soustavy a co to naznačuje?': {'cosine': array([[0.54393011]]), 'levenshtein': 0.3120879120879121, 'dice': 0.3, 'word_difference': 0.8235294117647058}, 'Existují nějaké známé přírodní jevy, které by tajemný signál u Proximy Centauri mohly způsobit?': {'cosine': array([[0.936775]]), 'levenshtein': 0.5466666666666666, 'dice': 0.8, 'word_difference': 0.33333333333333337}, 'Jaké chemické sloučeniny byly na povrchu jednoho z měsíců Sluneční soustavy detekovány?': {'cosine': array([[0.54955892]]), 'levenshtein': 0.351931330472103, 'dice': 0.3333333333333333, 'word_difference': 0.8}, 'Jakým teleskopem budou vědci zkoumat podrobněji světelné impulzy vycházející z oblasti černé díry v galaxii M87?': {'cosine': array([[0.65362689]]), 'levenshtein': 0.3457943925233645, 'dice': 0.2033898305084746, 'word_difference': 0.8867924528301887}, 'Byl na Marsu někdy život?': {'cosine': array([[0.81684709]]), 'levenshtein': 0.5, 'dice': 0.6153846153846154, 'word_difference': 0.5555555555555556}, 'Jaký teleskop bude vědcům umožňovat analýzu atmosféry planety Gliese 486 b?': {'cosine': array([[0.96503072]]), 'levenshtein': 0.865979381443299, 'dice': 0.8461538461538461, 'word_difference': 0.2666666666666667}, 'Jaké teleskopy byly použity k detekci přítomnosti temné hmoty?': {'cosine': array([[0.54171159]]), 'levenshtein': 0.36363636363636365, 'dice': 0.3783783783783784, 'word_difference': 0.7666666666666666}, 'Co odlišuje černou díru v galaxii T57 od známých černých děr?': {'cosine': array([[0.9663872]]), 'levenshtein': 0.6556776556776557, 'dice': 0.8529411764705882, 'word_difference': 0.2564102564102564}, 'Jakým způsobem by mohl objev jiného životního cyklu hvězd změnit naše metody studia vesmíru v budoucnosti?': {'cosine': array([[0.79368774]]), 'levenshtein': 0.4463276836158192, 'dice': 0.41379310344827586, 'word_difference': 0.7391304347826086}, 'Co vypovídá o tom, že záhadný objekt \"Kus zdi\" je umělého původu?': {'cosine': array([[0.73200796]]), 'levenshtein': 0.3404958677685951, 'dice': 0.38461538461538464, 'word_difference': 0.7619047619047619}, 'Jaké důsledky by mohlo mít, kdyby AI dokázaly komunikovat mezi sebou?': {'cosine': array([[0.59532664]]), 'levenshtein': 0.37677725118483407, 'dice': 0.15053763440860216, 'word_difference': 0.9186046511627907}, 'Jaké etické otázky mohou vzniknout v souvislosti s technologií, která dokáže číst lidské myšlenky?': {'cosine': array([[0.80902489]]), 'levenshtein': 0.4047109207708779, 'dice': 0.36538461538461536, 'word_difference': 0.7764705882352941}, 'Může AI v budoucnosti přebírat roli vědce a přinášet nová vědecká poznání?': {'cosine': array([[0.76484679]]), 'levenshtein': 0.4426229508196722, 'dice': 0.375, 'word_difference': 0.7692307692307692}, 'Jak se nový model pro rozpoznávání emocí liší od předchozích modelů?': {'cosine': array([[0.63382948]]), 'levenshtein': 0.36061026352288483, 'dice': 0.28888888888888886, 'word_difference': 0.8311688311688312}, 'Jakým způsobem analyzuje revoluční AI změny v čase?': {'cosine': array([[0.68016878]]), 'levenshtein': 0.4, 'dice': 0.2727272727272727, 'word_difference': 0.8421052631578947}, 'Jaká objevená látka má potenciál v boji proti virům?': {'cosine': array([[0.49410261]]), 'levenshtein': 0.4057142857142857, 'dice': 0.2978723404255319, 'word_difference': 0.825}, 'Co naznačuje, že by nová umělá inteligence mohla mít vlastní vědomí?': {'cosine': array([[0.61194112]]), 'levenshtein': 0.4411764705882353, 'dice': 0.2857142857142857, 'word_difference': 0.8333333333333334}, 'Jaké výhody přináší používání AI v diagnostice nemocí podle vědců?': {'cosine': array([[0.81743197]]), 'levenshtein': 0.3866943866943867, 'dice': 0.23728813559322035, 'word_difference': 0.8653846153846154}, 'Jaké kroky plánuje tým výzkumníků po úspěchu LuminAI v lékařském výzkumu?': {'cosine': array([[0.60649528]]), 'levenshtein': 0.3402298850574713, 'dice': 0.23529411764705882, 'word_difference': 0.8666666666666667}, 'Jakým způsobem AI pomáhá zlepšit efektivitu výroby obnovitelné energie?': {'cosine': array([[0.59418284]]), 'levenshtein': 0.42147651006711406, 'dice': 0.2962962962962963, 'word_difference': 0.8260869565217391}}}, 'paraphrase-multilingual-mpnet-base-v2': {'meta-llama/Llama-3.3-70B-Instruct-Turbo-Free': {'Jaký byl výsledek měření teploty na povrchu objektu na okraji Sluneční soustavy a co to naznačuje?': {'cosine': array([[0.85692091]]), 'levenshtein': 0.643765903307888, 'dice': 0.6326530612244898, 'word_difference': 0.5373134328358209}, 'Existují nějaké známé přírodní jevy, které by tajemný signál u Proximy Centauri mohly způsobit?': {'cosine': array([[0.81648727]]), 'levenshtein': 0.5471264367816092, 'dice': 0.5964912280701754, 'word_difference': 0.575}, 'Jaké chemické sloučeniny byly na povrchu jednoho z měsíců Sluneční soustavy detekovány?': {'cosine': array([[0.74319984]]), 'levenshtein': 0.5058139534883721, 'dice': 0.3181818181818182, 'word_difference': 0.8108108108108107}, 'Jakým teleskopem budou vědci zkoumat podrobněji světelné impulzy vycházející z oblasti černé díry v galaxii M87?': {'cosine': array([[0.73542873]]), 'levenshtein': 0.3945578231292517, 'dice': 0.1694915254237288, 'word_difference': 0.9074074074074074}, 'Byl na Marsu někdy život?': {'cosine': array([[0.81410481]]), 'levenshtein': 0.498960498960499, 'dice': 0.5882352941176471, 'word_difference': 0.5833333333333333}}}}\n",
      "{'all-MiniLM-L6-v2': {'meta-llama/Llama-3.3-70B-Instruct-Turbo-Free': {'Jaký byl výsledek měření teploty na povrchu objektu na okraji Sluneční soustavy a co to naznačuje?': {'cosine': array([[0.54393011]]), 'levenshtein': 0.3120879120879121, 'dice': 0.3, 'word_difference': 0.8235294117647058}, 'Existují nějaké známé přírodní jevy, které by tajemný signál u Proximy Centauri mohly způsobit?': {'cosine': array([[0.936775]]), 'levenshtein': 0.5466666666666666, 'dice': 0.8, 'word_difference': 0.33333333333333337}, 'Jaké chemické sloučeniny byly na povrchu jednoho z měsíců Sluneční soustavy detekovány?': {'cosine': array([[0.54955892]]), 'levenshtein': 0.351931330472103, 'dice': 0.3333333333333333, 'word_difference': 0.8}, 'Jakým teleskopem budou vědci zkoumat podrobněji světelné impulzy vycházející z oblasti černé díry v galaxii M87?': {'cosine': array([[0.65362689]]), 'levenshtein': 0.3457943925233645, 'dice': 0.2033898305084746, 'word_difference': 0.8867924528301887}, 'Byl na Marsu někdy život?': {'cosine': array([[0.81684709]]), 'levenshtein': 0.5, 'dice': 0.6153846153846154, 'word_difference': 0.5555555555555556}, 'Jaký teleskop bude vědcům umožňovat analýzu atmosféry planety Gliese 486 b?': {'cosine': array([[0.96503072]]), 'levenshtein': 0.865979381443299, 'dice': 0.8461538461538461, 'word_difference': 0.2666666666666667}, 'Jaké teleskopy byly použity k detekci přítomnosti temné hmoty?': {'cosine': array([[0.54171159]]), 'levenshtein': 0.36363636363636365, 'dice': 0.3783783783783784, 'word_difference': 0.7666666666666666}, 'Co odlišuje černou díru v galaxii T57 od známých černých děr?': {'cosine': array([[0.9663872]]), 'levenshtein': 0.6556776556776557, 'dice': 0.8529411764705882, 'word_difference': 0.2564102564102564}, 'Jakým způsobem by mohl objev jiného životního cyklu hvězd změnit naše metody studia vesmíru v budoucnosti?': {'cosine': array([[0.79368774]]), 'levenshtein': 0.4463276836158192, 'dice': 0.41379310344827586, 'word_difference': 0.7391304347826086}, 'Co vypovídá o tom, že záhadný objekt \"Kus zdi\" je umělého původu?': {'cosine': array([[0.73200796]]), 'levenshtein': 0.3404958677685951, 'dice': 0.38461538461538464, 'word_difference': 0.7619047619047619}, 'Jaké důsledky by mohlo mít, kdyby AI dokázaly komunikovat mezi sebou?': {'cosine': array([[0.59532664]]), 'levenshtein': 0.37677725118483407, 'dice': 0.15053763440860216, 'word_difference': 0.9186046511627907}, 'Jaké etické otázky mohou vzniknout v souvislosti s technologií, která dokáže číst lidské myšlenky?': {'cosine': array([[0.80902489]]), 'levenshtein': 0.4047109207708779, 'dice': 0.36538461538461536, 'word_difference': 0.7764705882352941}, 'Může AI v budoucnosti přebírat roli vědce a přinášet nová vědecká poznání?': {'cosine': array([[0.76484679]]), 'levenshtein': 0.4426229508196722, 'dice': 0.375, 'word_difference': 0.7692307692307692}, 'Jak se nový model pro rozpoznávání emocí liší od předchozích modelů?': {'cosine': array([[0.63382948]]), 'levenshtein': 0.36061026352288483, 'dice': 0.28888888888888886, 'word_difference': 0.8311688311688312}, 'Jakým způsobem analyzuje revoluční AI změny v čase?': {'cosine': array([[0.68016878]]), 'levenshtein': 0.4, 'dice': 0.2727272727272727, 'word_difference': 0.8421052631578947}, 'Jaká objevená látka má potenciál v boji proti virům?': {'cosine': array([[0.49410261]]), 'levenshtein': 0.4057142857142857, 'dice': 0.2978723404255319, 'word_difference': 0.825}, 'Co naznačuje, že by nová umělá inteligence mohla mít vlastní vědomí?': {'cosine': array([[0.61194112]]), 'levenshtein': 0.4411764705882353, 'dice': 0.2857142857142857, 'word_difference': 0.8333333333333334}, 'Jaké výhody přináší používání AI v diagnostice nemocí podle vědců?': {'cosine': array([[0.81743197]]), 'levenshtein': 0.3866943866943867, 'dice': 0.23728813559322035, 'word_difference': 0.8653846153846154}, 'Jaké kroky plánuje tým výzkumníků po úspěchu LuminAI v lékařském výzkumu?': {'cosine': array([[0.60649528]]), 'levenshtein': 0.3402298850574713, 'dice': 0.23529411764705882, 'word_difference': 0.8666666666666667}, 'Jakým způsobem AI pomáhá zlepšit efektivitu výroby obnovitelné energie?': {'cosine': array([[0.59418284]]), 'levenshtein': 0.42147651006711406, 'dice': 0.2962962962962963, 'word_difference': 0.8260869565217391}}}, 'paraphrase-multilingual-mpnet-base-v2': {'meta-llama/Llama-3.3-70B-Instruct-Turbo-Free': {'Jaký byl výsledek měření teploty na povrchu objektu na okraji Sluneční soustavy a co to naznačuje?': {'cosine': array([[0.85692091]]), 'levenshtein': 0.643765903307888, 'dice': 0.6326530612244898, 'word_difference': 0.5373134328358209}, 'Existují nějaké známé přírodní jevy, které by tajemný signál u Proximy Centauri mohly způsobit?': {'cosine': array([[0.81648727]]), 'levenshtein': 0.5471264367816092, 'dice': 0.5964912280701754, 'word_difference': 0.575}, 'Jaké chemické sloučeniny byly na povrchu jednoho z měsíců Sluneční soustavy detekovány?': {'cosine': array([[0.74319984]]), 'levenshtein': 0.5058139534883721, 'dice': 0.3181818181818182, 'word_difference': 0.8108108108108107}, 'Jakým teleskopem budou vědci zkoumat podrobněji světelné impulzy vycházející z oblasti černé díry v galaxii M87?': {'cosine': array([[0.73542873]]), 'levenshtein': 0.3945578231292517, 'dice': 0.1694915254237288, 'word_difference': 0.9074074074074074}, 'Byl na Marsu někdy život?': {'cosine': array([[0.81410481]]), 'levenshtein': 0.498960498960499, 'dice': 0.5882352941176471, 'word_difference': 0.5833333333333333}, 'Jaký teleskop bude vědcům umožňovat analýzu atmosféry planety Gliese 486 b?': {'cosine': array([[0.85237465]]), 'levenshtein': 0.47115384615384615, 'dice': 0.6428571428571429, 'word_difference': 0.5263157894736843}}}}\n",
      "{'all-MiniLM-L6-v2': {'meta-llama/Llama-3.3-70B-Instruct-Turbo-Free': {'Jaký byl výsledek měření teploty na povrchu objektu na okraji Sluneční soustavy a co to naznačuje?': {'cosine': array([[0.54393011]]), 'levenshtein': 0.3120879120879121, 'dice': 0.3, 'word_difference': 0.8235294117647058}, 'Existují nějaké známé přírodní jevy, které by tajemný signál u Proximy Centauri mohly způsobit?': {'cosine': array([[0.936775]]), 'levenshtein': 0.5466666666666666, 'dice': 0.8, 'word_difference': 0.33333333333333337}, 'Jaké chemické sloučeniny byly na povrchu jednoho z měsíců Sluneční soustavy detekovány?': {'cosine': array([[0.54955892]]), 'levenshtein': 0.351931330472103, 'dice': 0.3333333333333333, 'word_difference': 0.8}, 'Jakým teleskopem budou vědci zkoumat podrobněji světelné impulzy vycházející z oblasti černé díry v galaxii M87?': {'cosine': array([[0.65362689]]), 'levenshtein': 0.3457943925233645, 'dice': 0.2033898305084746, 'word_difference': 0.8867924528301887}, 'Byl na Marsu někdy život?': {'cosine': array([[0.81684709]]), 'levenshtein': 0.5, 'dice': 0.6153846153846154, 'word_difference': 0.5555555555555556}, 'Jaký teleskop bude vědcům umožňovat analýzu atmosféry planety Gliese 486 b?': {'cosine': array([[0.96503072]]), 'levenshtein': 0.865979381443299, 'dice': 0.8461538461538461, 'word_difference': 0.2666666666666667}, 'Jaké teleskopy byly použity k detekci přítomnosti temné hmoty?': {'cosine': array([[0.54171159]]), 'levenshtein': 0.36363636363636365, 'dice': 0.3783783783783784, 'word_difference': 0.7666666666666666}, 'Co odlišuje černou díru v galaxii T57 od známých černých děr?': {'cosine': array([[0.9663872]]), 'levenshtein': 0.6556776556776557, 'dice': 0.8529411764705882, 'word_difference': 0.2564102564102564}, 'Jakým způsobem by mohl objev jiného životního cyklu hvězd změnit naše metody studia vesmíru v budoucnosti?': {'cosine': array([[0.79368774]]), 'levenshtein': 0.4463276836158192, 'dice': 0.41379310344827586, 'word_difference': 0.7391304347826086}, 'Co vypovídá o tom, že záhadný objekt \"Kus zdi\" je umělého původu?': {'cosine': array([[0.73200796]]), 'levenshtein': 0.3404958677685951, 'dice': 0.38461538461538464, 'word_difference': 0.7619047619047619}, 'Jaké důsledky by mohlo mít, kdyby AI dokázaly komunikovat mezi sebou?': {'cosine': array([[0.59532664]]), 'levenshtein': 0.37677725118483407, 'dice': 0.15053763440860216, 'word_difference': 0.9186046511627907}, 'Jaké etické otázky mohou vzniknout v souvislosti s technologií, která dokáže číst lidské myšlenky?': {'cosine': array([[0.80902489]]), 'levenshtein': 0.4047109207708779, 'dice': 0.36538461538461536, 'word_difference': 0.7764705882352941}, 'Může AI v budoucnosti přebírat roli vědce a přinášet nová vědecká poznání?': {'cosine': array([[0.76484679]]), 'levenshtein': 0.4426229508196722, 'dice': 0.375, 'word_difference': 0.7692307692307692}, 'Jak se nový model pro rozpoznávání emocí liší od předchozích modelů?': {'cosine': array([[0.63382948]]), 'levenshtein': 0.36061026352288483, 'dice': 0.28888888888888886, 'word_difference': 0.8311688311688312}, 'Jakým způsobem analyzuje revoluční AI změny v čase?': {'cosine': array([[0.68016878]]), 'levenshtein': 0.4, 'dice': 0.2727272727272727, 'word_difference': 0.8421052631578947}, 'Jaká objevená látka má potenciál v boji proti virům?': {'cosine': array([[0.49410261]]), 'levenshtein': 0.4057142857142857, 'dice': 0.2978723404255319, 'word_difference': 0.825}, 'Co naznačuje, že by nová umělá inteligence mohla mít vlastní vědomí?': {'cosine': array([[0.61194112]]), 'levenshtein': 0.4411764705882353, 'dice': 0.2857142857142857, 'word_difference': 0.8333333333333334}, 'Jaké výhody přináší používání AI v diagnostice nemocí podle vědců?': {'cosine': array([[0.81743197]]), 'levenshtein': 0.3866943866943867, 'dice': 0.23728813559322035, 'word_difference': 0.8653846153846154}, 'Jaké kroky plánuje tým výzkumníků po úspěchu LuminAI v lékařském výzkumu?': {'cosine': array([[0.60649528]]), 'levenshtein': 0.3402298850574713, 'dice': 0.23529411764705882, 'word_difference': 0.8666666666666667}, 'Jakým způsobem AI pomáhá zlepšit efektivitu výroby obnovitelné energie?': {'cosine': array([[0.59418284]]), 'levenshtein': 0.42147651006711406, 'dice': 0.2962962962962963, 'word_difference': 0.8260869565217391}}}, 'paraphrase-multilingual-mpnet-base-v2': {'meta-llama/Llama-3.3-70B-Instruct-Turbo-Free': {'Jaký byl výsledek měření teploty na povrchu objektu na okraji Sluneční soustavy a co to naznačuje?': {'cosine': array([[0.85692091]]), 'levenshtein': 0.643765903307888, 'dice': 0.6326530612244898, 'word_difference': 0.5373134328358209}, 'Existují nějaké známé přírodní jevy, které by tajemný signál u Proximy Centauri mohly způsobit?': {'cosine': array([[0.81648727]]), 'levenshtein': 0.5471264367816092, 'dice': 0.5964912280701754, 'word_difference': 0.575}, 'Jaké chemické sloučeniny byly na povrchu jednoho z měsíců Sluneční soustavy detekovány?': {'cosine': array([[0.74319984]]), 'levenshtein': 0.5058139534883721, 'dice': 0.3181818181818182, 'word_difference': 0.8108108108108107}, 'Jakým teleskopem budou vědci zkoumat podrobněji světelné impulzy vycházející z oblasti černé díry v galaxii M87?': {'cosine': array([[0.73542873]]), 'levenshtein': 0.3945578231292517, 'dice': 0.1694915254237288, 'word_difference': 0.9074074074074074}, 'Byl na Marsu někdy život?': {'cosine': array([[0.81410481]]), 'levenshtein': 0.498960498960499, 'dice': 0.5882352941176471, 'word_difference': 0.5833333333333333}, 'Jaký teleskop bude vědcům umožňovat analýzu atmosféry planety Gliese 486 b?': {'cosine': array([[0.85237465]]), 'levenshtein': 0.47115384615384615, 'dice': 0.6428571428571429, 'word_difference': 0.5263157894736843}, 'Jaké teleskopy byly použity k detekci přítomnosti temné hmoty?': {'cosine': array([[0.82990036]]), 'levenshtein': 0.6198347107438016, 'dice': 0.6285714285714286, 'word_difference': 0.5416666666666667}}}}\n",
      "{'all-MiniLM-L6-v2': {'meta-llama/Llama-3.3-70B-Instruct-Turbo-Free': {'Jaký byl výsledek měření teploty na povrchu objektu na okraji Sluneční soustavy a co to naznačuje?': {'cosine': array([[0.54393011]]), 'levenshtein': 0.3120879120879121, 'dice': 0.3, 'word_difference': 0.8235294117647058}, 'Existují nějaké známé přírodní jevy, které by tajemný signál u Proximy Centauri mohly způsobit?': {'cosine': array([[0.936775]]), 'levenshtein': 0.5466666666666666, 'dice': 0.8, 'word_difference': 0.33333333333333337}, 'Jaké chemické sloučeniny byly na povrchu jednoho z měsíců Sluneční soustavy detekovány?': {'cosine': array([[0.54955892]]), 'levenshtein': 0.351931330472103, 'dice': 0.3333333333333333, 'word_difference': 0.8}, 'Jakým teleskopem budou vědci zkoumat podrobněji světelné impulzy vycházející z oblasti černé díry v galaxii M87?': {'cosine': array([[0.65362689]]), 'levenshtein': 0.3457943925233645, 'dice': 0.2033898305084746, 'word_difference': 0.8867924528301887}, 'Byl na Marsu někdy život?': {'cosine': array([[0.81684709]]), 'levenshtein': 0.5, 'dice': 0.6153846153846154, 'word_difference': 0.5555555555555556}, 'Jaký teleskop bude vědcům umožňovat analýzu atmosféry planety Gliese 486 b?': {'cosine': array([[0.96503072]]), 'levenshtein': 0.865979381443299, 'dice': 0.8461538461538461, 'word_difference': 0.2666666666666667}, 'Jaké teleskopy byly použity k detekci přítomnosti temné hmoty?': {'cosine': array([[0.54171159]]), 'levenshtein': 0.36363636363636365, 'dice': 0.3783783783783784, 'word_difference': 0.7666666666666666}, 'Co odlišuje černou díru v galaxii T57 od známých černých děr?': {'cosine': array([[0.9663872]]), 'levenshtein': 0.6556776556776557, 'dice': 0.8529411764705882, 'word_difference': 0.2564102564102564}, 'Jakým způsobem by mohl objev jiného životního cyklu hvězd změnit naše metody studia vesmíru v budoucnosti?': {'cosine': array([[0.79368774]]), 'levenshtein': 0.4463276836158192, 'dice': 0.41379310344827586, 'word_difference': 0.7391304347826086}, 'Co vypovídá o tom, že záhadný objekt \"Kus zdi\" je umělého původu?': {'cosine': array([[0.73200796]]), 'levenshtein': 0.3404958677685951, 'dice': 0.38461538461538464, 'word_difference': 0.7619047619047619}, 'Jaké důsledky by mohlo mít, kdyby AI dokázaly komunikovat mezi sebou?': {'cosine': array([[0.59532664]]), 'levenshtein': 0.37677725118483407, 'dice': 0.15053763440860216, 'word_difference': 0.9186046511627907}, 'Jaké etické otázky mohou vzniknout v souvislosti s technologií, která dokáže číst lidské myšlenky?': {'cosine': array([[0.80902489]]), 'levenshtein': 0.4047109207708779, 'dice': 0.36538461538461536, 'word_difference': 0.7764705882352941}, 'Může AI v budoucnosti přebírat roli vědce a přinášet nová vědecká poznání?': {'cosine': array([[0.76484679]]), 'levenshtein': 0.4426229508196722, 'dice': 0.375, 'word_difference': 0.7692307692307692}, 'Jak se nový model pro rozpoznávání emocí liší od předchozích modelů?': {'cosine': array([[0.63382948]]), 'levenshtein': 0.36061026352288483, 'dice': 0.28888888888888886, 'word_difference': 0.8311688311688312}, 'Jakým způsobem analyzuje revoluční AI změny v čase?': {'cosine': array([[0.68016878]]), 'levenshtein': 0.4, 'dice': 0.2727272727272727, 'word_difference': 0.8421052631578947}, 'Jaká objevená látka má potenciál v boji proti virům?': {'cosine': array([[0.49410261]]), 'levenshtein': 0.4057142857142857, 'dice': 0.2978723404255319, 'word_difference': 0.825}, 'Co naznačuje, že by nová umělá inteligence mohla mít vlastní vědomí?': {'cosine': array([[0.61194112]]), 'levenshtein': 0.4411764705882353, 'dice': 0.2857142857142857, 'word_difference': 0.8333333333333334}, 'Jaké výhody přináší používání AI v diagnostice nemocí podle vědců?': {'cosine': array([[0.81743197]]), 'levenshtein': 0.3866943866943867, 'dice': 0.23728813559322035, 'word_difference': 0.8653846153846154}, 'Jaké kroky plánuje tým výzkumníků po úspěchu LuminAI v lékařském výzkumu?': {'cosine': array([[0.60649528]]), 'levenshtein': 0.3402298850574713, 'dice': 0.23529411764705882, 'word_difference': 0.8666666666666667}, 'Jakým způsobem AI pomáhá zlepšit efektivitu výroby obnovitelné energie?': {'cosine': array([[0.59418284]]), 'levenshtein': 0.42147651006711406, 'dice': 0.2962962962962963, 'word_difference': 0.8260869565217391}}}, 'paraphrase-multilingual-mpnet-base-v2': {'meta-llama/Llama-3.3-70B-Instruct-Turbo-Free': {'Jaký byl výsledek měření teploty na povrchu objektu na okraji Sluneční soustavy a co to naznačuje?': {'cosine': array([[0.85692091]]), 'levenshtein': 0.643765903307888, 'dice': 0.6326530612244898, 'word_difference': 0.5373134328358209}, 'Existují nějaké známé přírodní jevy, které by tajemný signál u Proximy Centauri mohly způsobit?': {'cosine': array([[0.81648727]]), 'levenshtein': 0.5471264367816092, 'dice': 0.5964912280701754, 'word_difference': 0.575}, 'Jaké chemické sloučeniny byly na povrchu jednoho z měsíců Sluneční soustavy detekovány?': {'cosine': array([[0.74319984]]), 'levenshtein': 0.5058139534883721, 'dice': 0.3181818181818182, 'word_difference': 0.8108108108108107}, 'Jakým teleskopem budou vědci zkoumat podrobněji světelné impulzy vycházející z oblasti černé díry v galaxii M87?': {'cosine': array([[0.73542873]]), 'levenshtein': 0.3945578231292517, 'dice': 0.1694915254237288, 'word_difference': 0.9074074074074074}, 'Byl na Marsu někdy život?': {'cosine': array([[0.81410481]]), 'levenshtein': 0.498960498960499, 'dice': 0.5882352941176471, 'word_difference': 0.5833333333333333}, 'Jaký teleskop bude vědcům umožňovat analýzu atmosféry planety Gliese 486 b?': {'cosine': array([[0.85237465]]), 'levenshtein': 0.47115384615384615, 'dice': 0.6428571428571429, 'word_difference': 0.5263157894736843}, 'Jaké teleskopy byly použity k detekci přítomnosti temné hmoty?': {'cosine': array([[0.82990036]]), 'levenshtein': 0.6198347107438016, 'dice': 0.6285714285714286, 'word_difference': 0.5416666666666667}, 'Co odlišuje černou díru v galaxii T57 od známých černých děr?': {'cosine': array([[0.96010102]]), 'levenshtein': 0.6480836236933798, 'dice': 0.9041095890410958, 'word_difference': 0.17500000000000004}}}}\n",
      "Error code: 503 - The server is overloaded or not ready yet.\n",
      " – generation failed with meta-llama/Llama-3.3-70B-Instruct-Turbo-Free – skipping rest of this provider\n"
     ]
    }
   ],
   "source": [
    "from model_config.prompt_template import inject_prompt\n",
    "from tests.similarity_calculating_test import SimilarityCalculator\n",
    "\n",
    "all_combs_results = {}\n",
    "\n",
    "\n",
    "for model_family in embedding_models:\n",
    "    for embedding_model_name in embedding_models[model_family]:\n",
    "        print(f\"Working on {embedding_model_name}...\")\n",
    "        try:\n",
    "            vectorizator.get_or_load_model_collection(model_family, embedding_model_name)\n",
    "            print(\"Collection done.\")\n",
    "        except Exception as err:\n",
    "            print(err)\n",
    "            break # continue with next model\n",
    "\n",
    "        all_combs_results[embedding_model_name] = {}\n",
    "        for provider in generative_models.keys():\n",
    "            try:\n",
    "                chatbot = GenerativeModelClient(provider)\n",
    "                print(\"API success...\")\n",
    "            except Exception as err:\n",
    "                print(f\"{err}\\n – something went wrong while initializing the client, trying next provider...\")\n",
    "                continue\n",
    "\n",
    "            for generative_model_name in generative_models[provider]:\n",
    "                \n",
    "                all_combs_results[embedding_model_name][generative_model_name] = {}\n",
    "                print(\"Assigned generative model...\")\n",
    "             \n",
    "                for i in range(len(qa_eval_set)):\n",
    "                    question = qa_eval_set[i][\"question\"]\n",
    "                    expected_answer = qa_eval_set[i][\"answer\"]\n",
    "\n",
    "                    outputs = vectorizator.get_results(question)\n",
    "                    context = \"\\n\\n\".join(outputs[\"documents\"][0])\n",
    "                    prompt = inject_prompt(context, question)\n",
    "                    try:\n",
    "                        generated_answer = chatbot.generate_answer(prompt, generative_model_name)\n",
    "                    except Exception as err:\n",
    "                        print(f\"{err}\\n – generation failed with {generative_model_name} – skipping rest of this provider\")\n",
    "                        generation_failed = True\n",
    "                        break\n",
    "                    \n",
    "                    similaritator = SimilarityCalculator(expected_answer, generated_answer)\n",
    "                    answer_eval_results = similaritator.compare_texts()\n",
    "                    all_combs_results[embedding_model_name][generative_model_name][question] = answer_eval_results\n",
    "                    print(all_combs_results)\n",
    "                \n",
    "                if generation_failed:\n",
    "                    break\n",
    "            \n",
    "        "
   ]
  },
  {
   "cell_type": "code",
   "execution_count": 48,
   "id": "02a701a3",
   "metadata": {},
   "outputs": [
    {
     "data": {
      "text/plain": [
       "{'all-MiniLM-L6-v2': {'meta-llama/Llama-3.3-70B-Instruct-Turbo-Free': {'Jaký byl výsledek měření teploty na povrchu objektu na okraji Sluneční soustavy a co to naznačuje?': {'cosine': array([[0.54393011]]),\n",
       "    'levenshtein': 0.3120879120879121,\n",
       "    'dice': 0.3,\n",
       "    'word_difference': 0.8235294117647058},\n",
       "   'Existují nějaké známé přírodní jevy, které by tajemný signál u Proximy Centauri mohly způsobit?': {'cosine': array([[0.936775]]),\n",
       "    'levenshtein': 0.5466666666666666,\n",
       "    'dice': 0.8,\n",
       "    'word_difference': 0.33333333333333337},\n",
       "   'Jaké chemické sloučeniny byly na povrchu jednoho z měsíců Sluneční soustavy detekovány?': {'cosine': array([[0.54955892]]),\n",
       "    'levenshtein': 0.351931330472103,\n",
       "    'dice': 0.3333333333333333,\n",
       "    'word_difference': 0.8},\n",
       "   'Jakým teleskopem budou vědci zkoumat podrobněji světelné impulzy vycházející z oblasti černé díry v galaxii M87?': {'cosine': array([[0.65362689]]),\n",
       "    'levenshtein': 0.3457943925233645,\n",
       "    'dice': 0.2033898305084746,\n",
       "    'word_difference': 0.8867924528301887},\n",
       "   'Byl na Marsu někdy život?': {'cosine': array([[0.81684709]]),\n",
       "    'levenshtein': 0.5,\n",
       "    'dice': 0.6153846153846154,\n",
       "    'word_difference': 0.5555555555555556},\n",
       "   'Jaký teleskop bude vědcům umožňovat analýzu atmosféry planety Gliese 486 b?': {'cosine': array([[0.96503072]]),\n",
       "    'levenshtein': 0.865979381443299,\n",
       "    'dice': 0.8461538461538461,\n",
       "    'word_difference': 0.2666666666666667},\n",
       "   'Jaké teleskopy byly použity k detekci přítomnosti temné hmoty?': {'cosine': array([[0.54171159]]),\n",
       "    'levenshtein': 0.36363636363636365,\n",
       "    'dice': 0.3783783783783784,\n",
       "    'word_difference': 0.7666666666666666},\n",
       "   'Co odlišuje černou díru v galaxii T57 od známých černých děr?': {'cosine': array([[0.9663872]]),\n",
       "    'levenshtein': 0.6556776556776557,\n",
       "    'dice': 0.8529411764705882,\n",
       "    'word_difference': 0.2564102564102564},\n",
       "   'Jakým způsobem by mohl objev jiného životního cyklu hvězd změnit naše metody studia vesmíru v budoucnosti?': {'cosine': array([[0.79368774]]),\n",
       "    'levenshtein': 0.4463276836158192,\n",
       "    'dice': 0.41379310344827586,\n",
       "    'word_difference': 0.7391304347826086},\n",
       "   'Co vypovídá o tom, že záhadný objekt \"Kus zdi\" je umělého původu?': {'cosine': array([[0.73200796]]),\n",
       "    'levenshtein': 0.3404958677685951,\n",
       "    'dice': 0.38461538461538464,\n",
       "    'word_difference': 0.7619047619047619},\n",
       "   'Jaké důsledky by mohlo mít, kdyby AI dokázaly komunikovat mezi sebou?': {'cosine': array([[0.59532664]]),\n",
       "    'levenshtein': 0.37677725118483407,\n",
       "    'dice': 0.15053763440860216,\n",
       "    'word_difference': 0.9186046511627907},\n",
       "   'Jaké etické otázky mohou vzniknout v souvislosti s technologií, která dokáže číst lidské myšlenky?': {'cosine': array([[0.80902489]]),\n",
       "    'levenshtein': 0.4047109207708779,\n",
       "    'dice': 0.36538461538461536,\n",
       "    'word_difference': 0.7764705882352941},\n",
       "   'Může AI v budoucnosti přebírat roli vědce a přinášet nová vědecká poznání?': {'cosine': array([[0.76484679]]),\n",
       "    'levenshtein': 0.4426229508196722,\n",
       "    'dice': 0.375,\n",
       "    'word_difference': 0.7692307692307692},\n",
       "   'Jak se nový model pro rozpoznávání emocí liší od předchozích modelů?': {'cosine': array([[0.63382948]]),\n",
       "    'levenshtein': 0.36061026352288483,\n",
       "    'dice': 0.28888888888888886,\n",
       "    'word_difference': 0.8311688311688312},\n",
       "   'Jakým způsobem analyzuje revoluční AI změny v čase?': {'cosine': array([[0.68016878]]),\n",
       "    'levenshtein': 0.4,\n",
       "    'dice': 0.2727272727272727,\n",
       "    'word_difference': 0.8421052631578947},\n",
       "   'Jaká objevená látka má potenciál v boji proti virům?': {'cosine': array([[0.49410261]]),\n",
       "    'levenshtein': 0.4057142857142857,\n",
       "    'dice': 0.2978723404255319,\n",
       "    'word_difference': 0.825},\n",
       "   'Co naznačuje, že by nová umělá inteligence mohla mít vlastní vědomí?': {'cosine': array([[0.61194112]]),\n",
       "    'levenshtein': 0.4411764705882353,\n",
       "    'dice': 0.2857142857142857,\n",
       "    'word_difference': 0.8333333333333334},\n",
       "   'Jaké výhody přináší používání AI v diagnostice nemocí podle vědců?': {'cosine': array([[0.81743197]]),\n",
       "    'levenshtein': 0.3866943866943867,\n",
       "    'dice': 0.23728813559322035,\n",
       "    'word_difference': 0.8653846153846154},\n",
       "   'Jaké kroky plánuje tým výzkumníků po úspěchu LuminAI v lékařském výzkumu?': {'cosine': array([[0.60649528]]),\n",
       "    'levenshtein': 0.3402298850574713,\n",
       "    'dice': 0.23529411764705882,\n",
       "    'word_difference': 0.8666666666666667},\n",
       "   'Jakým způsobem AI pomáhá zlepšit efektivitu výroby obnovitelné energie?': {'cosine': array([[0.59418284]]),\n",
       "    'levenshtein': 0.42147651006711406,\n",
       "    'dice': 0.2962962962962963,\n",
       "    'word_difference': 0.8260869565217391}}},\n",
       " 'paraphrase-multilingual-mpnet-base-v2': {'meta-llama/Llama-3.3-70B-Instruct-Turbo-Free': {'Jaký byl výsledek měření teploty na povrchu objektu na okraji Sluneční soustavy a co to naznačuje?': {'cosine': array([[0.85692091]]),\n",
       "    'levenshtein': 0.643765903307888,\n",
       "    'dice': 0.6326530612244898,\n",
       "    'word_difference': 0.5373134328358209},\n",
       "   'Existují nějaké známé přírodní jevy, které by tajemný signál u Proximy Centauri mohly způsobit?': {'cosine': array([[0.81648727]]),\n",
       "    'levenshtein': 0.5471264367816092,\n",
       "    'dice': 0.5964912280701754,\n",
       "    'word_difference': 0.575},\n",
       "   'Jaké chemické sloučeniny byly na povrchu jednoho z měsíců Sluneční soustavy detekovány?': {'cosine': array([[0.74319984]]),\n",
       "    'levenshtein': 0.5058139534883721,\n",
       "    'dice': 0.3181818181818182,\n",
       "    'word_difference': 0.8108108108108107},\n",
       "   'Jakým teleskopem budou vědci zkoumat podrobněji světelné impulzy vycházející z oblasti černé díry v galaxii M87?': {'cosine': array([[0.73542873]]),\n",
       "    'levenshtein': 0.3945578231292517,\n",
       "    'dice': 0.1694915254237288,\n",
       "    'word_difference': 0.9074074074074074},\n",
       "   'Byl na Marsu někdy život?': {'cosine': array([[0.81410481]]),\n",
       "    'levenshtein': 0.498960498960499,\n",
       "    'dice': 0.5882352941176471,\n",
       "    'word_difference': 0.5833333333333333},\n",
       "   'Jaký teleskop bude vědcům umožňovat analýzu atmosféry planety Gliese 486 b?': {'cosine': array([[0.85237465]]),\n",
       "    'levenshtein': 0.47115384615384615,\n",
       "    'dice': 0.6428571428571429,\n",
       "    'word_difference': 0.5263157894736843},\n",
       "   'Jaké teleskopy byly použity k detekci přítomnosti temné hmoty?': {'cosine': array([[0.82990036]]),\n",
       "    'levenshtein': 0.6198347107438016,\n",
       "    'dice': 0.6285714285714286,\n",
       "    'word_difference': 0.5416666666666667},\n",
       "   'Co odlišuje černou díru v galaxii T57 od známých černých děr?': {'cosine': array([[0.96010102]]),\n",
       "    'levenshtein': 0.6480836236933798,\n",
       "    'dice': 0.9041095890410958,\n",
       "    'word_difference': 0.17500000000000004}}}}"
      ]
     },
     "execution_count": 48,
     "metadata": {},
     "output_type": "execute_result"
    }
   ],
   "source": [
    "all_combs_results"
   ]
  },
  {
   "cell_type": "code",
   "execution_count": 45,
   "id": "eeb75ae6",
   "metadata": {},
   "outputs": [
    {
     "ename": "TypeError",
     "evalue": "Object of type ndarray is not JSON serializable",
     "output_type": "error",
     "traceback": [
      "\u001b[31m---------------------------------------------------------------------------\u001b[39m",
      "\u001b[31mTypeError\u001b[39m                                 Traceback (most recent call last)",
      "\u001b[36mCell\u001b[39m\u001b[36m \u001b[39m\u001b[32mIn[45]\u001b[39m\u001b[32m, line 1\u001b[39m\n\u001b[32m----> \u001b[39m\u001b[32m1\u001b[39m \u001b[43mrf\u001b[49m\u001b[43m.\u001b[49m\u001b[43msave_json\u001b[49m\u001b[43m(\u001b[49m\u001b[43mall_combs_results\u001b[49m\u001b[43m,\u001b[49m\u001b[43m \u001b[49m\u001b[33;43m\"\u001b[39;49m\u001b[33;43mtests/test_results.json\u001b[39;49m\u001b[33;43m\"\u001b[39;49m\u001b[43m)\u001b[49m \n",
      "\u001b[36mFile \u001b[39m\u001b[32mc:\\Users\\RobosizeME\\Documents\\spaghetti-bolognese\\tools\\rag_functions.py:54\u001b[39m, in \u001b[36msave_json\u001b[39m\u001b[34m(data, path)\u001b[39m\n\u001b[32m     52\u001b[39m \u001b[38;5;28;01mdef\u001b[39;00m\u001b[38;5;250m \u001b[39m\u001b[34msave_json\u001b[39m(data, path):\n\u001b[32m     53\u001b[39m     \u001b[38;5;28;01mwith\u001b[39;00m \u001b[38;5;28mopen\u001b[39m(path, \u001b[33m\"\u001b[39m\u001b[33mw\u001b[39m\u001b[33m\"\u001b[39m, encoding=\u001b[33m\"\u001b[39m\u001b[33mutf-8\u001b[39m\u001b[33m\"\u001b[39m) \u001b[38;5;28;01mas\u001b[39;00m f:\n\u001b[32m---> \u001b[39m\u001b[32m54\u001b[39m         \u001b[43mjson\u001b[49m\u001b[43m.\u001b[49m\u001b[43mdump\u001b[49m\u001b[43m(\u001b[49m\u001b[43mdata\u001b[49m\u001b[43m,\u001b[49m\u001b[43m \u001b[49m\u001b[43mf\u001b[49m\u001b[43m,\u001b[49m\u001b[43m \u001b[49m\u001b[43mensure_ascii\u001b[49m\u001b[43m=\u001b[49m\u001b[38;5;28;43;01mFalse\u001b[39;49;00m\u001b[43m,\u001b[49m\u001b[43m \u001b[49m\u001b[43mindent\u001b[49m\u001b[43m=\u001b[49m\u001b[32;43m5\u001b[39;49m\u001b[43m)\u001b[49m\n",
      "\u001b[36mFile \u001b[39m\u001b[32mc:\\Users\\RobosizeME\\AppData\\Local\\Programs\\Python\\Python313\\Lib\\json\\__init__.py:179\u001b[39m, in \u001b[36mdump\u001b[39m\u001b[34m(obj, fp, skipkeys, ensure_ascii, check_circular, allow_nan, cls, indent, separators, default, sort_keys, **kw)\u001b[39m\n\u001b[32m    173\u001b[39m     iterable = \u001b[38;5;28mcls\u001b[39m(skipkeys=skipkeys, ensure_ascii=ensure_ascii,\n\u001b[32m    174\u001b[39m         check_circular=check_circular, allow_nan=allow_nan, indent=indent,\n\u001b[32m    175\u001b[39m         separators=separators,\n\u001b[32m    176\u001b[39m         default=default, sort_keys=sort_keys, **kw).iterencode(obj)\n\u001b[32m    177\u001b[39m \u001b[38;5;66;03m# could accelerate with writelines in some versions of Python, at\u001b[39;00m\n\u001b[32m    178\u001b[39m \u001b[38;5;66;03m# a debuggability cost\u001b[39;00m\n\u001b[32m--> \u001b[39m\u001b[32m179\u001b[39m \u001b[43m\u001b[49m\u001b[38;5;28;43;01mfor\u001b[39;49;00m\u001b[43m \u001b[49m\u001b[43mchunk\u001b[49m\u001b[43m \u001b[49m\u001b[38;5;129;43;01min\u001b[39;49;00m\u001b[43m \u001b[49m\u001b[43miterable\u001b[49m\u001b[43m:\u001b[49m\n\u001b[32m    180\u001b[39m \u001b[43m    \u001b[49m\u001b[43mfp\u001b[49m\u001b[43m.\u001b[49m\u001b[43mwrite\u001b[49m\u001b[43m(\u001b[49m\u001b[43mchunk\u001b[49m\u001b[43m)\u001b[49m\n",
      "\u001b[36mFile \u001b[39m\u001b[32mc:\\Users\\RobosizeME\\AppData\\Local\\Programs\\Python\\Python313\\Lib\\json\\encoder.py:433\u001b[39m, in \u001b[36m_make_iterencode.<locals>._iterencode\u001b[39m\u001b[34m(o, _current_indent_level)\u001b[39m\n\u001b[32m    431\u001b[39m     \u001b[38;5;28;01myield from\u001b[39;00m _iterencode_list(o, _current_indent_level)\n\u001b[32m    432\u001b[39m \u001b[38;5;28;01melif\u001b[39;00m \u001b[38;5;28misinstance\u001b[39m(o, \u001b[38;5;28mdict\u001b[39m):\n\u001b[32m--> \u001b[39m\u001b[32m433\u001b[39m     \u001b[38;5;28;01myield from\u001b[39;00m _iterencode_dict(o, _current_indent_level)\n\u001b[32m    434\u001b[39m \u001b[38;5;28;01melse\u001b[39;00m:\n\u001b[32m    435\u001b[39m     \u001b[38;5;28;01mif\u001b[39;00m markers \u001b[38;5;129;01mis\u001b[39;00m \u001b[38;5;129;01mnot\u001b[39;00m \u001b[38;5;28;01mNone\u001b[39;00m:\n",
      "\u001b[36mFile \u001b[39m\u001b[32mc:\\Users\\RobosizeME\\AppData\\Local\\Programs\\Python\\Python313\\Lib\\json\\encoder.py:407\u001b[39m, in \u001b[36m_make_iterencode.<locals>._iterencode_dict\u001b[39m\u001b[34m(dct, _current_indent_level)\u001b[39m\n\u001b[32m    405\u001b[39m         \u001b[38;5;28;01melse\u001b[39;00m:\n\u001b[32m    406\u001b[39m             chunks = _iterencode(value, _current_indent_level)\n\u001b[32m--> \u001b[39m\u001b[32m407\u001b[39m         \u001b[38;5;28;01myield from\u001b[39;00m chunks\n\u001b[32m    408\u001b[39m \u001b[38;5;28;01mif\u001b[39;00m \u001b[38;5;129;01mnot\u001b[39;00m first \u001b[38;5;129;01mand\u001b[39;00m newline_indent \u001b[38;5;129;01mis\u001b[39;00m \u001b[38;5;129;01mnot\u001b[39;00m \u001b[38;5;28;01mNone\u001b[39;00m:\n\u001b[32m    409\u001b[39m     _current_indent_level -= \u001b[32m1\u001b[39m\n",
      "\u001b[36mFile \u001b[39m\u001b[32mc:\\Users\\RobosizeME\\AppData\\Local\\Programs\\Python\\Python313\\Lib\\json\\encoder.py:407\u001b[39m, in \u001b[36m_make_iterencode.<locals>._iterencode_dict\u001b[39m\u001b[34m(dct, _current_indent_level)\u001b[39m\n\u001b[32m    405\u001b[39m         \u001b[38;5;28;01melse\u001b[39;00m:\n\u001b[32m    406\u001b[39m             chunks = _iterencode(value, _current_indent_level)\n\u001b[32m--> \u001b[39m\u001b[32m407\u001b[39m         \u001b[38;5;28;01myield from\u001b[39;00m chunks\n\u001b[32m    408\u001b[39m \u001b[38;5;28;01mif\u001b[39;00m \u001b[38;5;129;01mnot\u001b[39;00m first \u001b[38;5;129;01mand\u001b[39;00m newline_indent \u001b[38;5;129;01mis\u001b[39;00m \u001b[38;5;129;01mnot\u001b[39;00m \u001b[38;5;28;01mNone\u001b[39;00m:\n\u001b[32m    409\u001b[39m     _current_indent_level -= \u001b[32m1\u001b[39m\n",
      "    \u001b[31m[... skipping similar frames: _make_iterencode.<locals>._iterencode_dict at line 407 (1 times)]\u001b[39m\n",
      "\u001b[36mFile \u001b[39m\u001b[32mc:\\Users\\RobosizeME\\AppData\\Local\\Programs\\Python\\Python313\\Lib\\json\\encoder.py:407\u001b[39m, in \u001b[36m_make_iterencode.<locals>._iterencode_dict\u001b[39m\u001b[34m(dct, _current_indent_level)\u001b[39m\n\u001b[32m    405\u001b[39m         \u001b[38;5;28;01melse\u001b[39;00m:\n\u001b[32m    406\u001b[39m             chunks = _iterencode(value, _current_indent_level)\n\u001b[32m--> \u001b[39m\u001b[32m407\u001b[39m         \u001b[38;5;28;01myield from\u001b[39;00m chunks\n\u001b[32m    408\u001b[39m \u001b[38;5;28;01mif\u001b[39;00m \u001b[38;5;129;01mnot\u001b[39;00m first \u001b[38;5;129;01mand\u001b[39;00m newline_indent \u001b[38;5;129;01mis\u001b[39;00m \u001b[38;5;129;01mnot\u001b[39;00m \u001b[38;5;28;01mNone\u001b[39;00m:\n\u001b[32m    409\u001b[39m     _current_indent_level -= \u001b[32m1\u001b[39m\n",
      "\u001b[36mFile \u001b[39m\u001b[32mc:\\Users\\RobosizeME\\AppData\\Local\\Programs\\Python\\Python313\\Lib\\json\\encoder.py:440\u001b[39m, in \u001b[36m_make_iterencode.<locals>._iterencode\u001b[39m\u001b[34m(o, _current_indent_level)\u001b[39m\n\u001b[32m    438\u001b[39m         \u001b[38;5;28;01mraise\u001b[39;00m \u001b[38;5;167;01mValueError\u001b[39;00m(\u001b[33m\"\u001b[39m\u001b[33mCircular reference detected\u001b[39m\u001b[33m\"\u001b[39m)\n\u001b[32m    439\u001b[39m     markers[markerid] = o\n\u001b[32m--> \u001b[39m\u001b[32m440\u001b[39m o = \u001b[43m_default\u001b[49m\u001b[43m(\u001b[49m\u001b[43mo\u001b[49m\u001b[43m)\u001b[49m\n\u001b[32m    441\u001b[39m \u001b[38;5;28;01myield from\u001b[39;00m _iterencode(o, _current_indent_level)\n\u001b[32m    442\u001b[39m \u001b[38;5;28;01mif\u001b[39;00m markers \u001b[38;5;129;01mis\u001b[39;00m \u001b[38;5;129;01mnot\u001b[39;00m \u001b[38;5;28;01mNone\u001b[39;00m:\n",
      "\u001b[36mFile \u001b[39m\u001b[32mc:\\Users\\RobosizeME\\AppData\\Local\\Programs\\Python\\Python313\\Lib\\json\\encoder.py:180\u001b[39m, in \u001b[36mJSONEncoder.default\u001b[39m\u001b[34m(self, o)\u001b[39m\n\u001b[32m    161\u001b[39m \u001b[38;5;28;01mdef\u001b[39;00m\u001b[38;5;250m \u001b[39m\u001b[34mdefault\u001b[39m(\u001b[38;5;28mself\u001b[39m, o):\n\u001b[32m    162\u001b[39m \u001b[38;5;250m    \u001b[39m\u001b[33;03m\"\"\"Implement this method in a subclass such that it returns\u001b[39;00m\n\u001b[32m    163\u001b[39m \u001b[33;03m    a serializable object for ``o``, or calls the base implementation\u001b[39;00m\n\u001b[32m    164\u001b[39m \u001b[33;03m    (to raise a ``TypeError``).\u001b[39;00m\n\u001b[32m   (...)\u001b[39m\u001b[32m    178\u001b[39m \n\u001b[32m    179\u001b[39m \u001b[33;03m    \"\"\"\u001b[39;00m\n\u001b[32m--> \u001b[39m\u001b[32m180\u001b[39m     \u001b[38;5;28;01mraise\u001b[39;00m \u001b[38;5;167;01mTypeError\u001b[39;00m(\u001b[33mf\u001b[39m\u001b[33m'\u001b[39m\u001b[33mObject of type \u001b[39m\u001b[38;5;132;01m{\u001b[39;00mo.\u001b[34m__class__\u001b[39m.\u001b[34m__name__\u001b[39m\u001b[38;5;132;01m}\u001b[39;00m\u001b[33m \u001b[39m\u001b[33m'\u001b[39m\n\u001b[32m    181\u001b[39m                     \u001b[33mf\u001b[39m\u001b[33m'\u001b[39m\u001b[33mis not JSON serializable\u001b[39m\u001b[33m'\u001b[39m)\n",
      "\u001b[31mTypeError\u001b[39m: Object of type ndarray is not JSON serializable"
     ]
    }
   ],
   "source": [
    "rf.save_json(all_combs_results, \"tests/test_results.json\") "
   ]
  }
 ],
 "metadata": {
  "kernelspec": {
   "display_name": "Python 3",
   "language": "python",
   "name": "python3"
  },
  "language_info": {
   "codemirror_mode": {
    "name": "ipython",
    "version": 3
   },
   "file_extension": ".py",
   "mimetype": "text/x-python",
   "name": "python",
   "nbconvert_exporter": "python",
   "pygments_lexer": "ipython3",
   "version": "3.13.5"
  }
 },
 "nbformat": 4,
 "nbformat_minor": 5
}
