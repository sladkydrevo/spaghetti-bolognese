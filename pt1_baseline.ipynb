{
 "cells": [
  {
   "cell_type": "code",
   "execution_count": 1,
   "metadata": {},
   "outputs": [],
   "source": [
    "import fasttext\n",
    "\n",
    "ft = fasttext.load_model(\"/Users/sladkydrevo/opt/baka/fasttext/cc.cs.300.bin\")"
   ]
  },
  {
   "cell_type": "code",
   "execution_count": 2,
   "metadata": {},
   "outputs": [],
   "source": [
    "import spacy_udpipe\n",
    "\n",
    "nlp = spacy_udpipe.load(\"cs\")"
   ]
  },
  {
   "cell_type": "code",
   "execution_count": 3,
   "metadata": {},
   "outputs": [],
   "source": [
    "import os\n",
    "\n",
    "def load_texts(folder_path):\n",
    "    \"\"\"Loads .txt files from given directory.\n",
    "    Args:\n",
    "        folder_path (str): path to text to be processed\n",
    "    Returns:\n",
    "        list: list of dictionaires with \"filename\" and \"text\" keys for every file\n",
    "    \"\"\"\n",
    "    texts = []\n",
    "    for filename in sorted(os.listdir(folder_path)):\n",
    "        if filename.endswith(\".txt\"):\n",
    "            text_data = {}\n",
    "            file = os.path.join(folder_path, filename)\n",
    "            filename = os.path.splitext(filename)[0]\n",
    "            \n",
    "            with open(file, \"r\") as f:\n",
    "                text_data[\"filename\"] = filename\n",
    "                text_data[\"text\"] = f.read()\n",
    "            texts.append(text_data)\n",
    "            \n",
    "    return texts"
   ]
  },
  {
   "cell_type": "code",
   "execution_count": 4,
   "metadata": {},
   "outputs": [],
   "source": [
    "def chunk_texts(texts, chunk_size, overlap):\n",
    "    \"\"\"Splits text into chunks of a given length (count of words).\n",
    "    Args:\n",
    "        filename (str): name of the text file\n",
    "        text (str): text to be processed\n",
    "        chunk_size (int): count of words in every text chunk\n",
    "        overlap (int): overlap of words at the end of the text and the beginning of another\n",
    "    Returns:\n",
    "        dictionary: chunk_name as key (filename + _ + order rank of chunk for given text) and text chunk as value for every text\n",
    "    \"\"\"\n",
    "    text_chunks = {}\n",
    "    for text_data in texts:\n",
    "        filename = text_data[\"filename\"]\n",
    "        text = text_data[\"text\"].split()\n",
    "        chunk_id = 1\n",
    "        \n",
    "        for i in range(0, len(text), chunk_size - overlap):\n",
    "            chunk = \" \".join(text[i : i + chunk_size])\n",
    "            chunk_name = f\"{filename}_{chunk_id}\"\n",
    "            text_chunks[chunk_name] = chunk\n",
    "            chunk_id += 1\n",
    "        \n",
    "    return text_chunks"
   ]
  },
  {
   "cell_type": "code",
   "execution_count": 5,
   "metadata": {},
   "outputs": [],
   "source": [
    "def split_dict_data(data):\n",
    "    names = list(data)\n",
    "    texts = list(data.values())\n",
    "    return names, texts"
   ]
  },
  {
   "cell_type": "code",
   "execution_count": 6,
   "metadata": {},
   "outputs": [],
   "source": [
    "def convert_questions_dict(questions):\n",
    "    converted = {}\n",
    "    for q in questions:\n",
    "        converted[q[\"filename\"]] = q[\"text\"]\n",
    "    return converted"
   ]
  },
  {
   "cell_type": "code",
   "execution_count": 7,
   "metadata": {},
   "outputs": [],
   "source": [
    "def preprocess_text(texts):\n",
    "    \"\"\"Tokenizes every text (or chunk) with Spacy, appends tokens that are not stopwords and \n",
    "    are alphanumeric to a new list. Every list is appended to the list of all data.\n",
    "    Args:\n",
    "        texts (list): accepts list of strings (texts, chunks)\n",
    "    Returns:\n",
    "        list: list of lists of tokens\n",
    "    \"\"\"\n",
    "    preprocessed = []\n",
    "    for text in texts:\n",
    "        tokens = []\n",
    "        doc = nlp(text)\n",
    "        for token in doc:\n",
    "            if token.is_alpha and not token.is_stop:\n",
    "                tokens.append(token.lemma_.lower())\n",
    "        preprocessed.append(tokens)\n",
    "    return preprocessed"
   ]
  },
  {
   "cell_type": "code",
   "execution_count": 8,
   "metadata": {},
   "outputs": [],
   "source": [
    "import numpy\n",
    "\n",
    "def embed_texts(preprocessed_texts, model):\n",
    "    embeddings = []\n",
    "    for text in preprocessed_texts:\n",
    "        text_embeddings = []\n",
    "        for token in text:\n",
    "            embedding = model.get_word_vector(token)\n",
    "            text_embeddings.append(embedding)\n",
    "        if len(text_embeddings) > 0:\n",
    "            text_embeddings = numpy.mean(text_embeddings, axis=0)\n",
    "        else:\n",
    "            text_embeddings = numpy.zeros(300)\n",
    "        embeddings.append(text_embeddings)\n",
    "    return numpy.array(embeddings)"
   ]
  },
  {
   "cell_type": "code",
   "execution_count": 9,
   "metadata": {},
   "outputs": [],
   "source": [
    "import pandas as pd\n",
    "\n",
    "def make_similarity_table(chunks_data, questions, similarity_matrix):\n",
    "    rows = [name for name in chunks_data.keys()]\n",
    "    table = pd.DataFrame(similarity_matrix, index=rows, columns=questions)\n",
    "    return table"
   ]
  },
  {
   "cell_type": "code",
   "execution_count": 10,
   "metadata": {},
   "outputs": [],
   "source": [
    "def mask_similarity_table(df, n):\n",
    "    ranked = df.rank(ascending=False, method=\"first\").astype(int)\n",
    "    masked = ranked.where(cond=ranked <= n, other=0)\n",
    "    return masked"
   ]
  },
  {
   "cell_type": "code",
   "execution_count": 11,
   "metadata": {},
   "outputs": [],
   "source": [
    "def get_top_n_answers(chunks_data, questions, df, n):\n",
    "    qna = []\n",
    "    masked_df = mask_similarity_table(df, n)\n",
    "    masked_dict = masked_df.to_dict()\n",
    "    \n",
    "    for question_name, chunk_with_rank in masked_dict.items():\n",
    "        answer_chunks = []\n",
    "        for chunk_name, rank in chunk_with_rank.items():\n",
    "            if rank != 0:\n",
    "                answer_data = {\n",
    "                    \"rank\" : rank,\n",
    "                    \"chunk_name\" : chunk_name,\n",
    "                    \"chunk_text\" : chunks_data[chunk_name]\n",
    "                }\n",
    "                answer_chunks.append(answer_data)\n",
    "        answer_chunks.sort(key=lambda x: x[\"rank\"])\n",
    "        answers = {\n",
    "            \"question_name\" : question_name,\n",
    "            \"question\" : questions[question_name],\n",
    "            \"returned_answers\" : answer_chunks\n",
    "        }\n",
    "        qna.append(answers)  \n",
    "        \n",
    "    return qna"
   ]
  },
  {
   "cell_type": "code",
   "execution_count": 12,
   "metadata": {},
   "outputs": [],
   "source": [
    "import json\n",
    "\n",
    "def save_json(data, path):\n",
    "    with open(path, \"w\", encoding=\"utf-8\") as f:\n",
    "        json.dump(data, f, ensure_ascii=False, indent=5, default=str)"
   ]
  },
  {
   "cell_type": "code",
   "execution_count": 13,
   "metadata": {},
   "outputs": [],
   "source": [
    "def read_txt(path):\n",
    "    with open(path, \"r\", encoding=\"utf-8\") as f:\n",
    "        text = f.read()\n",
    "    return text"
   ]
  },
  {
   "cell_type": "code",
   "execution_count": 14,
   "metadata": {},
   "outputs": [],
   "source": [
    "def load_right_answers(path):\n",
    "    text = read_txt(path).split(\"\\n\")\n",
    "    sorted_right_answers = {}\n",
    "    for number, answer_name in enumerate(text, start=1):\n",
    "        sorted_right_answers[number] = answer_name\n",
    "    return sorted_right_answers"
   ]
  },
  {
   "cell_type": "code",
   "execution_count": 15,
   "metadata": {},
   "outputs": [],
   "source": [
    "def get_rank_table(answers, right_answers):\n",
    "    rank_table = []\n",
    "    for entry in answers:\n",
    "        sorted_chunk_names = [answer[\"chunk_name\"] for answer in entry[\"returned_answers\"]]\n",
    "        rank_table.append(sorted_chunk_names)\n",
    "    rank_table_df = pd.DataFrame(rank_table, index=list(right_answers.values()), columns=range(1,6))\n",
    "    return rank_table_df"
   ]
  },
  {
   "cell_type": "code",
   "execution_count": 52,
   "metadata": {},
   "outputs": [],
   "source": [
    "def get_match_count(table):\n",
    "    return dict((table == numpy.array(table.index)[:, None]).sum(axis=0))"
   ]
  },
  {
   "cell_type": "code",
   "execution_count": 17,
   "metadata": {},
   "outputs": [],
   "source": [
    "def get_top_accuracies(results, questions):\n",
    "    counts = list(results.values())\n",
    "    cumulative_sums = []\n",
    "    for k in (1, 3, 5):\n",
    "        result = sum(counts[:k]) / len(questions)\n",
    "        cumulative_sums.append(result)\n",
    "    return cumulative_sums"
   ]
  },
  {
   "cell_type": "code",
   "execution_count": 49,
   "metadata": {},
   "outputs": [],
   "source": [
    "import csv\n",
    "\n",
    "def write_to_csv_top_5(path, new=False, results=None, model_name=None):\n",
    "    if new:\n",
    "        with open(path, \"w\") as f:\n",
    "            writer = csv.writer(f, delimiter=\",\", )\n",
    "            writer.writerow([\"MODEL NAME\", \"TOP 1\", \"TOP 3\", \"TOP 5\"])\n",
    "    with open(path, \"a\") as f:\n",
    "        writer = csv.writer(f, delimiter=\",\")\n",
    "        results = list(results)\n",
    "        results.insert(0, model_name)\n",
    "        writer.writerow(results)\n",
    "        print(f\"Results inserted to csv file. Model name: {model_name} Results: {results}\")"
   ]
  },
  {
   "cell_type": "code",
   "execution_count": 19,
   "metadata": {},
   "outputs": [],
   "source": [
    "TEXTS_FOLDER_PATH = \"/Users/sladkydrevo/opt/baka/dataset/texts\"\n",
    "texts = load_texts(TEXTS_FOLDER_PATH)"
   ]
  },
  {
   "cell_type": "code",
   "execution_count": 20,
   "metadata": {},
   "outputs": [],
   "source": [
    "chunk_data = chunk_texts(texts, chunk_size=128, overlap=10)"
   ]
  },
  {
   "cell_type": "code",
   "execution_count": 21,
   "metadata": {},
   "outputs": [],
   "source": [
    "path_to_all_chunks = \"/Users/sladkydrevo/opt/baka/all_chunks.txt\"\n",
    "save_json(chunk_data, path_to_all_chunks)"
   ]
  },
  {
   "cell_type": "code",
   "execution_count": 22,
   "metadata": {},
   "outputs": [],
   "source": [
    "chunk_names, text_chunks = split_dict_data(chunk_data) "
   ]
  },
  {
   "cell_type": "code",
   "execution_count": 23,
   "metadata": {},
   "outputs": [],
   "source": [
    "QUESTIONS_FOLDER_PATH = \"/Users/sladkydrevo/opt/baka/dataset/questions\"\n",
    "questions_data = load_texts(QUESTIONS_FOLDER_PATH)"
   ]
  },
  {
   "cell_type": "code",
   "execution_count": 24,
   "metadata": {},
   "outputs": [],
   "source": [
    "questions = convert_questions_dict(questions_data)"
   ]
  },
  {
   "cell_type": "code",
   "execution_count": 25,
   "metadata": {},
   "outputs": [],
   "source": [
    "question_names, question_texts = split_dict_data(questions) "
   ]
  },
  {
   "cell_type": "code",
   "execution_count": 26,
   "metadata": {},
   "outputs": [],
   "source": [
    "preprocessed_texts = preprocess_text(text_chunks)"
   ]
  },
  {
   "cell_type": "code",
   "execution_count": 27,
   "metadata": {},
   "outputs": [],
   "source": [
    "preprocessed_questions = preprocess_text(question_texts)"
   ]
  },
  {
   "cell_type": "code",
   "execution_count": 28,
   "metadata": {},
   "outputs": [],
   "source": [
    "text_embeddings = embed_texts(preprocessed_texts, model=ft)"
   ]
  },
  {
   "cell_type": "code",
   "execution_count": 29,
   "metadata": {},
   "outputs": [],
   "source": [
    "question_embeddings = embed_texts(preprocessed_questions, model=ft)"
   ]
  },
  {
   "cell_type": "code",
   "execution_count": 30,
   "metadata": {},
   "outputs": [],
   "source": [
    "from sklearn.metrics.pairwise import cosine_similarity\n",
    "\n",
    "similarity_matrix = cosine_similarity(text_embeddings, question_embeddings)"
   ]
  },
  {
   "cell_type": "code",
   "execution_count": 31,
   "metadata": {},
   "outputs": [],
   "source": [
    "similarities_df = make_similarity_table(chunk_data, questions, similarity_matrix)"
   ]
  },
  {
   "cell_type": "code",
   "execution_count": 32,
   "metadata": {},
   "outputs": [],
   "source": [
    "masked = mask_similarity_table(similarities_df, n=5)"
   ]
  },
  {
   "cell_type": "code",
   "execution_count": 33,
   "metadata": {},
   "outputs": [],
   "source": [
    "masked.to_csv(\"/Users/sladkydrevo/opt/baka/matrix.csv\")"
   ]
  },
  {
   "cell_type": "code",
   "execution_count": 34,
   "metadata": {},
   "outputs": [],
   "source": [
    "answers = get_top_n_answers(chunk_data, questions, similarities_df, n=5)"
   ]
  },
  {
   "cell_type": "code",
   "execution_count": 36,
   "metadata": {},
   "outputs": [],
   "source": [
    "RESULTS_PATH = \"/Users/sladkydrevo/opt/baka/pt1_baseline_results3.json\"\n",
    "save_json(answers, RESULTS_PATH)"
   ]
  },
  {
   "cell_type": "code",
   "execution_count": 37,
   "metadata": {},
   "outputs": [],
   "source": [
    "path_to_right_answers = \"/Users/sladkydrevo/opt/baka/right_answers.txt\"\n",
    "right_answers = load_right_answers(path_to_right_answers)"
   ]
  },
  {
   "cell_type": "code",
   "execution_count": 38,
   "metadata": {},
   "outputs": [
    {
     "data": {
      "application/vnd.microsoft.datawrangler.viewer.v0+json": {
       "columns": [
        {
         "name": "index",
         "rawType": "object",
         "type": "string"
        },
        {
         "name": "1",
         "rawType": "object",
         "type": "string"
        },
        {
         "name": "2",
         "rawType": "object",
         "type": "string"
        },
        {
         "name": "3",
         "rawType": "object",
         "type": "string"
        },
        {
         "name": "4",
         "rawType": "object",
         "type": "string"
        },
        {
         "name": "5",
         "rawType": "object",
         "type": "string"
        }
       ],
       "conversionMethod": "pd.DataFrame",
       "ref": "fa92ee92-a131-4394-aa92-4652f89d8f13",
       "rows": [
        [
         "01VN_Neptun_2",
         "10VN_Kus_zdi_2",
         "01VN_Neptun_3",
         "03VN_Podzemni_ocean_2",
         "01VN_Neptun_2",
         "06VN_Exosystem_2"
        ],
        [
         "02VN_Tajemny_signal_3",
         "02VN_Tajemny_signal_4",
         "04VN_Zablesky_2",
         "02VN_Tajemny_signal_3",
         "02VN_Tajemny_signal_1",
         "02VN_Tajemny_signal_2"
        ],
        [
         "03VN_Podzemni_ocean_1",
         "03VN_Podzemni_ocean_1",
         "03VN_Podzemni_ocean_4",
         "01VN_Neptun_3",
         "10VN_Kus_zdi_2",
         "09VN_Orion_2"
        ],
        [
         "04VN_Zablesky_4",
         "04VN_Zablesky_1",
         "08VN_Galaxie_T57_1",
         "08VN_Galaxie_T57_2",
         "04VN_Zablesky_4",
         "01VN_Neptun_1"
        ],
        [
         "05VN_Podzemni_jezera_5",
         "05VN_Podzemni_jezera_1",
         "05VN_Podzemni_jezera_6",
         "05VN_Podzemni_jezera_5",
         "05VN_Podzemni_jezera_4",
         "01VN_Neptun_4"
        ],
        [
         "06VN_Exosystem_3",
         "06VN_Exosystem_4",
         "06VN_Exosystem_2",
         "06VN_Exosystem_1",
         "06VN_Exosystem_3",
         "08VN_Galaxie_T57_1"
        ],
        [
         "07VN_Temna_hmota_4",
         "07VN_Temna_hmota_3",
         "07VN_Temna_hmota_4",
         "07VN_Temna_hmota_2",
         "07VN_Temna_hmota_1",
         "07VN_Temna_hmota_6"
        ],
        [
         "08VN_Galaxie_T57_2",
         "04VN_Zablesky_1",
         "08VN_Galaxie_T57_2",
         "08VN_Galaxie_T57_1",
         "04VN_Zablesky_4",
         "04VN_Zablesky_3"
        ],
        [
         "09VN_Orion_4",
         "09VN_Orion_3",
         "09VN_Orion_1",
         "09VN_Orion_5",
         "09VN_Orion_4",
         "07VN_Temna_hmota_3"
        ],
        [
         "10VN_Kus_zdi_3",
         "10VN_Kus_zdi_1",
         "10VN_Kus_zdi_4",
         "10VN_Kus_zdi_3",
         "10VN_Kus_zdi_2",
         "01VN_Neptun_3"
        ],
        [
         "11AI_Vlastni_jazyk_3",
         "11AI_Vlastni_jazyk_3",
         "16AI_Vyvoj_leku_7",
         "12AI_Cteni_myslenek_1",
         "13AI_Matematicky_vzorec_4",
         "16AI_Vyvoj_leku_3"
        ],
        [
         "12AI_Cteni_myslenek_3",
         "17AI_Vedomi_3",
         "19AI_Lidske_mysleni_4",
         "17AI_Vedomi_4",
         "17AI_Vedomi_2",
         "12AI_Cteni_myslenek_5"
        ],
        [
         "13AI_Matematicky_vzorec_4",
         "14AI_Emoce_autonomie_4",
         "14AI_Emoce_autonomie_2",
         "11AI_Vlastni_jazyk_1",
         "11AI_Vlastni_jazyk_4",
         "16AI_Vyvoj_leku_6"
        ],
        [
         "14AI_Emoce_autonomie_1",
         "15AI_Budoucnost_1",
         "19AI_Lidske_mysleni_1",
         "19AI_Lidske_mysleni_3",
         "13AI_Matematicky_vzorec_2",
         "17AI_Vedomi_1"
        ],
        [
         "15AI_Budoucnost_1",
         "12AI_Cteni_myslenek_1",
         "16AI_Vyvoj_leku_7",
         "11AI_Vlastni_jazyk_3",
         "13AI_Matematicky_vzorec_4",
         "19AI_Lidske_mysleni_6"
        ],
        [
         "16AI_Vyvoj_leku_3",
         "16AI_Vyvoj_leku_4",
         "04VN_Zablesky_5",
         "16AI_Vyvoj_leku_3",
         "02VN_Tajemny_signal_4",
         "16AI_Vyvoj_leku_1"
        ],
        [
         "17AI_Vedomi_2",
         "12AI_Cteni_myslenek_3",
         "10VN_Kus_zdi_4",
         "17AI_Vedomi_2",
         "02VN_Tajemny_signal_4",
         "11AI_Vlastni_jazyk_5"
        ],
        [
         "18AI_Diagnostika_3",
         "12AI_Cteni_myslenek_1",
         "16AI_Vyvoj_leku_7",
         "11AI_Vlastni_jazyk_3",
         "13AI_Matematicky_vzorec_4",
         "16AI_Vyvoj_leku_2"
        ],
        [
         "19AI_Lidske_mysleni_5",
         "15AI_Budoucnost_2",
         "19AI_Lidske_mysleni_1",
         "03VN_Podzemni_ocean_5",
         "17AI_Vedomi_1",
         "15AI_Budoucnost_5"
        ],
        [
         "20AI_Klima_1",
         "12AI_Cteni_myslenek_1",
         "16AI_Vyvoj_leku_7",
         "11AI_Vlastni_jazyk_3",
         "13AI_Matematicky_vzorec_4",
         "16AI_Vyvoj_leku_3"
        ]
       ],
       "shape": {
        "columns": 5,
        "rows": 20
       }
      },
      "text/html": [
       "<div>\n",
       "<style scoped>\n",
       "    .dataframe tbody tr th:only-of-type {\n",
       "        vertical-align: middle;\n",
       "    }\n",
       "\n",
       "    .dataframe tbody tr th {\n",
       "        vertical-align: top;\n",
       "    }\n",
       "\n",
       "    .dataframe thead th {\n",
       "        text-align: right;\n",
       "    }\n",
       "</style>\n",
       "<table border=\"1\" class=\"dataframe\">\n",
       "  <thead>\n",
       "    <tr style=\"text-align: right;\">\n",
       "      <th></th>\n",
       "      <th>1</th>\n",
       "      <th>2</th>\n",
       "      <th>3</th>\n",
       "      <th>4</th>\n",
       "      <th>5</th>\n",
       "    </tr>\n",
       "  </thead>\n",
       "  <tbody>\n",
       "    <tr>\n",
       "      <th>01VN_Neptun_2</th>\n",
       "      <td>10VN_Kus_zdi_2</td>\n",
       "      <td>01VN_Neptun_3</td>\n",
       "      <td>03VN_Podzemni_ocean_2</td>\n",
       "      <td>01VN_Neptun_2</td>\n",
       "      <td>06VN_Exosystem_2</td>\n",
       "    </tr>\n",
       "    <tr>\n",
       "      <th>02VN_Tajemny_signal_3</th>\n",
       "      <td>02VN_Tajemny_signal_4</td>\n",
       "      <td>04VN_Zablesky_2</td>\n",
       "      <td>02VN_Tajemny_signal_3</td>\n",
       "      <td>02VN_Tajemny_signal_1</td>\n",
       "      <td>02VN_Tajemny_signal_2</td>\n",
       "    </tr>\n",
       "    <tr>\n",
       "      <th>03VN_Podzemni_ocean_1</th>\n",
       "      <td>03VN_Podzemni_ocean_1</td>\n",
       "      <td>03VN_Podzemni_ocean_4</td>\n",
       "      <td>01VN_Neptun_3</td>\n",
       "      <td>10VN_Kus_zdi_2</td>\n",
       "      <td>09VN_Orion_2</td>\n",
       "    </tr>\n",
       "    <tr>\n",
       "      <th>04VN_Zablesky_4</th>\n",
       "      <td>04VN_Zablesky_1</td>\n",
       "      <td>08VN_Galaxie_T57_1</td>\n",
       "      <td>08VN_Galaxie_T57_2</td>\n",
       "      <td>04VN_Zablesky_4</td>\n",
       "      <td>01VN_Neptun_1</td>\n",
       "    </tr>\n",
       "    <tr>\n",
       "      <th>05VN_Podzemni_jezera_5</th>\n",
       "      <td>05VN_Podzemni_jezera_1</td>\n",
       "      <td>05VN_Podzemni_jezera_6</td>\n",
       "      <td>05VN_Podzemni_jezera_5</td>\n",
       "      <td>05VN_Podzemni_jezera_4</td>\n",
       "      <td>01VN_Neptun_4</td>\n",
       "    </tr>\n",
       "    <tr>\n",
       "      <th>06VN_Exosystem_3</th>\n",
       "      <td>06VN_Exosystem_4</td>\n",
       "      <td>06VN_Exosystem_2</td>\n",
       "      <td>06VN_Exosystem_1</td>\n",
       "      <td>06VN_Exosystem_3</td>\n",
       "      <td>08VN_Galaxie_T57_1</td>\n",
       "    </tr>\n",
       "    <tr>\n",
       "      <th>07VN_Temna_hmota_4</th>\n",
       "      <td>07VN_Temna_hmota_3</td>\n",
       "      <td>07VN_Temna_hmota_4</td>\n",
       "      <td>07VN_Temna_hmota_2</td>\n",
       "      <td>07VN_Temna_hmota_1</td>\n",
       "      <td>07VN_Temna_hmota_6</td>\n",
       "    </tr>\n",
       "    <tr>\n",
       "      <th>08VN_Galaxie_T57_2</th>\n",
       "      <td>04VN_Zablesky_1</td>\n",
       "      <td>08VN_Galaxie_T57_2</td>\n",
       "      <td>08VN_Galaxie_T57_1</td>\n",
       "      <td>04VN_Zablesky_4</td>\n",
       "      <td>04VN_Zablesky_3</td>\n",
       "    </tr>\n",
       "    <tr>\n",
       "      <th>09VN_Orion_4</th>\n",
       "      <td>09VN_Orion_3</td>\n",
       "      <td>09VN_Orion_1</td>\n",
       "      <td>09VN_Orion_5</td>\n",
       "      <td>09VN_Orion_4</td>\n",
       "      <td>07VN_Temna_hmota_3</td>\n",
       "    </tr>\n",
       "    <tr>\n",
       "      <th>10VN_Kus_zdi_3</th>\n",
       "      <td>10VN_Kus_zdi_1</td>\n",
       "      <td>10VN_Kus_zdi_4</td>\n",
       "      <td>10VN_Kus_zdi_3</td>\n",
       "      <td>10VN_Kus_zdi_2</td>\n",
       "      <td>01VN_Neptun_3</td>\n",
       "    </tr>\n",
       "    <tr>\n",
       "      <th>11AI_Vlastni_jazyk_3</th>\n",
       "      <td>11AI_Vlastni_jazyk_3</td>\n",
       "      <td>16AI_Vyvoj_leku_7</td>\n",
       "      <td>12AI_Cteni_myslenek_1</td>\n",
       "      <td>13AI_Matematicky_vzorec_4</td>\n",
       "      <td>16AI_Vyvoj_leku_3</td>\n",
       "    </tr>\n",
       "    <tr>\n",
       "      <th>12AI_Cteni_myslenek_3</th>\n",
       "      <td>17AI_Vedomi_3</td>\n",
       "      <td>19AI_Lidske_mysleni_4</td>\n",
       "      <td>17AI_Vedomi_4</td>\n",
       "      <td>17AI_Vedomi_2</td>\n",
       "      <td>12AI_Cteni_myslenek_5</td>\n",
       "    </tr>\n",
       "    <tr>\n",
       "      <th>13AI_Matematicky_vzorec_4</th>\n",
       "      <td>14AI_Emoce_autonomie_4</td>\n",
       "      <td>14AI_Emoce_autonomie_2</td>\n",
       "      <td>11AI_Vlastni_jazyk_1</td>\n",
       "      <td>11AI_Vlastni_jazyk_4</td>\n",
       "      <td>16AI_Vyvoj_leku_6</td>\n",
       "    </tr>\n",
       "    <tr>\n",
       "      <th>14AI_Emoce_autonomie_1</th>\n",
       "      <td>15AI_Budoucnost_1</td>\n",
       "      <td>19AI_Lidske_mysleni_1</td>\n",
       "      <td>19AI_Lidske_mysleni_3</td>\n",
       "      <td>13AI_Matematicky_vzorec_2</td>\n",
       "      <td>17AI_Vedomi_1</td>\n",
       "    </tr>\n",
       "    <tr>\n",
       "      <th>15AI_Budoucnost_1</th>\n",
       "      <td>12AI_Cteni_myslenek_1</td>\n",
       "      <td>16AI_Vyvoj_leku_7</td>\n",
       "      <td>11AI_Vlastni_jazyk_3</td>\n",
       "      <td>13AI_Matematicky_vzorec_4</td>\n",
       "      <td>19AI_Lidske_mysleni_6</td>\n",
       "    </tr>\n",
       "    <tr>\n",
       "      <th>16AI_Vyvoj_leku_3</th>\n",
       "      <td>16AI_Vyvoj_leku_4</td>\n",
       "      <td>04VN_Zablesky_5</td>\n",
       "      <td>16AI_Vyvoj_leku_3</td>\n",
       "      <td>02VN_Tajemny_signal_4</td>\n",
       "      <td>16AI_Vyvoj_leku_1</td>\n",
       "    </tr>\n",
       "    <tr>\n",
       "      <th>17AI_Vedomi_2</th>\n",
       "      <td>12AI_Cteni_myslenek_3</td>\n",
       "      <td>10VN_Kus_zdi_4</td>\n",
       "      <td>17AI_Vedomi_2</td>\n",
       "      <td>02VN_Tajemny_signal_4</td>\n",
       "      <td>11AI_Vlastni_jazyk_5</td>\n",
       "    </tr>\n",
       "    <tr>\n",
       "      <th>18AI_Diagnostika_3</th>\n",
       "      <td>12AI_Cteni_myslenek_1</td>\n",
       "      <td>16AI_Vyvoj_leku_7</td>\n",
       "      <td>11AI_Vlastni_jazyk_3</td>\n",
       "      <td>13AI_Matematicky_vzorec_4</td>\n",
       "      <td>16AI_Vyvoj_leku_2</td>\n",
       "    </tr>\n",
       "    <tr>\n",
       "      <th>19AI_Lidske_mysleni_5</th>\n",
       "      <td>15AI_Budoucnost_2</td>\n",
       "      <td>19AI_Lidske_mysleni_1</td>\n",
       "      <td>03VN_Podzemni_ocean_5</td>\n",
       "      <td>17AI_Vedomi_1</td>\n",
       "      <td>15AI_Budoucnost_5</td>\n",
       "    </tr>\n",
       "    <tr>\n",
       "      <th>20AI_Klima_1</th>\n",
       "      <td>12AI_Cteni_myslenek_1</td>\n",
       "      <td>16AI_Vyvoj_leku_7</td>\n",
       "      <td>11AI_Vlastni_jazyk_3</td>\n",
       "      <td>13AI_Matematicky_vzorec_4</td>\n",
       "      <td>16AI_Vyvoj_leku_3</td>\n",
       "    </tr>\n",
       "  </tbody>\n",
       "</table>\n",
       "</div>"
      ],
      "text/plain": [
       "                                                1                       2  \\\n",
       "01VN_Neptun_2                      10VN_Kus_zdi_2           01VN_Neptun_3   \n",
       "02VN_Tajemny_signal_3       02VN_Tajemny_signal_4         04VN_Zablesky_2   \n",
       "03VN_Podzemni_ocean_1       03VN_Podzemni_ocean_1   03VN_Podzemni_ocean_4   \n",
       "04VN_Zablesky_4                   04VN_Zablesky_1      08VN_Galaxie_T57_1   \n",
       "05VN_Podzemni_jezera_5     05VN_Podzemni_jezera_1  05VN_Podzemni_jezera_6   \n",
       "06VN_Exosystem_3                 06VN_Exosystem_4        06VN_Exosystem_2   \n",
       "07VN_Temna_hmota_4             07VN_Temna_hmota_3      07VN_Temna_hmota_4   \n",
       "08VN_Galaxie_T57_2                04VN_Zablesky_1      08VN_Galaxie_T57_2   \n",
       "09VN_Orion_4                         09VN_Orion_3            09VN_Orion_1   \n",
       "10VN_Kus_zdi_3                     10VN_Kus_zdi_1          10VN_Kus_zdi_4   \n",
       "11AI_Vlastni_jazyk_3         11AI_Vlastni_jazyk_3       16AI_Vyvoj_leku_7   \n",
       "12AI_Cteni_myslenek_3               17AI_Vedomi_3   19AI_Lidske_mysleni_4   \n",
       "13AI_Matematicky_vzorec_4  14AI_Emoce_autonomie_4  14AI_Emoce_autonomie_2   \n",
       "14AI_Emoce_autonomie_1          15AI_Budoucnost_1   19AI_Lidske_mysleni_1   \n",
       "15AI_Budoucnost_1           12AI_Cteni_myslenek_1       16AI_Vyvoj_leku_7   \n",
       "16AI_Vyvoj_leku_3               16AI_Vyvoj_leku_4         04VN_Zablesky_5   \n",
       "17AI_Vedomi_2               12AI_Cteni_myslenek_3          10VN_Kus_zdi_4   \n",
       "18AI_Diagnostika_3          12AI_Cteni_myslenek_1       16AI_Vyvoj_leku_7   \n",
       "19AI_Lidske_mysleni_5           15AI_Budoucnost_2   19AI_Lidske_mysleni_1   \n",
       "20AI_Klima_1                12AI_Cteni_myslenek_1       16AI_Vyvoj_leku_7   \n",
       "\n",
       "                                                3                          4  \\\n",
       "01VN_Neptun_2               03VN_Podzemni_ocean_2              01VN_Neptun_2   \n",
       "02VN_Tajemny_signal_3       02VN_Tajemny_signal_3      02VN_Tajemny_signal_1   \n",
       "03VN_Podzemni_ocean_1               01VN_Neptun_3             10VN_Kus_zdi_2   \n",
       "04VN_Zablesky_4                08VN_Galaxie_T57_2            04VN_Zablesky_4   \n",
       "05VN_Podzemni_jezera_5     05VN_Podzemni_jezera_5     05VN_Podzemni_jezera_4   \n",
       "06VN_Exosystem_3                 06VN_Exosystem_1           06VN_Exosystem_3   \n",
       "07VN_Temna_hmota_4             07VN_Temna_hmota_2         07VN_Temna_hmota_1   \n",
       "08VN_Galaxie_T57_2             08VN_Galaxie_T57_1            04VN_Zablesky_4   \n",
       "09VN_Orion_4                         09VN_Orion_5               09VN_Orion_4   \n",
       "10VN_Kus_zdi_3                     10VN_Kus_zdi_3             10VN_Kus_zdi_2   \n",
       "11AI_Vlastni_jazyk_3        12AI_Cteni_myslenek_1  13AI_Matematicky_vzorec_4   \n",
       "12AI_Cteni_myslenek_3               17AI_Vedomi_4              17AI_Vedomi_2   \n",
       "13AI_Matematicky_vzorec_4    11AI_Vlastni_jazyk_1       11AI_Vlastni_jazyk_4   \n",
       "14AI_Emoce_autonomie_1      19AI_Lidske_mysleni_3  13AI_Matematicky_vzorec_2   \n",
       "15AI_Budoucnost_1            11AI_Vlastni_jazyk_3  13AI_Matematicky_vzorec_4   \n",
       "16AI_Vyvoj_leku_3               16AI_Vyvoj_leku_3      02VN_Tajemny_signal_4   \n",
       "17AI_Vedomi_2                       17AI_Vedomi_2      02VN_Tajemny_signal_4   \n",
       "18AI_Diagnostika_3           11AI_Vlastni_jazyk_3  13AI_Matematicky_vzorec_4   \n",
       "19AI_Lidske_mysleni_5       03VN_Podzemni_ocean_5              17AI_Vedomi_1   \n",
       "20AI_Klima_1                 11AI_Vlastni_jazyk_3  13AI_Matematicky_vzorec_4   \n",
       "\n",
       "                                               5  \n",
       "01VN_Neptun_2                   06VN_Exosystem_2  \n",
       "02VN_Tajemny_signal_3      02VN_Tajemny_signal_2  \n",
       "03VN_Podzemni_ocean_1               09VN_Orion_2  \n",
       "04VN_Zablesky_4                    01VN_Neptun_1  \n",
       "05VN_Podzemni_jezera_5             01VN_Neptun_4  \n",
       "06VN_Exosystem_3              08VN_Galaxie_T57_1  \n",
       "07VN_Temna_hmota_4            07VN_Temna_hmota_6  \n",
       "08VN_Galaxie_T57_2               04VN_Zablesky_3  \n",
       "09VN_Orion_4                  07VN_Temna_hmota_3  \n",
       "10VN_Kus_zdi_3                     01VN_Neptun_3  \n",
       "11AI_Vlastni_jazyk_3           16AI_Vyvoj_leku_3  \n",
       "12AI_Cteni_myslenek_3      12AI_Cteni_myslenek_5  \n",
       "13AI_Matematicky_vzorec_4      16AI_Vyvoj_leku_6  \n",
       "14AI_Emoce_autonomie_1             17AI_Vedomi_1  \n",
       "15AI_Budoucnost_1          19AI_Lidske_mysleni_6  \n",
       "16AI_Vyvoj_leku_3              16AI_Vyvoj_leku_1  \n",
       "17AI_Vedomi_2               11AI_Vlastni_jazyk_5  \n",
       "18AI_Diagnostika_3             16AI_Vyvoj_leku_2  \n",
       "19AI_Lidske_mysleni_5          15AI_Budoucnost_5  \n",
       "20AI_Klima_1                   16AI_Vyvoj_leku_3  "
      ]
     },
     "execution_count": 38,
     "metadata": {},
     "output_type": "execute_result"
    }
   ],
   "source": [
    "rank_table_df = get_rank_table(answers, right_answers)\n",
    "rank_table_df"
   ]
  },
  {
   "cell_type": "code",
   "execution_count": 53,
   "metadata": {},
   "outputs": [],
   "source": [
    "match_results = get_match_count(rank_table_df)"
   ]
  },
  {
   "cell_type": "code",
   "execution_count": 40,
   "metadata": {},
   "outputs": [],
   "source": [
    "tops = get_top_accuracies(match_results, questions)"
   ]
  },
  {
   "cell_type": "code",
   "execution_count": 47,
   "metadata": {},
   "outputs": [],
   "source": [
    "path_to_models_results = \"/Users/sladkydrevo/opt/baka/MODELS_RESULTS.csv\""
   ]
  },
  {
   "cell_type": "code",
   "execution_count": 50,
   "metadata": {},
   "outputs": [
    {
     "name": "stdout",
     "output_type": "stream",
     "text": [
      "Results inserted to csv file. Model name: fastText Results: ['fastText', 0.1, 0.45, 0.65]\n"
     ]
    }
   ],
   "source": [
    "write_to_csv_top_5(path_to_models_results, new=True, results=tops, model_name=\"fastText\")"
   ]
  }
 ],
 "metadata": {
  "kernelspec": {
   "display_name": "base",
   "language": "python",
   "name": "python3"
  },
  "language_info": {
   "codemirror_mode": {
    "name": "ipython",
    "version": 3
   },
   "file_extension": ".py",
   "mimetype": "text/x-python",
   "name": "python",
   "nbconvert_exporter": "python",
   "pygments_lexer": "ipython3",
   "version": "3.9.12"
  }
 },
 "nbformat": 4,
 "nbformat_minor": 2
}
